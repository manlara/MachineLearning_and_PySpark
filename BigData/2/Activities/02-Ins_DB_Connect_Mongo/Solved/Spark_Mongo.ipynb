{
 "cells": [
  {
   "cell_type": "markdown",
   "metadata": {},
   "source": [
    "## Docs\n",
    "\n",
    "MongoDB Spark connector\n",
    "\n",
    "https://docs.mongodb.com/spark-connector/master/python-api/"
   ]
  },
  {
   "cell_type": "code",
   "execution_count": 1,
   "metadata": {},
   "outputs": [],
   "source": [
    "# Install Additional Python Libraries\n",
    "!pip install -r requirements.txt"
   ]
  },
  {
   "cell_type": "code",
   "execution_count": 2,
   "metadata": {},
   "outputs": [
    {
     "name": "stdout",
     "output_type": "stream",
     "text": [
      "Adding environment variable `PYSPARK_SUBMIT_ARGS`\n",
      "--packages com.databricks:spark-csv_2.11:1.5.0,org.mongodb.spark:mongo-spark-connector_2.11:2.4.1 pyspark-shell\n"
     ]
    }
   ],
   "source": [
    "# Need postgres\n",
    "# https://mvnrepository.com/artifact/org.postgresql/postgresql\n",
    "from spark_libs import spark_submit\n",
    "packages = [\"com.databricks:spark-csv_2.11:1.5.0\", \n",
    "            \"org.mongodb.spark:mongo-spark-connector_2.11:2.4.1\"]\n",
    "spark_submit(packages=packages)"
   ]
  },
  {
   "cell_type": "code",
   "execution_count": 3,
   "metadata": {},
   "outputs": [],
   "source": [
    "from pyspark.sql import SparkSession\n",
    "from pyspark import SparkFiles\n",
    "from pyspark.sql import DataFrame\n",
    "import pyspark.sql.functions as F"
   ]
  },
  {
   "cell_type": "code",
   "execution_count": 4,
   "metadata": {},
   "outputs": [],
   "source": [
    "# get or create Spark session\n",
    "\n",
    "app_name = \"spark-mongodb\"\n",
    "spark = SparkSession.builder.appName(app_name).getOrCreate()"
   ]
  },
  {
   "cell_type": "code",
   "execution_count": 5,
   "metadata": {},
   "outputs": [
    {
     "name": "stdout",
     "output_type": "stream",
     "text": [
      "root\n",
      " |-- billing_id: integer (nullable = true)\n",
      " |-- username: string (nullable = true)\n",
      " |-- cc_encrypted: string (nullable = true)\n",
      "\n",
      "root\n",
      " |-- id: integer (nullable = true)\n",
      " |-- first_name: string (nullable = true)\n",
      " |-- last_name: string (nullable = true)\n",
      " |-- active_user: boolean (nullable = true)\n",
      " |-- street_address: string (nullable = true)\n",
      " |-- state: string (nullable = true)\n",
      " |-- username: string (nullable = true)\n",
      "\n"
     ]
    }
   ],
   "source": [
    "user_payment_file =\"../Resources/user_payment.csv\"\n",
    "user_data_file =\"../Resources/user_data.csv\"\n",
    "\n",
    "spark.sparkContext.addFile(user_payment_file)\n",
    "spark.sparkContext.addFile(user_data_file)\n",
    "\n",
    "df_payment = spark.read \\\n",
    "    .format(\"com.databricks.spark.csv\") \\\n",
    "    .options(header='true', inferSchema=\"true\") \\\n",
    "    .load(SparkFiles.get(\"user_payment.csv\"))\n",
    "df_payment.printSchema()\n",
    "\n",
    "\n",
    "df_data = spark.read \\\n",
    "    .format(\"com.databricks.spark.csv\") \\\n",
    "    .options(header='true', inferSchema=\"true\") \\\n",
    "    .load(SparkFiles.get(\"user_data.csv\"))\n",
    "df_data.printSchema()"
   ]
  },
  {
   "cell_type": "code",
   "execution_count": 7,
   "metadata": {},
   "outputs": [],
   "source": [
    "connection = {\n",
    "    \"hostname\": \"host.docker.internal\",\n",
    "    \"port\": \"27017\"\n",
    "}\n",
    "database = \"users\""
   ]
  },
  {
   "cell_type": "code",
   "execution_count": 8,
   "metadata": {},
   "outputs": [],
   "source": [
    "# Mongo credentials\n",
    "def createMongoURI(connection, database, collection):\n",
    "    mongoHostname = connection['hostname']\n",
    "    mongoPort = connection['port']\n",
    "    mongoDatabase = database\n",
    "    mongoCollection = collection\n",
    "    mongoUsername = connection.get('username')\n",
    "    mongoPassword = connection.get('password')\n",
    "    mongoReplica = connection.get('replica')\n",
    "    \n",
    "    baseURI = \"mongodb://\"\n",
    "    if bool(mongoUsername) and bool(mongoPassword):\n",
    "        baseURI += f\"{mongoUsername}:{mongoPassword}@\"\n",
    "    mongoHosts = \",\".join([\n",
    "        f\"{host}:{mongoPort}\"\n",
    "        for host in mongoHostname.split(\",\")\n",
    "    ])\n",
    "    mongoURI = f\"{baseURI}{mongoHosts}/{mongoDatabase}\"\n",
    "    if bool(mongoReplica):\n",
    "        mongoURI = f\"{mongoURI}.{mongoCollection}?replicaSet={mongoReplica}\"\n",
    "    else:\n",
    "        mongoURI = f\"{mongoURI}.{mongoCollection}\"\n",
    "    return mongoURI"
   ]
  },
  {
   "cell_type": "code",
   "execution_count": 9,
   "metadata": {},
   "outputs": [
    {
     "name": "stdout",
     "output_type": "stream",
     "text": [
      "mongodb://host.docker.internal:27017/users.user_data\n",
      "mongodb://host.docker.internal:27017/users.user_payment\n"
     ]
    }
   ],
   "source": [
    "collection = \"user_data\"\n",
    "mongoURI = createMongoURI(connection, database, collection)\n",
    "print(mongoURI)\n",
    "\n",
    "collection = \"user_payment\"\n",
    "mongoURI = createMongoURI(connection, database, collection)\n",
    "print(mongoURI)"
   ]
  },
  {
   "cell_type": "markdown",
   "metadata": {},
   "source": [
    "## Loading into Mongo\n",
    "\n",
    "When updating the default behavior is to replace the original document in Mongo. Example\n",
    "\n",
    "\n",
    "Starting collection. Single document\n",
    "```\n",
    "{\n",
    " \"_id\":1, \n",
    " \"age\": 10,\n",
    " \"foo\": 20\n",
    "}\n",
    "```\n",
    "\n",
    "If we have a Spark dataframe like\n",
    "\n",
    "```\n",
    "_id | val\n",
    " 1  | 'a'\n",
    " 2  | 'b'\n",
    "```\n",
    "\n",
    "If replaceDocument = True (default) then you get\n",
    "\n",
    "```\n",
    "[   \n",
    "    {\n",
    "     \"_id\":1, \n",
    "     \"val\": 'a'\n",
    "    },\n",
    "   {\n",
    "     \"_id\":2, \n",
    "     \"val':'b' \n",
    "    }\n",
    "]\n",
    "```\n",
    "\n",
    "replaceDocument = False gives you\n",
    "\n",
    "```\n",
    "[   \n",
    "    {\n",
    "     \"_id\":1, \n",
    "     \"age\": 10,\n",
    "     \"foo\": 20\n",
    "     \"val\": 'a'\n",
    "    },\n",
    "   {\n",
    "     \"_id\":2, \n",
    "     \"val':'b' \n",
    "    }\n",
    "]\n",
    "```"
   ]
  },
  {
   "cell_type": "code",
   "execution_count": 12,
   "metadata": {},
   "outputs": [
    {
     "name": "stdout",
     "output_type": "stream",
     "text": [
      "mongodb://host.docker.internal:27017/users.user_data\n"
     ]
    }
   ],
   "source": [
    "mode = \"overwrite\" # options are: error, append, overwrite\n",
    "replaceDocument = False # this is for updates so documents don't get replaced on update\n",
    "\n",
    "collection = \"user_data\"\n",
    "mongoURI = createMongoURI(connection, database, collection)\n",
    "print(mongoURI)\n",
    "\n",
    "df_data \\\n",
    "    .write \\\n",
    "    .format(\"com.mongodb.spark.sql.DefaultSource\") \\\n",
    "    .mode(mode) \\\n",
    "    .option(\"uri\",mongoURI) \\\n",
    "    .option(\"collection\", collection) \\\n",
    "    .option(\"replaceDocument\", replaceDocument) \\\n",
    "    .save()"
   ]
  },
  {
   "cell_type": "code",
   "execution_count": 13,
   "metadata": {},
   "outputs": [
    {
     "name": "stdout",
     "output_type": "stream",
     "text": [
      "mongodb://host.docker.internal:27017/users.user_payment\n"
     ]
    }
   ],
   "source": [
    "mode = \"overwrite\" # options are: error, append, overwrite\n",
    "replaceDocument = False # this is for updates so documents don't get replaced on update\n",
    "\n",
    "collection = \"user_payment\"\n",
    "mongoURI = createMongoURI(connection, database, collection)\n",
    "print(mongoURI)\n",
    "\n",
    "df_payment \\\n",
    "    .write \\\n",
    "    .format(\"com.mongodb.spark.sql.DefaultSource\") \\\n",
    "    .mode(mode) \\\n",
    "    .option(\"uri\",mongoURI) \\\n",
    "    .option(\"collection\", collection) \\\n",
    "    .option(\"replaceDocument\", replaceDocument) \\\n",
    "    .save()"
   ]
  },
  {
   "cell_type": "code",
   "execution_count": null,
   "metadata": {},
   "outputs": [],
   "source": []
  }
 ],
 "metadata": {
  "kernelspec": {
   "display_name": "Python 3",
   "language": "python",
   "name": "python3"
  },
  "language_info": {
   "codemirror_mode": {
    "name": "ipython",
    "version": 3
   },
   "file_extension": ".py",
   "mimetype": "text/x-python",
   "name": "python",
   "nbconvert_exporter": "python",
   "pygments_lexer": "ipython3",
   "version": "3.7.3"
  }
 },
 "nbformat": 4,
 "nbformat_minor": 2
}
