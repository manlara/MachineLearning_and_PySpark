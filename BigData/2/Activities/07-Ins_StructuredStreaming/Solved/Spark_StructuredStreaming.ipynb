{
 "cells": [
  {
   "cell_type": "code",
   "execution_count": 1,
   "metadata": {},
   "outputs": [],
   "source": [
    "# Install Additional Python Libraries\n",
    "!pip install -r requirements.txt"
   ]
  },
  {
   "cell_type": "code",
   "execution_count": 2,
   "metadata": {},
   "outputs": [
    {
     "name": "stdout",
     "output_type": "stream",
     "text": [
      "Adding environment variable `PYSPARK_SUBMIT_ARGS`\n",
      "--packages com.databricks:spark-csv_2.11:1.5.0,org.postgresql:postgresql:42.2.9,org.mongodb.spark:mongo-spark-connector_2.11:2.4.1,io.delta:delta-core_2.11:0.4.0 pyspark-shell\n"
     ]
    }
   ],
   "source": [
    "# Need postgres\n",
    "# https://mvnrepository.com/artifact/org.postgresql/postgresql\n",
    "from spark_libs import spark_submit\n",
    "packages = [\"com.databricks:spark-csv_2.11:1.5.0\", \n",
    "            \"org.postgresql:postgresql:42.2.9\",\n",
    "            \"org.mongodb.spark:mongo-spark-connector_2.11:2.4.1\",\n",
    "            \"io.delta:delta-core_2.11:0.4.0\"]\n",
    "spark_submit(packages=packages)"
   ]
  },
  {
   "cell_type": "code",
   "execution_count": 4,
   "metadata": {},
   "outputs": [],
   "source": [
    "from pyspark.sql import SparkSession"
   ]
  },
  {
   "cell_type": "code",
   "execution_count": 5,
   "metadata": {},
   "outputs": [],
   "source": [
    "# get or create Spark session\n",
    "\n",
    "app_name = \"spark-structured-streaming\"\n",
    "spark = SparkSession.builder.appName(app_name).getOrCreate()"
   ]
  },
  {
   "cell_type": "code",
   "execution_count": 6,
   "metadata": {},
   "outputs": [],
   "source": [
    "from pyspark import SparkFiles\n",
    "from pyspark.sql import DataFrame\n",
    "import pyspark.sql.functions as F\n",
    "from delta.tables import *\n",
    "import random\n",
    "import shutil"
   ]
  },
  {
   "cell_type": "code",
   "execution_count": 7,
   "metadata": {},
   "outputs": [],
   "source": [
    "# Clear previous delta-tables\n",
    "\n",
    "files = [\"delta/delta-table1\", \"delta/delta-table2\"]\n",
    "for i in files:\n",
    "    try:\n",
    "        shutil.rmtree(i)\n",
    "    except:\n",
    "        pass"
   ]
  },
  {
   "cell_type": "code",
   "execution_count": null,
   "metadata": {},
   "outputs": [],
   "source": [
    "data = spark.range(8)\n",
    "data = data.withColumn(\"value\", data.id + random.randint(0, 5000))\n",
    "data.write.format(\"delta\").save(files[0])\n"
   ]
  },
  {
   "cell_type": "code",
   "execution_count": null,
   "metadata": {},
   "outputs": [],
   "source": [
    "# Stream writes to the table\n",
    "\n",
    "print(\"####### Streaming write ######\")\n",
    "streamingDf = spark.readStream.format(\"rate\").load()\n",
    "stream = streamingDf.selectExpr(\"value as id\").writeStream\\\n",
    "    .format(\"delta\")\\\n",
    "    .option(\"checkpointLocation\", \"/tmp/checkpoint\")\\\n",
    "    .start(files[1])\n",
    "stream.awaitTermination(10)\n",
    "stream.stop()"
   ]
  },
  {
   "cell_type": "code",
   "execution_count": null,
   "metadata": {},
   "outputs": [],
   "source": [
    "# Stream reads from a table\n",
    "\n",
    "print(\"##### Reading from stream ######\")\n",
    "stream2 = spark.readStream.format(\"delta\").load(files[1])\\\n",
    "    .writeStream\\\n",
    "    .format(\"console\")\\\n",
    "    .start()\n",
    "stream2.awaitTermination(10)\n",
    "stream2.stop()"
   ]
  },
  {
   "cell_type": "code",
   "execution_count": null,
   "metadata": {},
   "outputs": [],
   "source": [
    "# Streaming aggregates in Update mode\n",
    "\n",
    "print(\"####### Streaming upgrades in update mode ########\")\n",
    "\n",
    "\n",
    "# Function to upsert microBatchOutputDF into Delta Lake table using merge\n",
    "def upsertToDelta(microBatchOutputDF, batchId):\n",
    "    t = deltaTable.alias(\"t\").merge(microBatchOutputDF.alias(\"s\"), \"s.id = t.id\")\\\n",
    "        .whenMatchedUpdateAll()\\\n",
    "        .whenNotMatchedInsertAll()\\\n",
    "        .execute()\n",
    "\n",
    "\n",
    "streamingAggregatesDF = spark.readStream.format(\"rate\").load()\\\n",
    "    .withColumn(\"id\", F.col(\"value\") % 10)\\\n",
    "    .drop(\"timestamp\")"
   ]
  },
  {
   "cell_type": "code",
   "execution_count": null,
   "metadata": {},
   "outputs": [],
   "source": [
    "# Write the output of a streaming aggregation query into Delta Lake table\n",
    "\n",
    "deltaTable = DeltaTable.forPath(spark, files[0])\n",
    "print(\"#############  Original Delta Table ###############\")\n",
    "deltaTable.toDF().show()\n",
    "stream3 = streamingAggregatesDF.writeStream\\\n",
    "    .format(\"delta\") \\\n",
    "    .foreachBatch(upsertToDelta) \\\n",
    "    .outputMode(\"update\") \\\n",
    "    .start()\n",
    "stream3.awaitTermination(10)\n",
    "stream3.stop()\n",
    "print(\"########### DeltaTable after streaming upsert #########\")\n",
    "deltaTable.toDF().show()"
   ]
  },
  {
   "cell_type": "code",
   "execution_count": null,
   "metadata": {},
   "outputs": [],
   "source": []
  }
 ],
 "metadata": {
  "kernelspec": {
   "display_name": "Python 3",
   "language": "python",
   "name": "python3"
  },
  "language_info": {
   "codemirror_mode": {
    "name": "ipython",
    "version": 3
   },
   "file_extension": ".py",
   "mimetype": "text/x-python",
   "name": "python",
   "nbconvert_exporter": "python",
   "pygments_lexer": "ipython3",
   "version": "3.7.3"
  }
 },
 "nbformat": 4,
 "nbformat_minor": 2
}
