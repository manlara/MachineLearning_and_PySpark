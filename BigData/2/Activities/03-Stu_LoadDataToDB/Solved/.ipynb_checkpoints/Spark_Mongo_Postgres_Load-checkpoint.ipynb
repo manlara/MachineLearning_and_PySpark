{
 "cells": [
  {
   "cell_type": "code",
   "execution_count": 1,
   "metadata": {},
   "outputs": [],
   "source": [
    "# Install Additional Python Libraries\n",
    "!pip install -r requirements.txt"
   ]
  },
  {
   "cell_type": "code",
   "execution_count": 2,
   "metadata": {},
   "outputs": [
    {
     "name": "stdout",
     "output_type": "stream",
     "text": [
      "Adding environment variable `PYSPARK_SUBMIT_ARGS`\n",
      "--packages com.databricks:spark-csv_2.11:1.5.0,org.postgresql:postgresql:42.2.9,org.mongodb.spark:mongo-spark-connector_2.11:2.4.1 pyspark-shell\n"
     ]
    }
   ],
   "source": [
    "# Need postgres\n",
    "# https://mvnrepository.com/artifact/org.postgresql/postgresql\n",
    "from spark_libs import spark_submit\n",
    "packages = [\"com.databricks:spark-csv_2.11:1.5.0\", \n",
    "            \"org.postgresql:postgresql:42.2.9\",\n",
    "            \"org.mongodb.spark:mongo-spark-connector_2.11:2.4.1\"]\n",
    "spark_submit(packages=packages)"
   ]
  },
  {
   "cell_type": "code",
   "execution_count": 3,
   "metadata": {},
   "outputs": [],
   "source": [
    "from pyspark.sql import SparkSession\n",
    "from pyspark import SparkFiles\n",
    "from pyspark.sql import DataFrame\n",
    "import pyspark.sql.functions as F"
   ]
  },
  {
   "cell_type": "code",
   "execution_count": 4,
   "metadata": {},
   "outputs": [],
   "source": [
    "# get or create Spark session\n",
    "\n",
    "app_name = \"spark-mongo-postgres\"\n",
    "spark = SparkSession.builder.appName(app_name).getOrCreate()"
   ]
  },
  {
   "cell_type": "code",
   "execution_count": 8,
   "metadata": {},
   "outputs": [
    {
     "name": "stdout",
     "output_type": "stream",
     "text": [
      "root\n",
      " |-- _corrupt_record: string (nullable = true)\n",
      " |-- address: string (nullable = true)\n",
      " |-- id: long (nullable = true)\n",
      " |-- latitude: string (nullable = true)\n",
      " |-- longitude: string (nullable = true)\n",
      " |-- us_state: string (nullable = true)\n",
      "\n",
      "root\n",
      " |-- id: integer (nullable = true)\n",
      " |-- first_name: string (nullable = true)\n",
      " |-- last_name: string (nullable = true)\n",
      " |-- email: string (nullable = true)\n",
      " |-- gender: string (nullable = true)\n",
      " |-- car: string (nullable = true)\n",
      "\n"
     ]
    }
   ],
   "source": [
    "customer_location_file =\"../Resources/customer_location.json\"\n",
    "customer_data_file =\"../Resources/customer_data.csv\"\n",
    "\n",
    "spark.sparkContext.addFile(customer_location_file)\n",
    "spark.sparkContext.addFile(customer_data_file)\n",
    "\n",
    "df_location = spark.read \\\n",
    "    .format(\"json\") \\\n",
    "    .load(SparkFiles.get(\"customer_location.json\"))\n",
    "df_location.printSchema()\n",
    "\n",
    "\n",
    "df_data = spark.read \\\n",
    "    .format(\"com.databricks.spark.csv\") \\\n",
    "    .options(header='true', inferSchema=\"true\") \\\n",
    "    .load(SparkFiles.get(\"customer_data.csv\"))\n",
    "df_data.printSchema()"
   ]
  },
  {
   "cell_type": "markdown",
   "metadata": {},
   "source": [
    "## Postgres URL"
   ]
  },
  {
   "cell_type": "code",
   "execution_count": 14,
   "metadata": {},
   "outputs": [],
   "source": [
    "def postgresUrlProperties(connection):\n",
    "    # Postgres credentials\n",
    "    jdbcHostname = connection['host']\n",
    "    jdbcPort = connection['port']\n",
    "    jdbcDatabase = connection['database']\n",
    "    dialect = connection['dialect']\n",
    "    jdbcUsername = connection['username']\n",
    "    jdbcPassword = connection['password']\n",
    "    \n",
    "    jdbcUrl = f\"jdbc:{dialect}://{jdbcHostname}:{jdbcPort}/{jdbcDatabase}\"\n",
    "    # for mysql driver = com.mysql.jdbc.Driver\n",
    "    connectionProperties = {\n",
    "      \"user\" : jdbcUsername,\n",
    "      \"password\" : jdbcPassword,\n",
    "      \"driver\" : \"org.postgresql.Driver\" \n",
    "    }\n",
    "    return (jdbcUrl, connectionProperties)"
   ]
  },
  {
   "cell_type": "code",
   "execution_count": 15,
   "metadata": {},
   "outputs": [
    {
     "name": "stdout",
     "output_type": "stream",
     "text": [
      "jdbc:postgresql://host.docker.internal:5433/customers \n",
      " {'user': 'postgres', 'password': 'changeme', 'driver': 'org.postgresql.Driver'}\n"
     ]
    }
   ],
   "source": [
    "connection = {\n",
    "    \"host\": \"host.docker.internal\",\n",
    "    \"port\": \"5433\", # should be 5432 for you\n",
    "    \"database\": \"customers\",\n",
    "    \"dialect\": \"postgresql\",\n",
    "    \"username\": \"postgres\",\n",
    "    \"password\": \"changeme\"\n",
    "}\n",
    "\n",
    "url, props = postgresUrlProperties(connection)\n",
    "print(url, \"\\n\", props)"
   ]
  },
  {
   "cell_type": "code",
   "execution_count": 17,
   "metadata": {},
   "outputs": [],
   "source": [
    "table = \"customer_data\"\n",
    "mode = \"overwrite\" # options are: error, append, overwrite\n",
    "\n",
    "df_data.write.jdbc(url, table, mode, props)"
   ]
  },
  {
   "cell_type": "code",
   "execution_count": 19,
   "metadata": {},
   "outputs": [],
   "source": [
    "table = \"customer_location\"\n",
    "mode = \"overwrite\" # options are: error, append, overwrite\n",
    "\n",
    "df_location.write.jdbc(url, table, mode, props)"
   ]
  },
  {
   "cell_type": "code",
   "execution_count": null,
   "metadata": {},
   "outputs": [],
   "source": []
  },
  {
   "cell_type": "markdown",
   "metadata": {},
   "source": [
    "## MongoDB"
   ]
  },
  {
   "cell_type": "code",
   "execution_count": 20,
   "metadata": {},
   "outputs": [],
   "source": [
    "# Mongo credentials\n",
    "def createMongoURI(connection, database, collection):\n",
    "    mongoHostname = connection['hostname']\n",
    "    mongoPort = connection['port']\n",
    "    mongoDatabase = database\n",
    "    mongoCollection = collection\n",
    "    mongoUsername = connection.get('username')\n",
    "    mongoPassword = connection.get('password')\n",
    "    mongoReplica = connection.get('replica')\n",
    "    \n",
    "    baseURI = \"mongodb://\"\n",
    "    if bool(mongoUsername) and bool(mongoPassword):\n",
    "        baseURI += f\"{mongoUsername}:{mongoPassword}@\"\n",
    "    mongoHosts = \",\".join([\n",
    "        f\"{host}:{mongoPort}\"\n",
    "        for host in mongoHostname.split(\",\")\n",
    "    ])\n",
    "    mongoURI = f\"{baseURI}{mongoHosts}/{mongoDatabase}\"\n",
    "    if bool(mongoReplica):\n",
    "        mongoURI = f\"{mongoURI}.{mongoCollection}?replicaSet={mongoReplica}\"\n",
    "    else:\n",
    "        mongoURI = f\"{mongoURI}.{mongoCollection}\"\n",
    "    return mongoURI"
   ]
  },
  {
   "cell_type": "code",
   "execution_count": 21,
   "metadata": {},
   "outputs": [],
   "source": [
    "connection = {\n",
    "    \"hostname\": \"host.docker.internal\",\n",
    "    \"port\": \"27017\"\n",
    "}\n",
    "database = \"customers\""
   ]
  },
  {
   "cell_type": "code",
   "execution_count": 22,
   "metadata": {},
   "outputs": [
    {
     "name": "stdout",
     "output_type": "stream",
     "text": [
      "mongodb://host.docker.internal:27017/customers.customer_data\n",
      "mongodb://host.docker.internal:27017/customers.customer_location\n"
     ]
    }
   ],
   "source": [
    "collection = \"customer_data\"\n",
    "mongoURI = createMongoURI(connection, database, collection)\n",
    "print(mongoURI)\n",
    "\n",
    "collection = \"customer_location\"\n",
    "mongoURI = createMongoURI(connection, database, collection)\n",
    "print(mongoURI)"
   ]
  },
  {
   "cell_type": "code",
   "execution_count": 23,
   "metadata": {},
   "outputs": [
    {
     "name": "stdout",
     "output_type": "stream",
     "text": [
      "mongodb://host.docker.internal:27017/customers.customer_data\n"
     ]
    }
   ],
   "source": [
    "mode = \"overwrite\" # options are: error, append, overwrite\n",
    "replaceDocument = False # this is for updates so documents don't get replaced on update\n",
    "\n",
    "collection = \"customer_data\"\n",
    "mongoURI = createMongoURI(connection, database, collection)\n",
    "print(mongoURI)\n",
    "\n",
    "df_data \\\n",
    "    .write \\\n",
    "    .format(\"com.mongodb.spark.sql.DefaultSource\") \\\n",
    "    .mode(mode) \\\n",
    "    .option(\"uri\",mongoURI) \\\n",
    "    .option(\"collection\", collection) \\\n",
    "    .option(\"replaceDocument\", replaceDocument) \\\n",
    "    .save()"
   ]
  },
  {
   "cell_type": "code",
   "execution_count": 24,
   "metadata": {},
   "outputs": [
    {
     "name": "stdout",
     "output_type": "stream",
     "text": [
      "mongodb://host.docker.internal:27017/customers.customer_location\n"
     ]
    }
   ],
   "source": [
    "mode = \"overwrite\" # options are: error, append, overwrite\n",
    "replaceDocument = False # this is for updates so documents don't get replaced on update\n",
    "\n",
    "collection = \"customer_location\"\n",
    "mongoURI = createMongoURI(connection, database, collection)\n",
    "print(mongoURI)\n",
    "\n",
    "df_location \\\n",
    "    .write \\\n",
    "    .format(\"com.mongodb.spark.sql.DefaultSource\") \\\n",
    "    .mode(mode) \\\n",
    "    .option(\"uri\",mongoURI) \\\n",
    "    .option(\"collection\", collection) \\\n",
    "    .option(\"replaceDocument\", replaceDocument) \\\n",
    "    .save()"
   ]
  },
  {
   "cell_type": "code",
   "execution_count": null,
   "metadata": {},
   "outputs": [],
   "source": []
  }
 ],
 "metadata": {
  "kernelspec": {
   "display_name": "Python 3",
   "language": "python",
   "name": "python3"
  },
  "language_info": {
   "codemirror_mode": {
    "name": "ipython",
    "version": 3
   },
   "file_extension": ".py",
   "mimetype": "text/x-python",
   "name": "python",
   "nbconvert_exporter": "python",
   "pygments_lexer": "ipython3",
   "version": "3.7.3"
  }
 },
 "nbformat": 4,
 "nbformat_minor": 2
}
