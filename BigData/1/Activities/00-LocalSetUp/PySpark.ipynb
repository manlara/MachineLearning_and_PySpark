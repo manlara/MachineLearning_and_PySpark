{
 "cells": [
  {
   "cell_type": "code",
   "execution_count": 2,
   "metadata": {},
   "outputs": [],
   "source": [
    "# Install Additional Python Libraries\n",
    "!pip install -r requirements.txt"
   ]
  },
  {
   "cell_type": "code",
   "execution_count": 3,
   "metadata": {},
   "outputs": [
    {
     "name": "stdout",
     "output_type": "stream",
     "text": [
      "Adding environment variable `PYSPARK_SUBMIT_ARGS`\n",
      "--packages com.databricks:spark-csv_2.11:1.5.0 pyspark-shell\n"
     ]
    }
   ],
   "source": [
    "from spark_libs import spark_submit\n",
    "packages = [\"mysql:mysql-connector-java:8.0.16\", \n",
    "            \"org.mongodb.spark:mongo-spark-connector_2.11:2.4.1\",\n",
    "            \"com.databricks:spark-csv_2.11:1.5.0\"]\n",
    "spark_submit(packages=packages)"
   ]
  },
  {
   "cell_type": "code",
   "execution_count": 4,
   "metadata": {},
   "outputs": [],
   "source": [
    "from pyspark.sql import SparkSession\n",
    "from pyspark.sql import DataFrame\n",
    "import pyspark.sql.functions as F"
   ]
  },
  {
   "cell_type": "code",
   "execution_count": 4,
   "metadata": {},
   "outputs": [],
   "source": [
    "app_name = \"intro-to-pyspark\"\n",
    "spark = SparkSession.builder.appName(app_name).getOrCreate()"
   ]
  },
  {
   "cell_type": "code",
   "execution_count": 8,
   "metadata": {},
   "outputs": [
    {
     "name": "stdout",
     "output_type": "stream",
     "text": [
      "+--------------------+----+---------------+-----------------------+--------------------+--------+----+\n",
      "|                 _id| age|favoriteLibrary|favorite_python_library|             hobbies|    name| row|\n",
      "+--------------------+----+---------------+-----------------------+--------------------+--------+----+\n",
      "|[5ca8d4831aed4f47...|  19|         pandas|                   null|              [a, b]|student1|null|\n",
      "|[5ca8d5591aed4f47...|  25|         pandas|                   null|              [a, b]|student2|null|\n",
      "|[5ca8ef0a6f8c1b17...|null|           null|                  Numpy|[Running, Stargaz...|   Ahmed|   8|\n",
      "+--------------------+----+---------------+-----------------------+--------------------+--------+----+\n",
      "\n"
     ]
    }
   ],
   "source": [
    "mongo_conn = \"mongodb://host.docker.internal:27017\"\n",
    "database = \"ClassDB\"\n",
    "collection = \"students\"\n",
    "mongo_uri = f\"{mongo_conn}/{database}.{collection}\"\n",
    "sample_size = 100\n",
    "dataframe = spark.read \\\n",
    "\t\t\t.format(\"com.mongodb.spark.sql.DefaultSource\") \\\n",
    "\t\t\t.option(\"uri\", mongo_uri) \\\n",
    "\t\t\t.option(\"sampleSize\", sample_size) \\\n",
    "\t\t\t.load()\n",
    "dataframe.show()"
   ]
  },
  {
   "cell_type": "code",
   "execution_count": null,
   "metadata": {},
   "outputs": [],
   "source": []
  }
 ],
 "metadata": {
  "kernelspec": {
   "display_name": "Python 3",
   "language": "python",
   "name": "python3"
  },
  "language_info": {
   "codemirror_mode": {
    "name": "ipython",
    "version": 3
   },
   "file_extension": ".py",
   "mimetype": "text/x-python",
   "name": "python",
   "nbconvert_exporter": "python",
   "pygments_lexer": "ipython3",
   "version": "3.7.3"
  }
 },
 "nbformat": 4,
 "nbformat_minor": 2
}
