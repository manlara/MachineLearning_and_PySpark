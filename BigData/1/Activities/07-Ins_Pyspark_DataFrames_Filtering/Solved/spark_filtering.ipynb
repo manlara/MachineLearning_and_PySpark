{
 "cells": [
  {
   "cell_type": "markdown",
   "metadata": {},
   "source": [
    "## Filtering Data"
   ]
  },
  {
   "cell_type": "code",
   "execution_count": 1,
   "metadata": {},
   "outputs": [],
   "source": [
    "# Install Additional Python Libraries\n",
    "!pip install -r requirements.txt"
   ]
  },
  {
   "cell_type": "code",
   "execution_count": 2,
   "metadata": {},
   "outputs": [
    {
     "name": "stdout",
     "output_type": "stream",
     "text": [
      "Adding environment variable `PYSPARK_SUBMIT_ARGS`\n",
      "--packages com.databricks:spark-csv_2.11:1.5.0 pyspark-shell\n"
     ]
    }
   ],
   "source": [
    "from spark_libs import spark_submit\n",
    "packages = [\"com.databricks:spark-csv_2.11:1.5.0\"]\n",
    "spark_submit(packages=packages)"
   ]
  },
  {
   "cell_type": "code",
   "execution_count": 3,
   "metadata": {},
   "outputs": [],
   "source": [
    "from pyspark.sql import SparkSession\n",
    "from pyspark import SparkFiles\n",
    "from pyspark.sql import DataFrame\n",
    "import pyspark.sql.functions as F"
   ]
  },
  {
   "cell_type": "code",
   "execution_count": 4,
   "metadata": {},
   "outputs": [],
   "source": [
    "# get or create Spark session\n",
    "\n",
    "app_name = \"spark-filtering\"\n",
    "spark = SparkSession.builder.appName(app_name).getOrCreate()"
   ]
  },
  {
   "cell_type": "code",
   "execution_count": 5,
   "metadata": {},
   "outputs": [
    {
     "name": "stdout",
     "output_type": "stream",
     "text": [
      "root\n",
      " |-- country: string (nullable = true)\n",
      " |-- description: string (nullable = true)\n",
      " |-- designation: string (nullable = true)\n",
      " |-- points: string (nullable = true)\n",
      " |-- price: string (nullable = true)\n",
      " |-- province: string (nullable = true)\n",
      " |-- region_1: string (nullable = true)\n",
      " |-- region_2: string (nullable = true)\n",
      " |-- variety: string (nullable = true)\n",
      " |-- winery: string (nullable = true)\n",
      "\n"
     ]
    }
   ],
   "source": [
    "url =\"https://s3.amazonaws.com/dataviz-curriculum/day_1/wine.csv\"\n",
    "spark.sparkContext.addFile(url)\n",
    "\n",
    "df = spark.read \\\n",
    "    .format(\"com.databricks.spark.csv\") \\\n",
    "    .options(header='true', inferSchema=\"true\") \\\n",
    "    .load(SparkFiles.get(\"wine.csv\"))\n",
    "df.printSchema()"
   ]
  },
  {
   "cell_type": "code",
   "execution_count": 6,
   "metadata": {},
   "outputs": [
    {
     "name": "stdout",
     "output_type": "stream",
     "text": [
      "root\n",
      " |-- country: string (nullable = true)\n",
      " |-- description: string (nullable = true)\n",
      " |-- designation: string (nullable = true)\n",
      " |-- points: double (nullable = true)\n",
      " |-- price: double (nullable = true)\n",
      " |-- province: string (nullable = true)\n",
      " |-- region_1: string (nullable = true)\n",
      " |-- region_2: string (nullable = true)\n",
      " |-- variety: string (nullable = true)\n",
      " |-- winery: string (nullable = true)\n",
      "\n"
     ]
    }
   ],
   "source": [
    "# In case inferSchema doesn't pick up the right types\n",
    "# columns can be cast to different data types\n",
    "df = df \\\n",
    "    .withColumn(\"points\", F.col(\"points\").cast(\"double\")) \\\n",
    "    .withColumn(\"price\", F.col(\"price\").cast(\"double\"))\n",
    "df.printSchema()"
   ]
  },
  {
   "cell_type": "code",
   "execution_count": 7,
   "metadata": {},
   "outputs": [
    {
     "data": {
      "text/plain": [
       "Row(country='US', description='This tremendous 100% varietal wine hails from Oakville and was aged over three years in oak. Juicy red-cherry fruit and a compelling hint of caramel greet the palate, framed by elegant, fine tannins and a subtle minty tone in the background. Balanced and rewarding from start to finish, it has years ahead of it to develop further nuance. Enjoy 2022���2030.', designation=\"Martha's Vineyard\", points=96.0, price=235.0, province='California', region_1='Napa Valley', region_2='Napa', variety='Cabernet Sauvignon', winery='Heitz')"
      ]
     },
     "execution_count": 7,
     "metadata": {},
     "output_type": "execute_result"
    }
   ],
   "source": [
    "df.head()"
   ]
  },
  {
   "cell_type": "code",
   "execution_count": 8,
   "metadata": {},
   "outputs": [
    {
     "name": "stdout",
     "output_type": "stream",
     "text": [
      "+---------+--------------------+--------------------+------+-----+--------------------+--------------------+--------------------+--------------------+--------------------+\n",
      "|  country|         description|         designation|points|price|            province|            region_1|            region_2|             variety|              winery|\n",
      "+---------+--------------------+--------------------+------+-----+--------------------+--------------------+--------------------+--------------------+--------------------+\n",
      "|       US|\"The flagship of ...| chewier finish t...|  null| null|             tobacco| cedar and a mult...| starting in 2010...|Limited Release I...|                  93|\n",
      "|       US|\"Note the \"\"Bened...| from a time when...|  null| null|          sweet beet|          smoky char|          spice. Dry|         full-bodied| rich in dark che...|\n",
      "|       US|\"I called the '04...| and this wine se...|  null| null|  Clos Pepe Vineyard|                  82|                  40|          California|     Sta. Rita Hills|\n",
      "|Australia|\"Gemtree's \"\"regu...|        the Obsidian|  null| null| smoky flavors po...|               Uncut|                  89|                  28|     South Australia|\n",
      "|Australia|\"The winery's cel...| break open this ...|  null| null| Cab Franc (30%) ...| made nonvintage ...|               Vixen|                  88|                  17|\n",
      "+---------+--------------------+--------------------+------+-----+--------------------+--------------------+--------------------+--------------------+--------------------+\n",
      "only showing top 5 rows\n",
      "\n"
     ]
    }
   ],
   "source": [
    "# Order a DataFrame by ascending values\n",
    "\n",
    "# df.orderBy(df[\"points\"].asc()).show(5)\n",
    "\n",
    "df.orderBy(F.col(\"points\").asc()).show(5)"
   ]
  },
  {
   "cell_type": "code",
   "execution_count": 9,
   "metadata": {},
   "outputs": [
    {
     "name": "stdout",
     "output_type": "stream",
     "text": [
      "+-----------------+\n",
      "|      avg(points)|\n",
      "+-----------------+\n",
      "|87.88834105383143|\n",
      "+-----------------+\n",
      "\n"
     ]
    }
   ],
   "source": [
    "df.select(F.avg(\"points\")).show()"
   ]
  },
  {
   "cell_type": "code",
   "execution_count": 10,
   "metadata": {
    "scrolled": true
   },
   "outputs": [
    {
     "name": "stdout",
     "output_type": "stream",
     "text": [
      "+---------+--------------------+--------------------+------+-----+----------------+--------------------+--------------------+--------------------+--------------------+\n",
      "|  country|         description|         designation|points|price|        province|            region_1|            region_2|             variety|              winery|\n",
      "+---------+--------------------+--------------------+------+-----+----------------+--------------------+--------------------+--------------------+--------------------+\n",
      "| Bulgaria|This Bulgarian Ma...|             Bergul̩|  90.0| 15.0|        Bulgaria|                null|                null|              Mavrud|        Villa Melnik|\n",
      "|    Spain|Earthy plum and c...|              Amandi|  90.0| 17.0|         Galicia|       Ribeira Sacra|                null|             Menc�_a|      Don Bernardino|\n",
      "|       US|There's a lot to ...|                null|  90.0| 18.0|      California|Russian River Valley|              Sonoma|          Chardonnay|            De Loach|\n",
      "|       US|Massively fruity,...|                null|  91.0| 19.0|          Oregon|   Willamette Valley|   Willamette Valley|          Pinot Gris|   Trinity Vineyards|\n",
      "| Portugal|It is the ripe da...|             Premium|  91.0| 15.0|        Alentejo|                null|                null|      Portuguese Red|Adega Cooperativa...|\n",
      "|       US|Bright, light oak...|                null|  86.0| 10.0|      California|          California|    California Other|  Cabernet Sauvignon|      Belle Ambiance|\n",
      "| Portugal|The local Baga gr...|Marqu̻s de Marial...|  86.0| 12.0| Beira Atlantico|                null|                null|                Baga| Adega de Cantanhede|\n",
      "|       US|A smoky scent and...|     Small Lot Blend|  86.0| 13.0|      California|    Mendocino County|Mendocino/Lake Co...|          Chardonnay|            Parducci|\n",
      "| Portugal|This family-owned...|      Muros de Vinha|  86.0| 10.0|           Douro|                null|                null|      Portuguese Red|    Quinta do Portal|\n",
      "|   France|This is a smooth,...|Ch̢teau Beauvilla...|  86.0| 14.0|Southwest France|              Cahors|                null|       Malbec-Merlot|               Rigal|\n",
      "|       US|This is an easygo...|                null|  86.0| 18.0|      California|          California|    California Other|          Chardonnay|     The Naked Grape|\n",
      "|   France|Closer to Bordeau...|           Pigmentum|  86.0| 15.0|Southwest France|               Buzet|                null|       Merlot-Malbec|   Georges Vigouroux|\n",
      "|   France|This is a blend o...|           Pigmentum|  86.0| 10.0|Southwest France|   C̫tes de Gascogne|                null|Ugni Blanc-Colombard|   Georges Vigouroux|\n",
      "|       US|Aromas of ripe (l...|Tudor Hills Vineyard|  86.0| 17.0|      Washington|       Yakima Valley|     Columbia Valley|        Pinot Grigio| Martinez & Martinez|\n",
      "|       US|Strong wood smoke...|                null|  86.0| 12.0|      California|                Lodi|      Central Valley|      Cabernet Franc|           Ironstone|\n",
      "|       US|This medium-bodie...|                null|  86.0| 10.0|      California|          California|    California Other|          Chardonnay|       Leaping Horse|\n",
      "|       US|This wine is dry ...|                null|  86.0| 13.0|      California|          California|    California Other|         White Blend|        Kitchen Sink|\n",
      "| Portugal|This state-owned ...|Companhia das Lez...|  86.0| 12.0|            Tejo|                null|                null|      Portuguese Red|  Wines & Winemakers|\n",
      "|Argentina|This copper-tinte...|Terroir �_nico Pi...|  86.0| 12.0|Mendoza Province|           Tupungato|                null|                Ros̩|              Zorzal|\n",
      "|Argentina|Aromas of prune, ...|             Reserva|  86.0| 15.0|Mendoza Province|        Valle de Uco|                null|              Malbec|             Vi̱alba|\n",
      "+---------+--------------------+--------------------+------+-----+----------------+--------------------+--------------------+--------------------+--------------------+\n",
      "only showing top 20 rows\n",
      "\n"
     ]
    }
   ],
   "source": [
    "df.filter(\"price<20\").show()"
   ]
  },
  {
   "cell_type": "code",
   "execution_count": 11,
   "metadata": {},
   "outputs": [
    {
     "name": "stdout",
     "output_type": "stream",
     "text": [
      "+------+---------+--------------------+-----+\n",
      "|points|  country|              winery|price|\n",
      "+------+---------+--------------------+-----+\n",
      "|  90.0| Bulgaria|        Villa Melnik| 15.0|\n",
      "|  90.0|    Spain|      Don Bernardino| 17.0|\n",
      "|  90.0|       US|            De Loach| 18.0|\n",
      "|  91.0|       US|   Trinity Vineyards| 19.0|\n",
      "|  91.0| Portugal|Adega Cooperativa...| 15.0|\n",
      "|  86.0|       US|      Belle Ambiance| 10.0|\n",
      "|  86.0| Portugal| Adega de Cantanhede| 12.0|\n",
      "|  86.0|       US|            Parducci| 13.0|\n",
      "|  86.0| Portugal|    Quinta do Portal| 10.0|\n",
      "|  86.0|   France|               Rigal| 14.0|\n",
      "|  86.0|       US|     The Naked Grape| 18.0|\n",
      "|  86.0|   France|   Georges Vigouroux| 15.0|\n",
      "|  86.0|   France|   Georges Vigouroux| 10.0|\n",
      "|  86.0|       US| Martinez & Martinez| 17.0|\n",
      "|  86.0|       US|           Ironstone| 12.0|\n",
      "|  86.0|       US|       Leaping Horse| 10.0|\n",
      "|  86.0|       US|        Kitchen Sink| 13.0|\n",
      "|  86.0| Portugal|  Wines & Winemakers| 12.0|\n",
      "|  86.0|Argentina|              Zorzal| 12.0|\n",
      "|  86.0|Argentina|             Vi̱alba| 15.0|\n",
      "+------+---------+--------------------+-----+\n",
      "only showing top 20 rows\n",
      "\n"
     ]
    }
   ],
   "source": [
    "# Filter by price on certain columns\n",
    "df.filter(\"price<20\").select(['points','country', 'winery','price']).show()"
   ]
  },
  {
   "cell_type": "markdown",
   "metadata": {},
   "source": [
    "### Using Python Comparison Operators"
   ]
  },
  {
   "cell_type": "code",
   "execution_count": 12,
   "metadata": {},
   "outputs": [
    {
     "name": "stdout",
     "output_type": "stream",
     "text": [
      "+-------+--------------------+--------------------+------+-----+------------------+------------------+-----------------+------------------+--------------------+\n",
      "|country|         description|         designation|points|price|          province|          region_1|         region_2|           variety|              winery|\n",
      "+-------+--------------------+--------------------+------+-----+------------------+------------------+-----------------+------------------+--------------------+\n",
      "|  Spain|Ripe aromas of fi...|Carodorum Selecci...|  96.0|110.0|    Northern Spain|              Toro|             null|     Tinta de Toro|Bodega Carmen Rod...|\n",
      "|     US|Mac Watson honors...|Special Selected ...|  96.0| 90.0|        California|    Knights Valley|           Sonoma|   Sauvignon Blanc|            Macauley|\n",
      "|     US|This spent 20 mon...|             Reserve|  96.0| 65.0|            Oregon| Willamette Valley|Willamette Valley|        Pinot Noir|               Ponzi|\n",
      "| France|This is the top w...|         La Br��lade|  95.0| 66.0|          Provence|            Bandol|             null|Provence red blend|Domaine de la B̩gude|\n",
      "|  Spain|Deep, dense and p...|           Numanthia|  95.0| 73.0|    Northern Spain|              Toro|             null|     Tinta de Toro|           Numanthia|\n",
      "|  Spain|Slightly gritty b...|          San Rom��n|  95.0| 65.0|    Northern Spain|              Toro|             null|     Tinta de Toro|            Maurodos|\n",
      "|  Spain|Lush cedary black...|Carodorum �_nico ...|  95.0|110.0|    Northern Spain|              Toro|             null|     Tinta de Toro|Bodega Carmen Rod...|\n",
      "|     US|This re-named vin...|              Silice|  95.0| 65.0|            Oregon|Chehalem Mountains|Willamette Valley|        Pinot Noir|           Bergstr̦m|\n",
      "|     US|The producer sour...|Gap's Crown Vineyard|  95.0| 60.0|        California|      Sonoma Coast|           Sonoma|        Pinot Noir|           Blue Farm|\n",
      "|  Italy|Elegance, complex...|  Ronco della Chiesa|  95.0| 80.0|Northeastern Italy|            Collio|             null|          Friulano|    Borgo del Tiglio|\n",
      "|     US|From 18-year-old ...|Estate Vineyard W...|  95.0| 48.0|            Oregon|      Ribbon Ridge|Willamette Valley|        Pinot Noir|Patricia Green Ce...|\n",
      "|     US|A standout even i...|      Weber Vineyard|  95.0| 48.0|            Oregon|      Dundee Hills|Willamette Valley|        Pinot Noir|Patricia Green Ce...|\n",
      "| France|This wine is in p...|Ch̢teau Montus Pr...|  95.0| 90.0|  Southwest France|           Madiran|             null|            Tannat|   Vignobles Brumont|\n",
      "|     US|With its sophisti...|      Grace Vineyard|  95.0|185.0|            Oregon|      Dundee Hills|Willamette Valley|        Pinot Noir|      Domaine Serene|\n",
      "|     US|First made in 200...|              Sigrid|  95.0| 90.0|            Oregon| Willamette Valley|Willamette Valley|        Chardonnay|           Bergstr̦m|\n",
      "|  Spain|Nicely oaked blac...|6 A̱os Reserva Pr...|  95.0| 80.0|    Northern Spain|  Ribera del Duero|             null|       Tempranillo|            Valduero|\n",
      "|     US|This fresh and li...|Gap's Crown Vineyard|  95.0| 75.0|        California|      Sonoma Coast|           Sonoma|        Pinot Noir|        Gary Farrell|\n",
      "|     US|Heitz has made th...|          Grignolino|  95.0| 24.0|        California|       Napa Valley|             Napa|              Ros̩|               Heitz|\n",
      "|  Spain|Alluring, complex...|Prado Enea Gran R...|  95.0| 79.0|    Northern Spain|             Rioja|             null| Tempranillo Blend|                Muga|\n",
      "|     US|The apogee of thi...|       Giallo Solare|  95.0| 60.0|        California|       Edna Valley|    Central Coast|        Chardonnay|    Center of Effort|\n",
      "+-------+--------------------+--------------------+------+-----+------------------+------------------+-----------------+------------------+--------------------+\n",
      "only showing top 20 rows\n",
      "\n"
     ]
    }
   ],
   "source": [
    "# Same results only this time using python\n",
    "df.filter(df[\"price\"] < 200).show()"
   ]
  },
  {
   "cell_type": "code",
   "execution_count": 13,
   "metadata": {},
   "outputs": [
    {
     "name": "stdout",
     "output_type": "stream",
     "text": [
      "+-------+--------------------+--------------------+------+-----+------------------+--------------------+-----------------+------------------+--------------------+\n",
      "|country|         description|         designation|points|price|          province|            region_1|         region_2|           variety|              winery|\n",
      "+-------+--------------------+--------------------+------+-----+------------------+--------------------+-----------------+------------------+--------------------+\n",
      "|     US|This tremendous 1...|   Martha's Vineyard|  96.0|235.0|        California|         Napa Valley|             Napa|Cabernet Sauvignon|               Heitz|\n",
      "|  Spain|Ripe aromas of fi...|Carodorum Selecci...|  96.0|110.0|    Northern Spain|                Toro|             null|     Tinta de Toro|Bodega Carmen Rod...|\n",
      "|     US|Mac Watson honors...|Special Selected ...|  96.0| 90.0|        California|      Knights Valley|           Sonoma|   Sauvignon Blanc|            Macauley|\n",
      "|     US|This spent 20 mon...|             Reserve|  96.0| 65.0|            Oregon|   Willamette Valley|Willamette Valley|        Pinot Noir|               Ponzi|\n",
      "| France|This is the top w...|         La Br��lade|  95.0| 66.0|          Provence|              Bandol|             null|Provence red blend|Domaine de la B̩gude|\n",
      "|  Spain|Deep, dense and p...|           Numanthia|  95.0| 73.0|    Northern Spain|                Toro|             null|     Tinta de Toro|           Numanthia|\n",
      "|  Spain|Slightly gritty b...|          San Rom��n|  95.0| 65.0|    Northern Spain|                Toro|             null|     Tinta de Toro|            Maurodos|\n",
      "|  Spain|Lush cedary black...|Carodorum �_nico ...|  95.0|110.0|    Northern Spain|                Toro|             null|     Tinta de Toro|Bodega Carmen Rod...|\n",
      "|     US|This re-named vin...|              Silice|  95.0| 65.0|            Oregon|  Chehalem Mountains|Willamette Valley|        Pinot Noir|           Bergstr̦m|\n",
      "|     US|The producer sour...|Gap's Crown Vineyard|  95.0| 60.0|        California|        Sonoma Coast|           Sonoma|        Pinot Noir|           Blue Farm|\n",
      "|  Italy|Elegance, complex...|  Ronco della Chiesa|  95.0| 80.0|Northeastern Italy|              Collio|             null|          Friulano|    Borgo del Tiglio|\n",
      "|     US|From 18-year-old ...|Estate Vineyard W...|  95.0| 48.0|            Oregon|        Ribbon Ridge|Willamette Valley|        Pinot Noir|Patricia Green Ce...|\n",
      "|     US|A standout even i...|      Weber Vineyard|  95.0| 48.0|            Oregon|        Dundee Hills|Willamette Valley|        Pinot Noir|Patricia Green Ce...|\n",
      "| France|This wine is in p...|Ch̢teau Montus Pr...|  95.0| 90.0|  Southwest France|             Madiran|             null|            Tannat|   Vignobles Brumont|\n",
      "|     US|With its sophisti...|      Grace Vineyard|  95.0|185.0|            Oregon|        Dundee Hills|Willamette Valley|        Pinot Noir|      Domaine Serene|\n",
      "|     US|First made in 200...|              Sigrid|  95.0| 90.0|            Oregon|   Willamette Valley|Willamette Valley|        Chardonnay|           Bergstr̦m|\n",
      "|     US|This blockbuster,...|     Rainin Vineyard|  95.0|325.0|        California|Diamond Mountain ...|             Napa|Cabernet Sauvignon|                Hall|\n",
      "|  Spain|Nicely oaked blac...|6 A̱os Reserva Pr...|  95.0| 80.0|    Northern Spain|    Ribera del Duero|             null|       Tempranillo|            Valduero|\n",
      "| France|Coming from a sev...|       Le Pigeonnier|  95.0|290.0|  Southwest France|              Cahors|             null|            Malbec|  Ch̢teau Lagr̩zette|\n",
      "|     US|This fresh and li...|Gap's Crown Vineyard|  95.0| 75.0|        California|        Sonoma Coast|           Sonoma|        Pinot Noir|        Gary Farrell|\n",
      "+-------+--------------------+--------------------+------+-----+------------------+--------------------+-----------------+------------------+--------------------+\n",
      "only showing top 20 rows\n",
      "\n"
     ]
    }
   ],
   "source": [
    "df.filter( (df[\"price\"] < 200) | (df['points'] > 80) ).show()"
   ]
  },
  {
   "cell_type": "code",
   "execution_count": 14,
   "metadata": {},
   "outputs": [
    {
     "name": "stdout",
     "output_type": "stream",
     "text": [
      "+-------+--------------------+--------------------+------+-----+----------+--------------------+-----------------+------------------+--------------------+\n",
      "|country|         description|         designation|points|price|  province|            region_1|         region_2|           variety|              winery|\n",
      "+-------+--------------------+--------------------+------+-----+----------+--------------------+-----------------+------------------+--------------------+\n",
      "|     US|This tremendous 1...|   Martha's Vineyard|  96.0|235.0|California|         Napa Valley|             Napa|Cabernet Sauvignon|               Heitz|\n",
      "|     US|Mac Watson honors...|Special Selected ...|  96.0| 90.0|California|      Knights Valley|           Sonoma|   Sauvignon Blanc|            Macauley|\n",
      "|     US|This spent 20 mon...|             Reserve|  96.0| 65.0|    Oregon|   Willamette Valley|Willamette Valley|        Pinot Noir|               Ponzi|\n",
      "|     US|This re-named vin...|              Silice|  95.0| 65.0|    Oregon|  Chehalem Mountains|Willamette Valley|        Pinot Noir|           Bergstr̦m|\n",
      "|     US|The producer sour...|Gap's Crown Vineyard|  95.0| 60.0|California|        Sonoma Coast|           Sonoma|        Pinot Noir|           Blue Farm|\n",
      "|     US|From 18-year-old ...|Estate Vineyard W...|  95.0| 48.0|    Oregon|        Ribbon Ridge|Willamette Valley|        Pinot Noir|Patricia Green Ce...|\n",
      "|     US|A standout even i...|      Weber Vineyard|  95.0| 48.0|    Oregon|        Dundee Hills|Willamette Valley|        Pinot Noir|Patricia Green Ce...|\n",
      "|     US|With its sophisti...|      Grace Vineyard|  95.0|185.0|    Oregon|        Dundee Hills|Willamette Valley|        Pinot Noir|      Domaine Serene|\n",
      "|     US|First made in 200...|              Sigrid|  95.0| 90.0|    Oregon|   Willamette Valley|Willamette Valley|        Chardonnay|           Bergstr̦m|\n",
      "|     US|This blockbuster,...|     Rainin Vineyard|  95.0|325.0|California|Diamond Mountain ...|             Napa|Cabernet Sauvignon|                Hall|\n",
      "|     US|This fresh and li...|Gap's Crown Vineyard|  95.0| 75.0|California|        Sonoma Coast|           Sonoma|        Pinot Noir|        Gary Farrell|\n",
      "|     US|Heitz has made th...|          Grignolino|  95.0| 24.0|California|         Napa Valley|             Napa|              Ros̩|               Heitz|\n",
      "|     US|The apogee of thi...|       Giallo Solare|  95.0| 60.0|California|         Edna Valley|    Central Coast|        Chardonnay|    Center of Effort|\n",
      "|     US|San Jose-based pr...|       R-Bar-R Ranch|  95.0| 45.0|California|Santa Cruz Mountains|    Central Coast|        Pinot Noir|            Comartin|\n",
      "|     US|Bergstr̦m has mad...|       Shea Vineyard|  94.0| 62.0|    Oregon|   Willamette Valley|             null|        Pinot Noir|           Bergstr̦m|\n",
      "|     US|Focused and dense...|             Abetina|  94.0|105.0|    Oregon|   Willamette Valley|Willamette Valley|        Pinot Noir|               Ponzi|\n",
      "|     US|Cranberry, baked ...|     Garys' Vineyard|  94.0| 60.0|California|Santa Lucia Highl...|    Central Coast|        Pinot Noir|                Roar|\n",
      "|     US|This standout Roc...|     The Funk Estate|  94.0| 60.0|Washington|Walla Walla Valle...|  Columbia Valley|             Syrah|              Saviah|\n",
      "|     US|Steely and perfum...|            Babushka|  90.0| 37.0|California|Russian River Valley|           Sonoma|        Chardonnay|            Zepaltas|\n",
      "|     US|The aromas entice...| Conner Lee Vineyard|  90.0| 42.0|Washington|Columbia Valley (WA)|  Columbia Valley|        Chardonnay|                Buty|\n",
      "+-------+--------------------+--------------------+------+-----+----------+--------------------+-----------------+------------------+--------------------+\n",
      "only showing top 20 rows\n",
      "\n"
     ]
    }
   ],
   "source": [
    "df.filter(df[\"country\"] == \"US\").show()"
   ]
  },
  {
   "cell_type": "code",
   "execution_count": null,
   "metadata": {},
   "outputs": [],
   "source": []
  }
 ],
 "metadata": {
  "anaconda-cloud": {},
  "kernelspec": {
   "display_name": "Python 3",
   "language": "python",
   "name": "python3"
  },
  "language_info": {
   "codemirror_mode": {
    "name": "ipython",
    "version": 3
   },
   "file_extension": ".py",
   "mimetype": "text/x-python",
   "name": "python",
   "nbconvert_exporter": "python",
   "pygments_lexer": "ipython3",
   "version": "3.7.3"
  },
  "varInspector": {
   "cols": {
    "lenName": 16,
    "lenType": 16,
    "lenVar": 40
   },
   "kernels_config": {
    "python": {
     "delete_cmd_postfix": "",
     "delete_cmd_prefix": "del ",
     "library": "var_list.py",
     "varRefreshCmd": "print(var_dic_list())"
    },
    "r": {
     "delete_cmd_postfix": ") ",
     "delete_cmd_prefix": "rm(",
     "library": "var_list.r",
     "varRefreshCmd": "cat(var_dic_list()) "
    }
   },
   "types_to_exclude": [
    "module",
    "function",
    "builtin_function_or_method",
    "instance",
    "_Feature"
   ],
   "window_display": false
  }
 },
 "nbformat": 4,
 "nbformat_minor": 2
}
