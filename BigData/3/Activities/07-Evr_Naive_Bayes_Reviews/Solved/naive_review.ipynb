{
 "cells": [
  {
   "cell_type": "code",
   "execution_count": 1,
   "metadata": {},
   "outputs": [],
   "source": [
    "# Install Additional Python Libraries\n",
    "!pip install -r requirements.txt"
   ]
  },
  {
   "cell_type": "code",
   "execution_count": 2,
   "metadata": {},
   "outputs": [
    {
     "name": "stdout",
     "output_type": "stream",
     "text": [
      "Adding environment variable `PYSPARK_SUBMIT_ARGS`\n",
      "--packages com.databricks:spark-csv_2.11:1.5.0 pyspark-shell\n"
     ]
    }
   ],
   "source": [
    "from spark_libs import spark_submit\n",
    "packages = [\"com.databricks:spark-csv_2.11:1.5.0\"]\n",
    "spark_submit(packages=packages)"
   ]
  },
  {
   "cell_type": "code",
   "execution_count": 12,
   "metadata": {},
   "outputs": [],
   "source": [
    "from pyspark.sql import SparkSession\n",
    "from pyspark import SparkFiles\n",
    "from pyspark.sql import DataFrame\n",
    "import pyspark.sql.functions as F\n",
    "from pyspark.ml.feature import (\n",
    "    Tokenizer, \n",
    "    StopWordsRemover, \n",
    "    HashingTF, \n",
    "    IDF, \n",
    "    StringIndexer\n",
    ")\n",
    "from pyspark.ml.feature import VectorAssembler\n",
    "from pyspark.ml.linalg import Vector\n",
    "from pyspark.ml import Pipeline\n",
    "from pyspark.ml.classification import NaiveBayes\n",
    "from pyspark.ml.evaluation import MulticlassClassificationEvaluator\n",
    "from pyspark.sql.types import IntegerType"
   ]
  },
  {
   "cell_type": "code",
   "execution_count": 4,
   "metadata": {},
   "outputs": [],
   "source": [
    "# get or create Spark session\n",
    "\n",
    "app_name = \"naive-bayes\"\n",
    "spark = SparkSession.builder.appName(app_name).getOrCreate()"
   ]
  },
  {
   "cell_type": "code",
   "execution_count": 5,
   "metadata": {},
   "outputs": [
    {
     "name": "stdout",
     "output_type": "stream",
     "text": [
      "root\n",
      " |-- class: string (nullable = true)\n",
      " |-- text: string (nullable = true)\n",
      "\n"
     ]
    }
   ],
   "source": [
    "url =\"https://s3.amazonaws.com/dataviz-curriculum/day_2/yelp_reviews.csv\"\n",
    "spark.sparkContext.addFile(url)\n",
    "\n",
    "df = spark.read \\\n",
    "    .format(\"com.databricks.spark.csv\") \\\n",
    "    .options(header='true', inferSchema=\"true\") \\\n",
    "    .load(SparkFiles.get(\"yelp_reviews.csv\"))\n",
    "df.printSchema()"
   ]
  },
  {
   "cell_type": "code",
   "execution_count": 6,
   "metadata": {},
   "outputs": [
    {
     "name": "stdout",
     "output_type": "stream",
     "text": [
      "+--------+--------------------+------+\n",
      "|   class|                text|length|\n",
      "+--------+--------------------+------+\n",
      "|positive|Wow... Loved this...|    24|\n",
      "|negative|  Crust is not good.|    18|\n",
      "|negative|Not tasty and the...|    41|\n",
      "|positive|Stopped by during...|    87|\n",
      "|positive|The selection on ...|    59|\n",
      "|negative|Now I am getting ...|    46|\n",
      "|negative|Honeslty it didn'...|    37|\n",
      "|negative|The potatoes were...|   111|\n",
      "|positive|The fries were gr...|    25|\n",
      "|positive|      A great touch.|    14|\n",
      "|positive|Service was very ...|    24|\n",
      "|negative|  Would not go back.|    18|\n",
      "|negative|The cashier had n...|    99|\n",
      "|positive|I tried the Cape ...|    59|\n",
      "|negative|I was disgusted b...|    62|\n",
      "|negative|I was shocked bec...|    50|\n",
      "|positive| Highly recommended.|    19|\n",
      "|negative|Waitress was a li...|    38|\n",
      "|negative|This place is not...|    51|\n",
      "|negative|did not like at all.|    20|\n",
      "+--------+--------------------+------+\n",
      "only showing top 20 rows\n",
      "\n"
     ]
    }
   ],
   "source": [
    "# Create a length column to be used as a future feature \n",
    "data_df = df.withColumn('length', F.length(df['text']))\n",
    "data_df.show()"
   ]
  },
  {
   "cell_type": "markdown",
   "metadata": {},
   "source": [
    "### Feature Transformations\n"
   ]
  },
  {
   "cell_type": "code",
   "execution_count": 7,
   "metadata": {},
   "outputs": [],
   "source": [
    "# Create all the features to the data set\n",
    "pos_neg_to_num = StringIndexer(inputCol='class',outputCol='label')\n",
    "tokenizer = Tokenizer(inputCol=\"text\", outputCol=\"token_text\")\n",
    "stopremove = StopWordsRemover(inputCol='token_text',outputCol='stop_tokens')\n",
    "hashingTF = HashingTF(inputCol=\"token_text\", outputCol='hash_token')\n",
    "idf = IDF(inputCol='hash_token', outputCol='idf_token')"
   ]
  },
  {
   "cell_type": "code",
   "execution_count": 8,
   "metadata": {},
   "outputs": [],
   "source": [
    "# Create feature vectors\n",
    "clean_up = VectorAssembler(inputCols=['idf_token', 'length'], outputCol='features')"
   ]
  },
  {
   "cell_type": "code",
   "execution_count": 9,
   "metadata": {},
   "outputs": [],
   "source": [
    "data_prep_pipeline = Pipeline(stages=[\n",
    "    pos_neg_to_num, \n",
    "    tokenizer, \n",
    "    stopremove, \n",
    "    hashingTF, \n",
    "    idf, \n",
    "    clean_up\n",
    "])"
   ]
  },
  {
   "cell_type": "code",
   "execution_count": 10,
   "metadata": {},
   "outputs": [],
   "source": [
    "# Fit and transform the pipeline\n",
    "cleaner = data_prep_pipeline.fit(data_df)\n",
    "cleaned = cleaner.transform(data_df)"
   ]
  },
  {
   "cell_type": "code",
   "execution_count": 11,
   "metadata": {},
   "outputs": [
    {
     "name": "stdout",
     "output_type": "stream",
     "text": [
      "+-----+--------------------+\n",
      "|label|            features|\n",
      "+-----+--------------------+\n",
      "|  0.0|(262145,[33933,69...|\n",
      "|  1.0|(262145,[15889,13...|\n",
      "|  1.0|(262145,[25570,63...|\n",
      "|  0.0|(262145,[6286,272...|\n",
      "|  0.0|(262145,[6979,255...|\n",
      "|  1.0|(262145,[24417,24...|\n",
      "|  1.0|(262145,[12084,48...|\n",
      "|  1.0|(262145,[3645,963...|\n",
      "|  0.0|(262145,[53777,10...|\n",
      "|  0.0|(262145,[138356,2...|\n",
      "|  0.0|(262145,[24113,25...|\n",
      "|  1.0|(262145,[68867,13...|\n",
      "|  1.0|(262145,[24417,36...|\n",
      "|  0.0|(262145,[18098,24...|\n",
      "|  1.0|(262145,[24417,25...|\n",
      "|  1.0|(262145,[24417,25...|\n",
      "|  0.0|(262145,[31704,21...|\n",
      "|  1.0|(262145,[25570,27...|\n",
      "|  1.0|(262145,[12329,15...|\n",
      "|  1.0|(262145,[8287,139...|\n",
      "+-----+--------------------+\n",
      "only showing top 20 rows\n",
      "\n"
     ]
    }
   ],
   "source": [
    "# Show label and resulting features\n",
    "cleaned.select(['label', 'features']).show()"
   ]
  },
  {
   "cell_type": "code",
   "execution_count": 13,
   "metadata": {},
   "outputs": [],
   "source": [
    "# Break data down into a training set and a testing set\n",
    "training, testing = cleaned.randomSplit([0.7, 0.3])\n",
    "\n",
    "# Create a Naive Bayes model and fit training data\n",
    "nb = NaiveBayes()\n",
    "predictor = nb.fit(training)"
   ]
  },
  {
   "cell_type": "code",
   "execution_count": 14,
   "metadata": {},
   "outputs": [
    {
     "name": "stdout",
     "output_type": "stream",
     "text": [
      "+--------+--------------------+------+-----+--------------------+--------------------+--------------------+--------------------+--------------------+--------------------+--------------------+----------+\n",
      "|   class|                text|length|label|          token_text|         stop_tokens|          hash_token|           idf_token|            features|       rawPrediction|         probability|prediction|\n",
      "+--------+--------------------+------+-----+--------------------+--------------------+--------------------+--------------------+--------------------+--------------------+--------------------+----------+\n",
      "|negative|!....THE OWNERS R...|   120|  1.0|[!....the, owners...|[!....the, owners...|(262144,[14,12946...|(262144,[14,12946...|(262145,[14,12946...|[-1465.9369979331...|[0.99999995237070...|       0.0|\n",
      "|negative|\"It was extremely...|    51|  1.0|[\"it, was, extrem...|[\"it, extremely, ...|(262144,[7388,255...|(262144,[7388,255...|(262145,[7388,255...|[-482.73324539978...|[0.99997362823070...|       0.0|\n",
      "|negative|\"The servers went...|    97|  1.0|[\"the, servers, w...|[\"the, servers, w...|(262144,[50940,67...|(262144,[50940,67...|(262145,[50940,67...|[-1088.9615751674...|[5.53445582158964...|       1.0|\n",
      "|negative|\"like the other r...|    82|  1.0|[\"like, the, othe...|[\"like, reviewer,...|(262144,[22808,61...|(262144,[22808,61...|(262145,[22808,61...|[-925.19915366142...|[7.35314192659978...|       1.0|\n",
      "|negative| \"not even a \"\"hello|    19|  1.0|[\"not, even, a, \"...|[\"not, even, \"\"he...|(262144,[174966,2...|(262144,[174966,2...|(262145,[174966,2...|[-259.50439241762...|[0.47532427327819...|       1.0|\n",
      "+--------+--------------------+------+-----+--------------------+--------------------+--------------------+--------------------+--------------------+--------------------+--------------------+----------+\n",
      "only showing top 5 rows\n",
      "\n"
     ]
    }
   ],
   "source": [
    "# Tranform the model with the testing data\n",
    "test_results = predictor.transform(testing)\n",
    "test_results.show(5)"
   ]
  },
  {
   "cell_type": "code",
   "execution_count": 23,
   "metadata": {},
   "outputs": [
    {
     "name": "stdout",
     "output_type": "stream",
     "text": [
      "Accuracy of model at predicting reviews was: 0.740638\n"
     ]
    }
   ],
   "source": [
    "# Use the Class Evaluator for a cleaner description\n",
    "acc_eval = MulticlassClassificationEvaluator()\n",
    "acc = acc_eval.evaluate(test_results)\n",
    "print(\"Accuracy of model at predicting reviews was: %f\" % acc)"
   ]
  },
  {
   "cell_type": "code",
   "execution_count": null,
   "metadata": {},
   "outputs": [],
   "source": []
  }
 ],
 "metadata": {
  "kernel_info": {
   "name": "python3"
  },
  "kernelspec": {
   "display_name": "Python 3",
   "language": "python",
   "name": "python3"
  },
  "language_info": {
   "codemirror_mode": {
    "name": "ipython",
    "version": 3
   },
   "file_extension": ".py",
   "mimetype": "text/x-python",
   "name": "python",
   "nbconvert_exporter": "python",
   "pygments_lexer": "ipython3",
   "version": "3.7.3"
  },
  "nteract": {
   "version": "0.11.2"
  },
  "varInspector": {
   "cols": {
    "lenName": 16,
    "lenType": 16,
    "lenVar": 40
   },
   "kernels_config": {
    "python": {
     "delete_cmd_postfix": "",
     "delete_cmd_prefix": "del ",
     "library": "var_list.py",
     "varRefreshCmd": "print(var_dic_list())"
    },
    "r": {
     "delete_cmd_postfix": ") ",
     "delete_cmd_prefix": "rm(",
     "library": "var_list.r",
     "varRefreshCmd": "cat(var_dic_list()) "
    }
   },
   "types_to_exclude": [
    "module",
    "function",
    "builtin_function_or_method",
    "instance",
    "_Feature"
   ],
   "window_display": false
  }
 },
 "nbformat": 4,
 "nbformat_minor": 2
}
