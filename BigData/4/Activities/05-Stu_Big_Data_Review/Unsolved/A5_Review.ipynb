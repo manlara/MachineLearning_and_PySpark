{
 "cells": [
  {
   "cell_type": "code",
   "execution_count": 1,
   "metadata": {},
   "outputs": [
    {
     "data": {
      "text/html": [
       "<style scoped>\n",
       "  .ansiout {\n",
       "    display: block;\n",
       "    unicode-bidi: embed;\n",
       "    white-space: pre-wrap;\n",
       "    word-wrap: break-word;\n",
       "    word-break: break-all;\n",
       "    font-family: \"Source Code Pro\", \"Menlo\", monospace;;\n",
       "    font-size: 13px;\n",
       "    color: #555;\n",
       "    margin-left: 4px;\n",
       "    line-height: 19px;\n",
       "  }\n",
       "</style>\n",
       "<div class=\"ansiout\"></div>"
      ]
     },
     "metadata": {},
     "output_type": "display_data"
    }
   ],
   "source": [
    "from pyspark.sql import SparkSession\n",
    "from pyspark import SparkFiles\n",
    "from pyspark.sql import DataFrame\n",
    "import pyspark.sql.functions as F"
   ]
  },
  {
   "cell_type": "code",
   "execution_count": 2,
   "metadata": {},
   "outputs": [
    {
     "data": {
      "text/html": [
       "<style scoped>\n",
       "  .ansiout {\n",
       "    display: block;\n",
       "    unicode-bidi: embed;\n",
       "    white-space: pre-wrap;\n",
       "    word-wrap: break-word;\n",
       "    word-break: break-all;\n",
       "    font-family: \"Source Code Pro\", \"Menlo\", monospace;;\n",
       "    font-size: 13px;\n",
       "    color: #555;\n",
       "    margin-left: 4px;\n",
       "    line-height: 19px;\n",
       "  }\n",
       "</style>\n",
       "<div class=\"ansiout\"></div>"
      ]
     },
     "metadata": {},
     "output_type": "display_data"
    }
   ],
   "source": [
    "# get or create Spark session\n",
    "\n",
    "app_name = \"spark-review\"\n",
    "spark = SparkSession.builder.appName(app_name).getOrCreate()"
   ]
  },
  {
   "cell_type": "code",
   "execution_count": 3,
   "metadata": {},
   "outputs": [
    {
     "data": {
      "text/html": [
       "<style scoped>\n",
       "  .ansiout {\n",
       "    display: block;\n",
       "    unicode-bidi: embed;\n",
       "    white-space: pre-wrap;\n",
       "    word-wrap: break-word;\n",
       "    word-break: break-all;\n",
       "    font-family: \"Source Code Pro\", \"Menlo\", monospace;;\n",
       "    font-size: 13px;\n",
       "    color: #555;\n",
       "    margin-left: 4px;\n",
       "    line-height: 19px;\n",
       "  }\n",
       "</style>\n",
       "<div class=\"ansiout\">root\n",
       "-- coffee_shop_name: string (nullable = true)\n",
       "-- review_text: string (nullable = true)\n",
       "-- rating: string (nullable = true)\n",
       "-- num_rating: integer (nullable = true)\n",
       "-- cat_rating: string (nullable = true)\n",
       "-- bool_HIGH: integer (nullable = true)\n",
       "-- overall_sent: integer (nullable = true)\n",
       "-- vibe_sent: string (nullable = true)\n",
       "-- tea_sent: integer (nullable = true)\n",
       "-- service_sent: integer (nullable = true)\n",
       "-- seating_sent: integer (nullable = true)\n",
       "-- price_sent: integer (nullable = true)\n",
       "-- parking_sent: string (nullable = true)\n",
       "-- location_sent: integer (nullable = true)\n",
       "-- alcohol_sent: integer (nullable = true)\n",
       "-- coffee_sent: string (nullable = true)\n",
       "-- food_sent: string (nullable = true)\n",
       "-- hours_sent: integer (nullable = true)\n",
       "-- internet_sent: integer (nullable = true)\n",
       "-- local_sent: integer (nullable = true)\n",
       "-- _c20: string (nullable = true)\n",
       "-- _c21: string (nullable = true)\n",
       "-- _c22: string (nullable = true)\n",
       "-- _c23: string (nullable = true)\n",
       "-- _c24: string (nullable = true)\n",
       "-- _c25: string (nullable = true)\n",
       "-- _c26: string (nullable = true)\n",
       "-- _c27: string (nullable = true)\n",
       "-- _c28: string (nullable = true)\n",
       "-- _c29: string (nullable = true)\n",
       "-- _c30: string (nullable = true)\n",
       "-- _c31: string (nullable = true)\n",
       "-- _c32: string (nullable = true)\n",
       "-- _c33: string (nullable = true)\n",
       "-- _c34: string (nullable = true)\n",
       "-- _c35: string (nullable = true)\n",
       "-- _c36: string (nullable = true)\n",
       "-- _c37: string (nullable = true)\n",
       "\n",
       "</div>"
      ]
     },
     "metadata": {},
     "output_type": "display_data"
    }
   ],
   "source": [
    "# TODO\n",
    "# complete read statement\n",
    "\n",
    "rs_file =\"/FileStore/tables/ratings_and_sentiments.csv\"\n",
    "df_rs = spark.read\n",
    "df_rs.printSchema()"
   ]
  },
  {
   "cell_type": "code",
   "execution_count": 4,
   "metadata": {},
   "outputs": [
    {
     "data": {
      "text/html": [
       "<style scoped>\n",
       "  .ansiout {\n",
       "    display: block;\n",
       "    unicode-bidi: embed;\n",
       "    white-space: pre-wrap;\n",
       "    word-wrap: break-word;\n",
       "    word-break: break-all;\n",
       "    font-family: \"Source Code Pro\", \"Menlo\", monospace;;\n",
       "    font-size: 13px;\n",
       "    color: #555;\n",
       "    margin-left: 4px;\n",
       "    line-height: 19px;\n",
       "  }\n",
       "</style>\n",
       "<div class=\"ansiout\">Out[14]: Row(coffee_shop_name=&#39;The Factory - Cafe With a Soul &#39;, review_text=&#39;11/25/2016 1 check-in Love love loved the vibe! Every corner of the coffee shop had its own style and there were swings!!! I ordered the matcha coffee and it was muy fantastico! Ordering and getting my drink were pretty streamlined. I ordered on an iPad which included all beverage selections that ranged from coffee to alcohol desired level of sweetness and a checkout system. I got my coffee within minutes! I was hoping for a typical heart or feather on my coffee but found myself listing out all the possibilities of what the vibe may be. Any ideas?&#39;, rating=&#39; 5.0 star rating &#39;, num_rating=5, cat_rating=&#39;HIGH&#39;, bool_HIGH=1, overall_sent=4, vibe_sent=&#39;3&#39;, tea_sent=0, service_sent=0, seating_sent=0, price_sent=0, parking_sent=&#39;0&#39;, location_sent=0, alcohol_sent=1, coffee_sent=&#39;3&#39;, food_sent=&#39;0&#39;, hours_sent=0, internet_sent=0, local_sent=0, _c20=None, _c21=None, _c22=None, _c23=None, _c24=None, _c25=None, _c26=None, _c27=None, _c28=None, _c29=None, _c30=None, _c31=None, _c32=None, _c33=None, _c34=None, _c35=None, _c36=None, _c37=None)</div>"
      ]
     },
     "metadata": {},
     "output_type": "display_data"
    }
   ],
   "source": [
    "df_rs.head()"
   ]
  },
  {
   "cell_type": "code",
   "execution_count": 5,
   "metadata": {},
   "outputs": [
    {
     "data": {
      "text/html": [
       "<style scoped>\n",
       "  .ansiout {\n",
       "    display: block;\n",
       "    unicode-bidi: embed;\n",
       "    white-space: pre-wrap;\n",
       "    word-wrap: break-word;\n",
       "    word-break: break-all;\n",
       "    font-family: \"Source Code Pro\", \"Menlo\", monospace;;\n",
       "    font-size: 13px;\n",
       "    color: #555;\n",
       "    margin-left: 4px;\n",
       "    line-height: 19px;\n",
       "  }\n",
       "</style>\n",
       "<div class=\"ansiout\">+----------------+---------------+-------------+\n",
       "coffee_shop_name|avg(num_rating)|total_ratings|\n",
       "+----------------+---------------+-------------+\n",
       "   Epoch Coffee |         3.8125|          400|\n",
       "+----------------+---------------+-------------+\n",
       "\n",
       "</div>"
      ]
     },
     "metadata": {},
     "output_type": "display_data"
    }
   ],
   "source": [
    "# `Q1_unsolved`: What is the average rating for the coffee shop with the most reviews?\n",
    "  \n"
   ]
  },
  {
   "cell_type": "code",
   "execution_count": 6,
   "metadata": {},
   "outputs": [
    {
     "data": {
      "text/html": [
       "<style scoped>\n",
       "  .ansiout {\n",
       "    display: block;\n",
       "    unicode-bidi: embed;\n",
       "    white-space: pre-wrap;\n",
       "    word-wrap: break-word;\n",
       "    word-break: break-all;\n",
       "    font-family: \"Source Code Pro\", \"Menlo\", monospace;;\n",
       "    font-size: 13px;\n",
       "    color: #555;\n",
       "    margin-left: 4px;\n",
       "    line-height: 19px;\n",
       "  }\n",
       "</style>\n",
       "<div class=\"ansiout\">+------------------------------+---------------+-------------+\n",
       "coffee_shop_name              |avg(num_rating)|total_ratings|\n",
       "+------------------------------+---------------+-------------+\n",
       "Lola Savannah Coffee Downtown |5.0            |4            |\n",
       "+------------------------------+---------------+-------------+\n",
       "\n",
       "</div>"
      ]
     },
     "metadata": {},
     "output_type": "display_data"
    }
   ],
   "source": [
    "# `Q2_unsolved`: Which coffee shop had the fewest number of ratings?\n",
    "\n"
   ]
  },
  {
   "cell_type": "code",
   "execution_count": 7,
   "metadata": {},
   "outputs": [
    {
     "data": {
      "text/html": [
       "<style scoped>\n",
       "  .ansiout {\n",
       "    display: block;\n",
       "    unicode-bidi: embed;\n",
       "    white-space: pre-wrap;\n",
       "    word-wrap: break-word;\n",
       "    word-break: break-all;\n",
       "    font-family: \"Source Code Pro\", \"Menlo\", monospace;;\n",
       "    font-size: 13px;\n",
       "    color: #555;\n",
       "    margin-left: 4px;\n",
       "    line-height: 19px;\n",
       "  }\n",
       "</style>\n",
       "<div class=\"ansiout\">Out[48]: Row(coffee_shop_name=&#39;The Factory - Cafe With a Soul &#39;, review_text=&#39;11/25/2016 1 check-in Love love loved the vibe! Every corner of the coffee shop had its own style and there were swings!!! I ordered the matcha coffee and it was muy fantastico! Ordering and getting my drink were pretty streamlined. I ordered on an iPad which included all beverage selections that ranged from coffee to alcohol desired level of sweetness and a checkout system. I got my coffee within minutes! I was hoping for a typical heart or feather on my coffee but found myself listing out all the possibilities of what the vibe may be. Any ideas?&#39;, rating=&#39; 5.0 star rating &#39;, num_rating=5, cat_rating=&#39;HIGH&#39;, bool_HIGH=1, overall_sent=4, vibe_sent=&#39;3&#39;, tea_sent=0, service_sent=0, seating_sent=0, price_sent=0, parking_sent=&#39;0&#39;, location_sent=0, alcohol_sent=1, coffee_sent=&#39;3&#39;, food_sent=&#39;0&#39;, hours_sent=0, internet_sent=0, local_sent=0, _c20=None, _c21=None, _c22=None, _c23=None, _c24=None, _c25=None, _c26=None, _c27=None, _c28=None, _c29=None, _c30=None, _c31=None, _c32=None, _c33=None, _c34=None, _c35=None, _c36=None, _c37=None, created_at=&#39;11/25/2&#39;)</div>"
      ]
     },
     "metadata": {},
     "output_type": "display_data"
    }
   ],
   "source": [
    "# `Q3_unsolved`: Create a created_at field based on review_text?\n",
    "# regex_extract docs: http://spark.apache.org/docs/latest/api/python/pyspark.sql.html?highlight=regex#pyspark.sql.functions.regexp_extract\n",
    "\n"
   ]
  },
  {
   "cell_type": "code",
   "execution_count": 8,
   "metadata": {},
   "outputs": [
    {
     "data": {
      "text/html": [
       "<style scoped>\n",
       "  .ansiout {\n",
       "    display: block;\n",
       "    unicode-bidi: embed;\n",
       "    white-space: pre-wrap;\n",
       "    word-wrap: break-word;\n",
       "    word-break: break-all;\n",
       "    font-family: \"Source Code Pro\", \"Menlo\", monospace;;\n",
       "    font-size: 13px;\n",
       "    color: #555;\n",
       "    margin-left: 4px;\n",
       "    line-height: 19px;\n",
       "  }\n",
       "</style>\n",
       "<div class=\"ansiout\">+----------+--------------+\n",
       "created_at|number_reviews|\n",
       "+----------+--------------+\n",
       "    12/3/2|            44|\n",
       "+----------+--------------+\n",
       "\n",
       "</div>"
      ]
     },
     "metadata": {},
     "output_type": "display_data"
    }
   ],
   "source": [
    "# `Q4_Unsolved`: Which date had the highest number of reviews?\n",
    "\n"
   ]
  },
  {
   "cell_type": "code",
   "execution_count": 9,
   "metadata": {},
   "outputs": [],
   "source": []
  }
 ],
 "metadata": {
  "kernelspec": {
   "display_name": "Python 3",
   "language": "python",
   "name": "python3"
  },
  "language_info": {
   "codemirror_mode": {
    "name": "ipython",
    "version": 3
   },
   "file_extension": ".py",
   "mimetype": "text/x-python",
   "name": "python",
   "nbconvert_exporter": "python",
   "pygments_lexer": "ipython3",
   "version": "3.7.3"
  },
  "name": "A5_Review",
  "notebookId": 3936197323282980
 },
 "nbformat": 4,
 "nbformat_minor": 1
}
