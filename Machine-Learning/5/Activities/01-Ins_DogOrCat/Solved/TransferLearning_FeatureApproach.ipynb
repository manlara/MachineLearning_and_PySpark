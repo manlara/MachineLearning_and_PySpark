{
 "cells": [
  {
   "cell_type": "code",
   "execution_count": null,
   "metadata": {
    "colab": {
     "base_uri": "https://localhost:8080/",
     "height": 7990
    },
    "colab_type": "code",
    "id": "N9SSuv8u6yzY",
    "outputId": "e71bff42-de8a-449a-fde1-f6eeecbf669f"
   },
   "outputs": [],
   "source": [
    "# !tar -zxvf archive.tar.gz"
   ]
  },
  {
   "cell_type": "code",
   "execution_count": 1,
   "metadata": {
    "colab": {},
    "colab_type": "code",
    "id": "cDYMXLq47gnK"
   },
   "outputs": [],
   "source": [
    "%matplotlib inline\n",
    "import matplotlib.pyplot as plt\n",
    "import numpy as np\n",
    "import os"
   ]
  },
  {
   "cell_type": "code",
   "execution_count": 2,
   "metadata": {
    "colab": {
     "base_uri": "https://localhost:8080/",
     "height": 34
    },
    "colab_type": "code",
    "id": "X61_gc3H7-28",
    "outputId": "200d73b8-5a71-499f-b3bd-fa936e79f62e"
   },
   "outputs": [
    {
     "name": "stderr",
     "output_type": "stream",
     "text": [
      "Using TensorFlow backend.\n"
     ]
    }
   ],
   "source": [
    "from keras.applications.vgg19 import (\n",
    "    VGG19, preprocess_input, decode_predictions)\n",
    "\n",
    "from keras.models import Sequential\n",
    "from keras.layers import Dense, Activation, Flatten\n",
    "from keras.layers import merge, Input\n",
    "from keras.models import Model\n",
    "from keras.utils import to_categorical, np_utils\n",
    "from sklearn.utils import shuffle\n",
    "from sklearn.model_selection import train_test_split"
   ]
  },
  {
   "cell_type": "code",
   "execution_count": 3,
   "metadata": {
    "colab": {},
    "colab_type": "code",
    "id": "9SY9xKtq8Anj"
   },
   "outputs": [],
   "source": [
    "import data"
   ]
  },
  {
   "cell_type": "code",
   "execution_count": 4,
   "metadata": {
    "colab": {},
    "colab_type": "code",
    "id": "TRlMUeMQ8I0c"
   },
   "outputs": [],
   "source": [
    "data.train_path = \"Resources/train\"\n",
    "data.test_path = \"Resources/test\"\n",
    "folder_names = [\"cats\", \"dogs\"]"
   ]
  },
  {
   "cell_type": "code",
   "execution_count": 5,
   "metadata": {
    "colab": {
     "base_uri": "https://localhost:8080/",
     "height": 221
    },
    "colab_type": "code",
    "id": "y_lR5ckU8dJ2",
    "outputId": "83bb0f4d-f94a-44a7-cea2-5009cf8f0a8f"
   },
   "outputs": [
    {
     "name": "stdout",
     "output_type": "stream",
     "text": [
      "Resources/train/dogs/*\n",
      "Loaded the images of dataset-dogs\n",
      "\n",
      "Resources/train/cats/*\n",
      "Loaded the images of dataset-cats\n",
      "\n"
     ]
    }
   ],
   "source": [
    "X_train, Y_train = data.get_images(data.train_path, folder_names)"
   ]
  },
  {
   "cell_type": "code",
   "execution_count": 6,
   "metadata": {
    "colab": {
     "base_uri": "https://localhost:8080/",
     "height": 221
    },
    "colab_type": "code",
    "id": "chqaLAGf8f4j",
    "outputId": "9def9d4b-0b6a-462d-a2c9-7a09a722bb8f"
   },
   "outputs": [
    {
     "name": "stdout",
     "output_type": "stream",
     "text": [
      "Resources/test/dogs/*\n",
      "Loaded the images of dataset-dogs\n",
      "\n",
      "Resources/test/cats/*\n",
      "Loaded the images of dataset-cats\n",
      "\n"
     ]
    }
   ],
   "source": [
    "X_test, Y_test = data.get_images(data.test_path, folder_names)"
   ]
  },
  {
   "cell_type": "code",
   "execution_count": 7,
   "metadata": {
    "colab": {
     "base_uri": "https://localhost:8080/",
     "height": 34
    },
    "colab_type": "code",
    "id": "bPuPWHgI8igN",
    "outputId": "c93119be-010d-40a7-ec5f-4d0e41b482dd"
   },
   "outputs": [
    {
     "data": {
      "text/plain": [
       "(74, 2)"
      ]
     },
     "execution_count": 7,
     "metadata": {},
     "output_type": "execute_result"
    }
   ],
   "source": [
    "Y_train.shape"
   ]
  },
  {
   "cell_type": "code",
   "execution_count": 8,
   "metadata": {
    "colab": {
     "base_uri": "https://localhost:8080/",
     "height": 34
    },
    "colab_type": "code",
    "id": "WK8kZIdN8kvG",
    "outputId": "b251f7e8-e98c-4ea7-ce49-076db887490e"
   },
   "outputs": [
    {
     "data": {
      "text/plain": [
       "(32, 2)"
      ]
     },
     "execution_count": 8,
     "metadata": {},
     "output_type": "execute_result"
    }
   ],
   "source": [
    "Y_test.shape"
   ]
  },
  {
   "cell_type": "code",
   "execution_count": 9,
   "metadata": {
    "colab": {
     "base_uri": "https://localhost:8080/",
     "height": 1125
    },
    "colab_type": "code",
    "id": "FIQmOyQM8mJV",
    "outputId": "b095abdc-d10c-434c-bd28-de588077f799"
   },
   "outputs": [
    {
     "name": "stdout",
     "output_type": "stream",
     "text": [
      "_________________________________________________________________\n",
      "Layer (type)                 Output Shape              Param #   \n",
      "=================================================================\n",
      "input_1 (InputLayer)         (None, 224, 224, 3)       0         \n",
      "_________________________________________________________________\n",
      "block1_conv1 (Conv2D)        (None, 224, 224, 64)      1792      \n",
      "_________________________________________________________________\n",
      "block1_conv2 (Conv2D)        (None, 224, 224, 64)      36928     \n",
      "_________________________________________________________________\n",
      "block1_pool (MaxPooling2D)   (None, 112, 112, 64)      0         \n",
      "_________________________________________________________________\n",
      "block2_conv1 (Conv2D)        (None, 112, 112, 128)     73856     \n",
      "_________________________________________________________________\n",
      "block2_conv2 (Conv2D)        (None, 112, 112, 128)     147584    \n",
      "_________________________________________________________________\n",
      "block2_pool (MaxPooling2D)   (None, 56, 56, 128)       0         \n",
      "_________________________________________________________________\n",
      "block3_conv1 (Conv2D)        (None, 56, 56, 256)       295168    \n",
      "_________________________________________________________________\n",
      "block3_conv2 (Conv2D)        (None, 56, 56, 256)       590080    \n",
      "_________________________________________________________________\n",
      "block3_conv3 (Conv2D)        (None, 56, 56, 256)       590080    \n",
      "_________________________________________________________________\n",
      "block3_conv4 (Conv2D)        (None, 56, 56, 256)       590080    \n",
      "_________________________________________________________________\n",
      "block3_pool (MaxPooling2D)   (None, 28, 28, 256)       0         \n",
      "_________________________________________________________________\n",
      "block4_conv1 (Conv2D)        (None, 28, 28, 512)       1180160   \n",
      "_________________________________________________________________\n",
      "block4_conv2 (Conv2D)        (None, 28, 28, 512)       2359808   \n",
      "_________________________________________________________________\n",
      "block4_conv3 (Conv2D)        (None, 28, 28, 512)       2359808   \n",
      "_________________________________________________________________\n",
      "block4_conv4 (Conv2D)        (None, 28, 28, 512)       2359808   \n",
      "_________________________________________________________________\n",
      "block4_pool (MaxPooling2D)   (None, 14, 14, 512)       0         \n",
      "_________________________________________________________________\n",
      "block5_conv1 (Conv2D)        (None, 14, 14, 512)       2359808   \n",
      "_________________________________________________________________\n",
      "block5_conv2 (Conv2D)        (None, 14, 14, 512)       2359808   \n",
      "_________________________________________________________________\n",
      "block5_conv3 (Conv2D)        (None, 14, 14, 512)       2359808   \n",
      "_________________________________________________________________\n",
      "block5_conv4 (Conv2D)        (None, 14, 14, 512)       2359808   \n",
      "_________________________________________________________________\n",
      "block5_pool (MaxPooling2D)   (None, 7, 7, 512)         0         \n",
      "_________________________________________________________________\n",
      "flatten (Flatten)            (None, 25088)             0         \n",
      "_________________________________________________________________\n",
      "fc1 (Dense)                  (None, 4096)              102764544 \n",
      "_________________________________________________________________\n",
      "fc2 (Dense)                  (None, 4096)              16781312  \n",
      "_________________________________________________________________\n",
      "predictions (Dense)          (None, 1000)              4097000   \n",
      "=================================================================\n",
      "Total params: 143,667,240\n",
      "Trainable params: 143,667,240\n",
      "Non-trainable params: 0\n",
      "_________________________________________________________________\n"
     ]
    }
   ],
   "source": [
    "image_input = Input(shape=(224, 224, 3))\n",
    "\n",
    "vgg_model = VGG19(input_tensor=image_input, include_top=True, weights='imagenet')\n",
    "# vgg_model = VGG19(input_tensor=image_input, include_top=False, weights='imagenet')\n",
    "vgg_model.summary()"
   ]
  },
  {
   "cell_type": "code",
   "execution_count": 10,
   "metadata": {
    "colab": {},
    "colab_type": "code",
    "id": "lnwF8i168oO0"
   },
   "outputs": [],
   "source": [
    "X_train_features = vgg_model.predict(X_train)"
   ]
  },
  {
   "cell_type": "code",
   "execution_count": 11,
   "metadata": {
    "colab": {},
    "colab_type": "code",
    "id": "_6U5o78z8s6O"
   },
   "outputs": [],
   "source": [
    "X_test_features = vgg_model.predict(X_test)"
   ]
  },
  {
   "cell_type": "code",
   "execution_count": 31,
   "metadata": {
    "colab": {},
    "colab_type": "code",
    "id": "eJW0JKbx-SB-"
   },
   "outputs": [],
   "source": [
    "# use the 1000 category output like a set of features into a new model\n",
    "\n",
    "feature_model = Sequential()\n",
    "feature_model.add(Dense(data.num_classes, activation=\"sigmoid\", input_shape=(1000,)))\n",
    "feature_model.compile(loss=\"categorical_crossentropy\", optimizer=\"adam\", metrics=[\"accuracy\"])"
   ]
  },
  {
   "cell_type": "code",
   "execution_count": 32,
   "metadata": {
    "colab": {
     "base_uri": "https://localhost:8080/",
     "height": 1822
    },
    "colab_type": "code",
    "id": "WTthjlX7-x2Y",
    "outputId": "c76b5072-5a40-4067-89bb-d92fb737aea1"
   },
   "outputs": [
    {
     "name": "stdout",
     "output_type": "stream",
     "text": [
      "Train on 74 samples, validate on 32 samples\n",
      "Epoch 1/50\n",
      "74/74 [==============================] - 0s 1ms/step - loss: 0.6903 - acc: 0.7162 - val_loss: 0.6909 - val_acc: 0.7500\n",
      "Epoch 2/50\n",
      "74/74 [==============================] - 0s 62us/step - loss: 0.6893 - acc: 0.7703 - val_loss: 0.6898 - val_acc: 0.7812\n",
      "Epoch 3/50\n",
      "74/74 [==============================] - 0s 62us/step - loss: 0.6882 - acc: 0.8108 - val_loss: 0.6888 - val_acc: 0.8438\n",
      "Epoch 4/50\n",
      "74/74 [==============================] - 0s 76us/step - loss: 0.6872 - acc: 0.8649 - val_loss: 0.6877 - val_acc: 0.9062\n",
      "Epoch 5/50\n",
      "74/74 [==============================] - 0s 71us/step - loss: 0.6862 - acc: 0.8919 - val_loss: 0.6867 - val_acc: 0.9062\n",
      "Epoch 6/50\n",
      "74/74 [==============================] - 0s 65us/step - loss: 0.6852 - acc: 0.8919 - val_loss: 0.6857 - val_acc: 0.9375\n",
      "Epoch 7/50\n",
      "74/74 [==============================] - 0s 61us/step - loss: 0.6842 - acc: 0.9324 - val_loss: 0.6847 - val_acc: 0.9375\n",
      "Epoch 8/50\n",
      "74/74 [==============================] - 0s 61us/step - loss: 0.6833 - acc: 0.9459 - val_loss: 0.6837 - val_acc: 0.9375\n",
      "Epoch 9/50\n",
      "74/74 [==============================] - 0s 55us/step - loss: 0.6823 - acc: 0.9459 - val_loss: 0.6827 - val_acc: 0.9688\n",
      "Epoch 10/50\n",
      "74/74 [==============================] - 0s 60us/step - loss: 0.6813 - acc: 0.9595 - val_loss: 0.6817 - val_acc: 0.9688\n",
      "Epoch 11/50\n",
      "74/74 [==============================] - 0s 60us/step - loss: 0.6803 - acc: 0.9595 - val_loss: 0.6807 - val_acc: 0.9688\n",
      "Epoch 12/50\n",
      "74/74 [==============================] - 0s 57us/step - loss: 0.6793 - acc: 0.9595 - val_loss: 0.6797 - val_acc: 0.9688\n",
      "Epoch 13/50\n",
      "74/74 [==============================] - 0s 56us/step - loss: 0.6784 - acc: 0.9595 - val_loss: 0.6787 - val_acc: 0.9688\n",
      "Epoch 14/50\n",
      "74/74 [==============================] - 0s 62us/step - loss: 0.6774 - acc: 0.9595 - val_loss: 0.6777 - val_acc: 0.9688\n",
      "Epoch 15/50\n",
      "74/74 [==============================] - 0s 62us/step - loss: 0.6764 - acc: 0.9595 - val_loss: 0.6767 - val_acc: 0.9688\n",
      "Epoch 16/50\n",
      "74/74 [==============================] - 0s 54us/step - loss: 0.6755 - acc: 0.9595 - val_loss: 0.6757 - val_acc: 0.9688\n",
      "Epoch 17/50\n",
      "74/74 [==============================] - 0s 56us/step - loss: 0.6745 - acc: 0.9730 - val_loss: 0.6747 - val_acc: 0.9688\n",
      "Epoch 18/50\n",
      "74/74 [==============================] - 0s 67us/step - loss: 0.6736 - acc: 0.9865 - val_loss: 0.6737 - val_acc: 0.9688\n",
      "Epoch 19/50\n",
      "74/74 [==============================] - 0s 58us/step - loss: 0.6726 - acc: 0.9865 - val_loss: 0.6727 - val_acc: 0.9688\n",
      "Epoch 20/50\n",
      "74/74 [==============================] - 0s 61us/step - loss: 0.6716 - acc: 0.9865 - val_loss: 0.6717 - val_acc: 0.9688\n",
      "Epoch 21/50\n",
      "74/74 [==============================] - 0s 63us/step - loss: 0.6707 - acc: 0.9865 - val_loss: 0.6707 - val_acc: 0.9688\n",
      "Epoch 22/50\n",
      "74/74 [==============================] - 0s 56us/step - loss: 0.6698 - acc: 0.9865 - val_loss: 0.6698 - val_acc: 0.9688\n",
      "Epoch 23/50\n",
      "74/74 [==============================] - 0s 55us/step - loss: 0.6688 - acc: 0.9865 - val_loss: 0.6688 - val_acc: 0.9688\n",
      "Epoch 24/50\n",
      "74/74 [==============================] - 0s 62us/step - loss: 0.6678 - acc: 0.9865 - val_loss: 0.6678 - val_acc: 0.9688\n",
      "Epoch 25/50\n",
      "74/74 [==============================] - 0s 58us/step - loss: 0.6669 - acc: 0.9865 - val_loss: 0.6668 - val_acc: 0.9688\n",
      "Epoch 26/50\n",
      "74/74 [==============================] - 0s 59us/step - loss: 0.6659 - acc: 0.9865 - val_loss: 0.6658 - val_acc: 0.9688\n",
      "Epoch 27/50\n",
      "74/74 [==============================] - 0s 58us/step - loss: 0.6650 - acc: 0.9865 - val_loss: 0.6649 - val_acc: 0.9688\n",
      "Epoch 28/50\n",
      "74/74 [==============================] - 0s 60us/step - loss: 0.6640 - acc: 1.0000 - val_loss: 0.6639 - val_acc: 0.9688\n",
      "Epoch 29/50\n",
      "74/74 [==============================] - 0s 56us/step - loss: 0.6631 - acc: 1.0000 - val_loss: 0.6630 - val_acc: 0.9688\n",
      "Epoch 30/50\n",
      "74/74 [==============================] - 0s 56us/step - loss: 0.6622 - acc: 1.0000 - val_loss: 0.6620 - val_acc: 0.9688\n",
      "Epoch 31/50\n",
      "74/74 [==============================] - 0s 59us/step - loss: 0.6612 - acc: 1.0000 - val_loss: 0.6610 - val_acc: 0.9688\n",
      "Epoch 32/50\n",
      "74/74 [==============================] - 0s 55us/step - loss: 0.6603 - acc: 1.0000 - val_loss: 0.6601 - val_acc: 0.9688\n",
      "Epoch 33/50\n",
      "74/74 [==============================] - 0s 54us/step - loss: 0.6594 - acc: 1.0000 - val_loss: 0.6591 - val_acc: 0.9688\n",
      "Epoch 34/50\n",
      "74/74 [==============================] - 0s 55us/step - loss: 0.6584 - acc: 1.0000 - val_loss: 0.6582 - val_acc: 0.9688\n",
      "Epoch 35/50\n",
      "74/74 [==============================] - 0s 64us/step - loss: 0.6575 - acc: 1.0000 - val_loss: 0.6572 - val_acc: 0.9688\n",
      "Epoch 36/50\n",
      "74/74 [==============================] - 0s 56us/step - loss: 0.6566 - acc: 1.0000 - val_loss: 0.6562 - val_acc: 0.9688\n",
      "Epoch 37/50\n",
      "74/74 [==============================] - 0s 54us/step - loss: 0.6557 - acc: 1.0000 - val_loss: 0.6553 - val_acc: 0.9688\n",
      "Epoch 38/50\n",
      "74/74 [==============================] - 0s 59us/step - loss: 0.6547 - acc: 1.0000 - val_loss: 0.6543 - val_acc: 0.9688\n",
      "Epoch 39/50\n",
      "74/74 [==============================] - 0s 53us/step - loss: 0.6538 - acc: 1.0000 - val_loss: 0.6534 - val_acc: 0.9688\n",
      "Epoch 40/50\n",
      "74/74 [==============================] - 0s 57us/step - loss: 0.6529 - acc: 1.0000 - val_loss: 0.6524 - val_acc: 0.9688\n",
      "Epoch 41/50\n",
      "74/74 [==============================] - 0s 56us/step - loss: 0.6519 - acc: 1.0000 - val_loss: 0.6514 - val_acc: 0.9688\n",
      "Epoch 42/50\n",
      "74/74 [==============================] - 0s 60us/step - loss: 0.6510 - acc: 1.0000 - val_loss: 0.6505 - val_acc: 0.9688\n",
      "Epoch 43/50\n",
      "74/74 [==============================] - 0s 53us/step - loss: 0.6501 - acc: 1.0000 - val_loss: 0.6495 - val_acc: 0.9688\n",
      "Epoch 44/50\n",
      "74/74 [==============================] - 0s 58us/step - loss: 0.6492 - acc: 1.0000 - val_loss: 0.6485 - val_acc: 0.9688\n",
      "Epoch 45/50\n",
      "74/74 [==============================] - 0s 62us/step - loss: 0.6482 - acc: 1.0000 - val_loss: 0.6476 - val_acc: 0.9688\n",
      "Epoch 46/50\n",
      "74/74 [==============================] - 0s 58us/step - loss: 0.6473 - acc: 1.0000 - val_loss: 0.6466 - val_acc: 0.9688\n",
      "Epoch 47/50\n",
      "74/74 [==============================] - 0s 55us/step - loss: 0.6464 - acc: 1.0000 - val_loss: 0.6457 - val_acc: 0.9688\n",
      "Epoch 48/50\n",
      "74/74 [==============================] - 0s 57us/step - loss: 0.6454 - acc: 1.0000 - val_loss: 0.6448 - val_acc: 0.9688\n",
      "Epoch 49/50\n",
      "74/74 [==============================] - 0s 65us/step - loss: 0.6445 - acc: 1.0000 - val_loss: 0.6439 - val_acc: 0.9688\n",
      "Epoch 50/50\n",
      "74/74 [==============================] - 0s 58us/step - loss: 0.6436 - acc: 1.0000 - val_loss: 0.6430 - val_acc: 0.9688\n"
     ]
    },
    {
     "data": {
      "text/plain": [
       "<keras.callbacks.History at 0x7fa0e0e33ef0>"
      ]
     },
     "execution_count": 32,
     "metadata": {},
     "output_type": "execute_result"
    }
   ],
   "source": [
    "feature_model.fit(X_train_features, Y_train, epochs=50, validation_data=(X_test_features, Y_test))"
   ]
  },
  {
   "cell_type": "code",
   "execution_count": null,
   "metadata": {
    "colab": {},
    "colab_type": "code",
    "id": "hQoIMW5z-2W4"
   },
   "outputs": [],
   "source": []
  }
 ],
 "metadata": {
  "accelerator": "TPU",
  "colab": {
   "name": "TransferLearning_FeatureApproach.ipynb",
   "provenance": [],
   "version": "0.3.2"
  },
  "kernelspec": {
   "display_name": "Python [conda env:ut_ml]",
   "language": "python",
   "name": "conda-env-ut_ml-py"
  },
  "language_info": {
   "codemirror_mode": {
    "name": "ipython",
    "version": 3
   },
   "file_extension": ".py",
   "mimetype": "text/x-python",
   "name": "python",
   "nbconvert_exporter": "python",
   "pygments_lexer": "ipython3",
   "version": "3.6.8"
  }
 },
 "nbformat": 4,
 "nbformat_minor": 1
}
