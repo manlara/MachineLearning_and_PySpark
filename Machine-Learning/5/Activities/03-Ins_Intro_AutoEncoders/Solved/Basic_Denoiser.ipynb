{
  "nbformat": 4,
  "nbformat_minor": 0,
  "metadata": {
    "colab": {
      "name": "Basic_Denoiser.ipynb",
      "version": "0.3.2",
      "provenance": []
    },
    "language_info": {
      "codemirror_mode": {
        "name": "ipython",
        "version": 3
      },
      "file_extension": ".py",
      "mimetype": "text/x-python",
      "name": "python",
      "nbconvert_exporter": "python",
      "pygments_lexer": "ipython3",
      "version": "3.6.8"
    },
    "kernelspec": {
      "name": "python3",
      "display_name": "Python 3"
    },
    "accelerator": "TPU"
  },
  "cells": [
    {
      "cell_type": "markdown",
      "metadata": {
        "id": "IftAA332y3DU",
        "colab_type": "raw"
      },
      "source": [
        "Based on the video below\n",
        "https://www.youtube.com/watch?v=6maH8Lh3pK4\n",
        "\n",
        "https://blog.keras.io/building-autoencoders-in-keras.html"
      ]
    },
    {
      "cell_type": "markdown",
      "metadata": {
        "id": "BJXsAz-Dy3DV",
        "colab_type": "text"
      },
      "source": [
        "Make the NN summarise the information the are looking at.\n",
        "\n",
        "Useful for compression and denoising"
      ]
    },
    {
      "cell_type": "code",
      "metadata": {
        "id": "JDWkbzNvy3DW",
        "colab_type": "code",
        "colab": {
          "base_uri": "https://localhost:8080/",
          "height": 34
        },
        "outputId": "83df8ed1-4d8c-48bf-b107-41d6ff3a95e4"
      },
      "source": [
        "from keras.layers import Input, Dense, Flatten, Reshape, UpSampling2D, Conv2D, MaxPooling2D\n",
        "from keras.models import Model, Sequential\n",
        "from keras.callbacks import EarlyStopping\n",
        "\n",
        "from keras.datasets import mnist\n",
        "from keras.datasets import fashion_mnist\n",
        "\n",
        "import numpy as np"
      ],
      "execution_count": 1,
      "outputs": [
        {
          "output_type": "stream",
          "text": [
            "Using TensorFlow backend.\n"
          ],
          "name": "stderr"
        }
      ]
    },
    {
      "cell_type": "code",
      "metadata": {
        "id": "EyN_AncPy3Dc",
        "colab_type": "code",
        "colab": {
          "base_uri": "https://localhost:8080/",
          "height": 88
        },
        "outputId": "9cc89fc5-4a15-42e0-c99c-9ce8019b2c1f"
      },
      "source": [
        "# this is the size of our encoded representations\n",
        "encoding_dim = 32  # 32 floats -> compression of factor 24.5, assuming the input is 784 floats\n",
        "\n",
        "# this is our input placeholder\n",
        "input_img = Input(shape=(784,))\n",
        "# \"encoded\" is the encoded representation of the input\n",
        "encoded = Dense(encoding_dim, activation='relu')(input_img)\n",
        "# \"decoded\" is the lossy reconstruction of the input\n",
        "decoded = Dense(784, activation='sigmoid')(encoded)\n",
        "\n",
        "# this model maps an input to its reconstruction\n",
        "autoencoder = Model(input_img, decoded)"
      ],
      "execution_count": 2,
      "outputs": [
        {
          "output_type": "stream",
          "text": [
            "WARNING:tensorflow:From /usr/local/lib/python3.6/dist-packages/tensorflow/python/framework/op_def_library.py:263: colocate_with (from tensorflow.python.framework.ops) is deprecated and will be removed in a future version.\n",
            "Instructions for updating:\n",
            "Colocations handled automatically by placer.\n"
          ],
          "name": "stdout"
        }
      ]
    },
    {
      "cell_type": "code",
      "metadata": {
        "id": "Gm-fgaEty3Df",
        "colab_type": "code",
        "colab": {}
      },
      "source": [
        "# this model maps an input to its encoded representation\n",
        "encoder = Model(input_img, encoded)"
      ],
      "execution_count": 0,
      "outputs": []
    },
    {
      "cell_type": "code",
      "metadata": {
        "id": "vzbZrCVfy3Di",
        "colab_type": "code",
        "colab": {}
      },
      "source": [
        "# create a placeholder for an encoded (32-dimensional) input\n",
        "encoded_input = Input(shape=(encoding_dim,))\n",
        "# retrieve the last layer of the autoencoder model\n",
        "decoder_layer = autoencoder.layers[-1]\n",
        "# create the decoder model\n",
        "decoder = Model(encoded_input, decoder_layer(encoded_input))"
      ],
      "execution_count": 0,
      "outputs": []
    },
    {
      "cell_type": "code",
      "metadata": {
        "id": "R8xSW6Rdy3Dk",
        "colab_type": "code",
        "colab": {}
      },
      "source": [
        "autoencoder.compile(optimizer='adadelta', loss='binary_crossentropy')"
      ],
      "execution_count": 0,
      "outputs": []
    },
    {
      "cell_type": "code",
      "metadata": {
        "id": "Q3jppGQGy3Dm",
        "colab_type": "code",
        "colab": {}
      },
      "source": [
        "from keras.datasets import mnist\n",
        "import numpy as np\n",
        "(x_train, _), (x_test, _) = mnist.load_data()"
      ],
      "execution_count": 0,
      "outputs": []
    },
    {
      "cell_type": "code",
      "metadata": {
        "id": "tciDdiJly3Dp",
        "colab_type": "code",
        "colab": {
          "base_uri": "https://localhost:8080/",
          "height": 51
        },
        "outputId": "6bdf2618-29e5-4504-f3f6-aab9d0f8f358"
      },
      "source": [
        "x_train = x_train.astype('float32') / 255.\n",
        "x_test = x_test.astype('float32') / 255.\n",
        "x_train = x_train.reshape((len(x_train), np.prod(x_train.shape[1:])))\n",
        "x_test = x_test.reshape((len(x_test), np.prod(x_test.shape[1:])))\n",
        "print (x_train.shape)\n",
        "print (x_test.shape)"
      ],
      "execution_count": 7,
      "outputs": [
        {
          "output_type": "stream",
          "text": [
            "(60000, 784)\n",
            "(10000, 784)\n"
          ],
          "name": "stdout"
        }
      ]
    },
    {
      "cell_type": "code",
      "metadata": {
        "id": "1aaJu3VAy3Dt",
        "colab_type": "code",
        "colab": {
          "base_uri": "https://localhost:8080/",
          "height": 1822
        },
        "outputId": "840c1a08-8728-4899-a543-e43d6014f1a8"
      },
      "source": [
        "autoencoder.fit(x_train, x_train,\n",
        "                epochs=50,\n",
        "                batch_size=256,\n",
        "                shuffle=True,\n",
        "                validation_data=(x_test, x_test),\n",
        "               callbacks=[EarlyStopping(monitor='val_loss', min_delta=0, patience=20)])"
      ],
      "execution_count": 8,
      "outputs": [
        {
          "output_type": "stream",
          "text": [
            "WARNING:tensorflow:From /usr/local/lib/python3.6/dist-packages/tensorflow/python/ops/math_ops.py:3066: to_int32 (from tensorflow.python.ops.math_ops) is deprecated and will be removed in a future version.\n",
            "Instructions for updating:\n",
            "Use tf.cast instead.\n",
            "Train on 60000 samples, validate on 10000 samples\n",
            "Epoch 1/50\n",
            "60000/60000 [==============================] - 4s 71us/step - loss: 0.3548 - val_loss: 0.2683\n",
            "Epoch 2/50\n",
            "60000/60000 [==============================] - 4s 68us/step - loss: 0.2585 - val_loss: 0.2445\n",
            "Epoch 3/50\n",
            "60000/60000 [==============================] - 4s 68us/step - loss: 0.2340 - val_loss: 0.2221\n",
            "Epoch 4/50\n",
            "60000/60000 [==============================] - 4s 67us/step - loss: 0.2158 - val_loss: 0.2072\n",
            "Epoch 5/50\n",
            "60000/60000 [==============================] - 4s 67us/step - loss: 0.2027 - val_loss: 0.1956\n",
            "Epoch 6/50\n",
            "60000/60000 [==============================] - 4s 67us/step - loss: 0.1920 - val_loss: 0.1859\n",
            "Epoch 7/50\n",
            "60000/60000 [==============================] - 4s 69us/step - loss: 0.1833 - val_loss: 0.1783\n",
            "Epoch 8/50\n",
            "60000/60000 [==============================] - 4s 68us/step - loss: 0.1765 - val_loss: 0.1721\n",
            "Epoch 9/50\n",
            "60000/60000 [==============================] - 4s 66us/step - loss: 0.1709 - val_loss: 0.1671\n",
            "Epoch 10/50\n",
            "60000/60000 [==============================] - 4s 67us/step - loss: 0.1661 - val_loss: 0.1626\n",
            "Epoch 11/50\n",
            "60000/60000 [==============================] - 4s 69us/step - loss: 0.1619 - val_loss: 0.1585\n",
            "Epoch 12/50\n",
            "60000/60000 [==============================] - 4s 68us/step - loss: 0.1580 - val_loss: 0.1547\n",
            "Epoch 13/50\n",
            "60000/60000 [==============================] - 4s 67us/step - loss: 0.1544 - val_loss: 0.1513\n",
            "Epoch 14/50\n",
            "60000/60000 [==============================] - 4s 67us/step - loss: 0.1510 - val_loss: 0.1482\n",
            "Epoch 15/50\n",
            "60000/60000 [==============================] - 4s 67us/step - loss: 0.1480 - val_loss: 0.1451\n",
            "Epoch 16/50\n",
            "60000/60000 [==============================] - 4s 67us/step - loss: 0.1452 - val_loss: 0.1425\n",
            "Epoch 17/50\n",
            "60000/60000 [==============================] - 4s 66us/step - loss: 0.1426 - val_loss: 0.1399\n",
            "Epoch 18/50\n",
            "60000/60000 [==============================] - 4s 67us/step - loss: 0.1401 - val_loss: 0.1375\n",
            "Epoch 19/50\n",
            "60000/60000 [==============================] - 4s 66us/step - loss: 0.1378 - val_loss: 0.1354\n",
            "Epoch 20/50\n",
            "60000/60000 [==============================] - 4s 67us/step - loss: 0.1356 - val_loss: 0.1331\n",
            "Epoch 21/50\n",
            "60000/60000 [==============================] - 4s 67us/step - loss: 0.1335 - val_loss: 0.1310\n",
            "Epoch 22/50\n",
            "60000/60000 [==============================] - 4s 68us/step - loss: 0.1315 - val_loss: 0.1289\n",
            "Epoch 23/50\n",
            "60000/60000 [==============================] - 4s 67us/step - loss: 0.1295 - val_loss: 0.1270\n",
            "Epoch 24/50\n",
            "60000/60000 [==============================] - 4s 66us/step - loss: 0.1276 - val_loss: 0.1251\n",
            "Epoch 25/50\n",
            "60000/60000 [==============================] - 4s 68us/step - loss: 0.1258 - val_loss: 0.1233\n",
            "Epoch 26/50\n",
            "60000/60000 [==============================] - 4s 69us/step - loss: 0.1240 - val_loss: 0.1217\n",
            "Epoch 27/50\n",
            "60000/60000 [==============================] - 4s 68us/step - loss: 0.1224 - val_loss: 0.1200\n",
            "Epoch 28/50\n",
            "60000/60000 [==============================] - 4s 68us/step - loss: 0.1209 - val_loss: 0.1185\n",
            "Epoch 29/50\n",
            "60000/60000 [==============================] - 4s 68us/step - loss: 0.1194 - val_loss: 0.1171\n",
            "Epoch 30/50\n",
            "60000/60000 [==============================] - 4s 69us/step - loss: 0.1181 - val_loss: 0.1158\n",
            "Epoch 31/50\n",
            "60000/60000 [==============================] - 4s 68us/step - loss: 0.1168 - val_loss: 0.1146\n",
            "Epoch 32/50\n",
            "60000/60000 [==============================] - 4s 68us/step - loss: 0.1157 - val_loss: 0.1135\n",
            "Epoch 33/50\n",
            "60000/60000 [==============================] - 4s 67us/step - loss: 0.1146 - val_loss: 0.1125\n",
            "Epoch 34/50\n",
            "60000/60000 [==============================] - 4s 67us/step - loss: 0.1137 - val_loss: 0.1115\n",
            "Epoch 35/50\n",
            "60000/60000 [==============================] - 4s 66us/step - loss: 0.1128 - val_loss: 0.1107\n",
            "Epoch 36/50\n",
            "60000/60000 [==============================] - 4s 68us/step - loss: 0.1119 - val_loss: 0.1099\n",
            "Epoch 37/50\n",
            "60000/60000 [==============================] - 4s 68us/step - loss: 0.1112 - val_loss: 0.1092\n",
            "Epoch 38/50\n",
            "60000/60000 [==============================] - 4s 67us/step - loss: 0.1105 - val_loss: 0.1085\n",
            "Epoch 39/50\n",
            "60000/60000 [==============================] - 4s 67us/step - loss: 0.1098 - val_loss: 0.1079\n",
            "Epoch 40/50\n",
            "60000/60000 [==============================] - 4s 68us/step - loss: 0.1092 - val_loss: 0.1073\n",
            "Epoch 41/50\n",
            "60000/60000 [==============================] - 4s 67us/step - loss: 0.1087 - val_loss: 0.1068\n",
            "Epoch 42/50\n",
            "60000/60000 [==============================] - 4s 67us/step - loss: 0.1082 - val_loss: 0.1063\n",
            "Epoch 43/50\n",
            "60000/60000 [==============================] - 4s 69us/step - loss: 0.1077 - val_loss: 0.1058\n",
            "Epoch 44/50\n",
            "60000/60000 [==============================] - 4s 68us/step - loss: 0.1072 - val_loss: 0.1054\n",
            "Epoch 45/50\n",
            "60000/60000 [==============================] - 4s 68us/step - loss: 0.1068 - val_loss: 0.1050\n",
            "Epoch 46/50\n",
            "60000/60000 [==============================] - 4s 69us/step - loss: 0.1064 - val_loss: 0.1045\n",
            "Epoch 47/50\n",
            "60000/60000 [==============================] - 4s 67us/step - loss: 0.1060 - val_loss: 0.1042\n",
            "Epoch 48/50\n",
            "60000/60000 [==============================] - 4s 67us/step - loss: 0.1057 - val_loss: 0.1039\n",
            "Epoch 49/50\n",
            "60000/60000 [==============================] - 4s 68us/step - loss: 0.1054 - val_loss: 0.1036\n",
            "Epoch 50/50\n",
            "60000/60000 [==============================] - 4s 68us/step - loss: 0.1050 - val_loss: 0.1033\n"
          ],
          "name": "stdout"
        },
        {
          "output_type": "execute_result",
          "data": {
            "text/plain": [
              "<keras.callbacks.History at 0x7f16f38da470>"
            ]
          },
          "metadata": {
            "tags": []
          },
          "execution_count": 8
        }
      ]
    },
    {
      "cell_type": "code",
      "metadata": {
        "id": "fB7V_qgmy3Dw",
        "colab_type": "code",
        "colab": {}
      },
      "source": [
        "# encode and decode some digits\n",
        "# note that we take them from the *test* set\n",
        "encoded_imgs = encoder.predict(x_test)\n",
        "decoded_imgs = decoder.predict(encoded_imgs)"
      ],
      "execution_count": 0,
      "outputs": []
    },
    {
      "cell_type": "code",
      "metadata": {
        "id": "dY_AvcZPy3Dy",
        "colab_type": "code",
        "colab": {
          "base_uri": "https://localhost:8080/",
          "height": 244
        },
        "outputId": "38dad24b-50b1-42b0-b41e-b4153eea778e"
      },
      "source": [
        "# use Matplotlib (don't ask)\n",
        "%matplotlib inline\n",
        "import matplotlib.pyplot as plt\n",
        "\n",
        "n = 10  # how many digits we will display\n",
        "plt.figure(figsize=(20, 4))\n",
        "for i in range(n):\n",
        "    # display original\n",
        "    ax = plt.subplot(2, n, i + 1)\n",
        "    plt.imshow(x_test[i].reshape(28, 28))\n",
        "    plt.gray()\n",
        "    ax.get_xaxis().set_visible(False)\n",
        "    ax.get_yaxis().set_visible(False)\n",
        "\n",
        "    # display reconstruction\n",
        "    ax = plt.subplot(2, n, i + 1 + n)\n",
        "    plt.imshow(decoded_imgs[i].reshape(28, 28))\n",
        "    plt.gray()\n",
        "    ax.get_xaxis().set_visible(False)\n",
        "    ax.get_yaxis().set_visible(False)\n",
        "plt.show()"
      ],
      "execution_count": 10,
      "outputs": [
        {
          "output_type": "display_data",
          "data": {
            "image/png": "[encoded data removed]",
            "text/plain": [
              "<Figure size 1440x288 with 20 Axes>"
            ]
          },
          "metadata": {
            "tags": []
          }
        }
      ]
    },
    {
      "cell_type": "markdown",
      "metadata": {
        "id": "2DhqTR-yy3D1",
        "colab_type": "text"
      },
      "source": [
        "In the previous example, the representations were only constrained by the size of the hidden layer (32). In such a situation, what typically happens is that the hidden layer is learning an approximation of PCA (principal component analysis). But another way to constrain the representations to be compact is to add a sparsity contraint on the activity of the hidden representations, so fewer units would \"fire\" at a given time. In Keras, this can be done by adding an activity_regularizer to our Dense layer:\n",
        "\n"
      ]
    },
    {
      "cell_type": "code",
      "metadata": {
        "id": "TGASeqQJy3D1",
        "colab_type": "code",
        "colab": {}
      },
      "source": [
        "from keras import regularizers\n",
        "\n",
        "encoding_dim = 32\n",
        "\n",
        "input_img = Input(shape=(784,))\n",
        "# add a Dense layer with a L1 activity regularizer\n",
        "encoded = Dense(encoding_dim, activation='relu',\n",
        "                activity_regularizer=regularizers.l1(10e-5))(input_img)\n",
        "decoded = Dense(784, activation='sigmoid')(encoded)\n",
        "\n",
        "autoencoder = Model(input_img, decoded)"
      ],
      "execution_count": 0,
      "outputs": []
    },
    {
      "cell_type": "code",
      "metadata": {
        "id": "BiORa3xCy3D3",
        "colab_type": "code",
        "colab": {}
      },
      "source": [
        "input_img = Input(shape=(784,))\n",
        "encoded = Dense(128, activation='relu')(input_img)\n",
        "encoded = Dense(64, activation='relu')(encoded)\n",
        "encoded = Dense(32, activation='relu')(encoded)\n",
        "\n",
        "decoded = Dense(64, activation='relu')(encoded)\n",
        "decoded = Dense(128, activation='relu')(decoded)\n",
        "decoded = Dense(784, activation='sigmoid')(decoded)"
      ],
      "execution_count": 0,
      "outputs": []
    },
    {
      "cell_type": "code",
      "metadata": {
        "id": "6HOz59p0y3D5",
        "colab_type": "code",
        "colab": {}
      },
      "source": [
        ""
      ],
      "execution_count": 0,
      "outputs": []
    },
    {
      "cell_type": "code",
      "metadata": {
        "id": "tGPO2l6dy3D7",
        "colab_type": "code",
        "colab": {
          "base_uri": "https://localhost:8080/",
          "height": 935
        },
        "outputId": "9a100f15-291f-4393-9484-ff3431977a4b"
      },
      "source": [
        "autoencoder = Model(input_img, decoded)\n",
        "autoencoder.compile(optimizer='adadelta', loss='binary_crossentropy')\n",
        "\n",
        "autoencoder.fit(x_train, x_train,\n",
        "                epochs=100,\n",
        "                batch_size=256,\n",
        "                shuffle=True,\n",
        "                validation_data=(x_test, x_test),\n",
        "               callbacks=[EarlyStopping(monitor='val_loss', min_delta=0, patience=20)])"
      ],
      "execution_count": 13,
      "outputs": [
        {
          "output_type": "stream",
          "text": [
            "Train on 60000 samples, validate on 10000 samples\n",
            "Epoch 1/100\n",
            "60000/60000 [==============================] - 7s 111us/step - loss: 0.3363 - val_loss: 0.2639\n",
            "Epoch 2/100\n",
            "60000/60000 [==============================] - 6s 102us/step - loss: 0.2585 - val_loss: 0.2519\n",
            "Epoch 3/100\n",
            "60000/60000 [==============================] - 6s 103us/step - loss: 0.2430 - val_loss: 0.2336\n",
            "Epoch 4/100\n",
            "60000/60000 [==============================] - 6s 103us/step - loss: 0.2249 - val_loss: 0.2161\n",
            "Epoch 5/100\n",
            "60000/60000 [==============================] - 6s 102us/step - loss: 0.2118 - val_loss: 0.2096\n",
            "Epoch 6/100\n",
            "60000/60000 [==============================] - 6s 101us/step - loss: 0.2058 - val_loss: 0.2083\n",
            "Epoch 7/100\n",
            "60000/60000 [==============================] - 6s 103us/step - loss: 1.8154 - val_loss: 2.6048\n",
            "Epoch 8/100\n",
            "60000/60000 [==============================] - 6s 99us/step - loss: 2.5514 - val_loss: 2.5510\n",
            "Epoch 9/100\n",
            "60000/60000 [==============================] - 6s 98us/step - loss: 2.5403 - val_loss: 2.5690\n",
            "Epoch 10/100\n",
            "60000/60000 [==============================] - 6s 100us/step - loss: 2.5565 - val_loss: 2.5544\n",
            "Epoch 11/100\n",
            "60000/60000 [==============================] - 6s 99us/step - loss: 2.5441 - val_loss: 2.5612\n",
            "Epoch 12/100\n",
            "60000/60000 [==============================] - 6s 101us/step - loss: 2.5477 - val_loss: 2.5612\n",
            "Epoch 13/100\n",
            "60000/60000 [==============================] - 6s 102us/step - loss: 2.5476 - val_loss: 2.5612\n",
            "Epoch 14/100\n",
            "60000/60000 [==============================] - 6s 102us/step - loss: 2.5476 - val_loss: 2.5612\n",
            "Epoch 15/100\n",
            "60000/60000 [==============================] - 6s 101us/step - loss: 2.5476 - val_loss: 2.5612\n",
            "Epoch 16/100\n",
            "60000/60000 [==============================] - 6s 100us/step - loss: 2.5476 - val_loss: 2.5612\n",
            "Epoch 17/100\n",
            "60000/60000 [==============================] - 6s 100us/step - loss: 2.5476 - val_loss: 2.5612\n",
            "Epoch 18/100\n",
            "60000/60000 [==============================] - 6s 99us/step - loss: 2.5476 - val_loss: 2.5612\n",
            "Epoch 19/100\n",
            "60000/60000 [==============================] - 6s 99us/step - loss: 2.5476 - val_loss: 2.5612\n",
            "Epoch 20/100\n",
            "60000/60000 [==============================] - 6s 101us/step - loss: 2.5476 - val_loss: 2.5612\n",
            "Epoch 21/100\n",
            "60000/60000 [==============================] - 6s 99us/step - loss: 2.5476 - val_loss: 2.5612\n",
            "Epoch 22/100\n",
            "60000/60000 [==============================] - 6s 98us/step - loss: 2.5476 - val_loss: 2.5612\n",
            "Epoch 23/100\n",
            "60000/60000 [==============================] - 6s 99us/step - loss: 2.5476 - val_loss: 2.5612\n",
            "Epoch 24/100\n",
            "60000/60000 [==============================] - 6s 100us/step - loss: 2.5476 - val_loss: 2.5612\n",
            "Epoch 25/100\n",
            "60000/60000 [==============================] - 6s 98us/step - loss: 2.5476 - val_loss: 2.5612\n",
            "Epoch 26/100\n",
            "60000/60000 [==============================] - 6s 98us/step - loss: 2.5476 - val_loss: 2.5612\n"
          ],
          "name": "stdout"
        },
        {
          "output_type": "execute_result",
          "data": {
            "text/plain": [
              "<keras.callbacks.History at 0x7f16ee187978>"
            ]
          },
          "metadata": {
            "tags": []
          },
          "execution_count": 13
        }
      ]
    },
    {
      "cell_type": "code",
      "metadata": {
        "id": "-3eQ2XN2y3D-",
        "colab_type": "code",
        "colab": {}
      },
      "source": [
        "# encode and decode some digits\n",
        "# note that we take them from the *test* set\n",
        "encoded_imgs = encoder.predict(x_test)\n",
        "decoded_imgs = decoder.predict(encoded_imgs)"
      ],
      "execution_count": 0,
      "outputs": []
    },
    {
      "cell_type": "code",
      "metadata": {
        "id": "-Ry2ksN-y3EA",
        "colab_type": "code",
        "colab": {
          "base_uri": "https://localhost:8080/",
          "height": 244
        },
        "outputId": "31a62e76-8aaf-4ff7-a683-2c63611d02c5"
      },
      "source": [
        "n = 10  # how many digits we will display\n",
        "plt.figure(figsize=(20, 4))\n",
        "for i in range(n):\n",
        "    # display original\n",
        "    ax = plt.subplot(2, n, i + 1)\n",
        "    plt.imshow(x_test[i].reshape(28, 28))\n",
        "    plt.gray()\n",
        "    ax.get_xaxis().set_visible(False)\n",
        "    ax.get_yaxis().set_visible(False)\n",
        "\n",
        "    # display reconstruction\n",
        "    ax = plt.subplot(2, n, i + 1 + n)\n",
        "    plt.imshow(decoded_imgs[i].reshape(28, 28))\n",
        "    plt.gray()\n",
        "    ax.get_xaxis().set_visible(False)\n",
        "    ax.get_yaxis().set_visible(False)\n",
        "plt.show()"
      ],
      "execution_count": 15,
      "outputs": [
        {
          "output_type": "display_data",
          "data": {
            "image/png": "[encoded data removed]",
            "text/plain": [
              "<Figure size 1440x288 with 20 Axes>"
            ]
          },
          "metadata": {
            "tags": []
          }
        }
      ]
    }
  ]
}