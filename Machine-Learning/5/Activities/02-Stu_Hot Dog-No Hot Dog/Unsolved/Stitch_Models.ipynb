{
 "cells": [
  {
   "cell_type": "code",
   "execution_count": null,
   "metadata": {},
   "outputs": [],
   "source": [
    "# !tar -zxvf archive.tar.gz"
   ]
  },
  {
   "cell_type": "code",
   "execution_count": 1,
   "metadata": {},
   "outputs": [],
   "source": [
    "%matplotlib inline\n",
    "import matplotlib.pyplot as plt\n",
    "import numpy as np\n",
    "import os"
   ]
  },
  {
   "cell_type": "code",
   "execution_count": 2,
   "metadata": {},
   "outputs": [
    {
     "name": "stderr",
     "output_type": "stream",
     "text": [
      "Using TensorFlow backend.\n"
     ]
    }
   ],
   "source": [
    "from keras.applications.vgg19 import (\n",
    "    VGG19, preprocess_input, decode_predictions)\n",
    "\n",
    "from keras.models import Sequential\n",
    "from keras.layers import Dense, Activation, Flatten\n",
    "from keras.layers import merge, Input\n",
    "from keras.models import Model\n",
    "from keras.utils import to_categorical, np_utils\n",
    "from sklearn.utils import shuffle\n",
    "from sklearn.model_selection import train_test_split"
   ]
  },
  {
   "cell_type": "code",
   "execution_count": 11,
   "metadata": {},
   "outputs": [],
   "source": [
    "import data\n",
    "data.train_path = \"Resources/subset_20/train\"\n",
    "data.test_path = \"Resources/subset_20/test\"\n",
    "folder_names = [\"hot_dog\", \"not_hot_dog\"]"
   ]
  },
  {
   "cell_type": "code",
   "execution_count": 12,
   "metadata": {},
   "outputs": [
    {
     "name": "stdout",
     "output_type": "stream",
     "text": [
      "Resources/subset_20/train/not_hot_dog/*\n",
      "Loaded the images of dataset-not_hot_dog\n",
      "\n",
      "Resources/subset_20/train/hot_dog/*\n",
      "Loaded the images of dataset-hot_dog\n",
      "\n"
     ]
    }
   ],
   "source": [
    "X_train, Y_train = data.get_images(data.train_path, folder_names)"
   ]
  },
  {
   "cell_type": "code",
   "execution_count": 13,
   "metadata": {},
   "outputs": [
    {
     "name": "stdout",
     "output_type": "stream",
     "text": [
      "Resources/subset_20/test/not_hot_dog/*\n",
      "Loaded the images of dataset-not_hot_dog\n",
      "\n",
      "Resources/subset_20/test/hot_dog/*\n",
      "Loaded the images of dataset-hot_dog\n",
      "\n"
     ]
    }
   ],
   "source": [
    "X_test, Y_test = data.get_images(data.test_path, folder_names)"
   ]
  },
  {
   "cell_type": "code",
   "execution_count": 14,
   "metadata": {},
   "outputs": [
    {
     "name": "stdout",
     "output_type": "stream",
     "text": [
      "_________________________________________________________________\n",
      "Layer (type)                 Output Shape              Param #   \n",
      "=================================================================\n",
      "input_2 (InputLayer)         (None, 224, 224, 3)       0         \n",
      "_________________________________________________________________\n",
      "block1_conv1 (Conv2D)        (None, 224, 224, 64)      1792      \n",
      "_________________________________________________________________\n",
      "block1_conv2 (Conv2D)        (None, 224, 224, 64)      36928     \n",
      "_________________________________________________________________\n",
      "block1_pool (MaxPooling2D)   (None, 112, 112, 64)      0         \n",
      "_________________________________________________________________\n",
      "block2_conv1 (Conv2D)        (None, 112, 112, 128)     73856     \n",
      "_________________________________________________________________\n",
      "block2_conv2 (Conv2D)        (None, 112, 112, 128)     147584    \n",
      "_________________________________________________________________\n",
      "block2_pool (MaxPooling2D)   (None, 56, 56, 128)       0         \n",
      "_________________________________________________________________\n",
      "block3_conv1 (Conv2D)        (None, 56, 56, 256)       295168    \n",
      "_________________________________________________________________\n",
      "block3_conv2 (Conv2D)        (None, 56, 56, 256)       590080    \n",
      "_________________________________________________________________\n",
      "block3_conv3 (Conv2D)        (None, 56, 56, 256)       590080    \n",
      "_________________________________________________________________\n",
      "block3_conv4 (Conv2D)        (None, 56, 56, 256)       590080    \n",
      "_________________________________________________________________\n",
      "block3_pool (MaxPooling2D)   (None, 28, 28, 256)       0         \n",
      "_________________________________________________________________\n",
      "block4_conv1 (Conv2D)        (None, 28, 28, 512)       1180160   \n",
      "_________________________________________________________________\n",
      "block4_conv2 (Conv2D)        (None, 28, 28, 512)       2359808   \n",
      "_________________________________________________________________\n",
      "block4_conv3 (Conv2D)        (None, 28, 28, 512)       2359808   \n",
      "_________________________________________________________________\n",
      "block4_conv4 (Conv2D)        (None, 28, 28, 512)       2359808   \n",
      "_________________________________________________________________\n",
      "block4_pool (MaxPooling2D)   (None, 14, 14, 512)       0         \n",
      "_________________________________________________________________\n",
      "block5_conv1 (Conv2D)        (None, 14, 14, 512)       2359808   \n",
      "_________________________________________________________________\n",
      "block5_conv2 (Conv2D)        (None, 14, 14, 512)       2359808   \n",
      "_________________________________________________________________\n",
      "block5_conv3 (Conv2D)        (None, 14, 14, 512)       2359808   \n",
      "_________________________________________________________________\n",
      "block5_conv4 (Conv2D)        (None, 14, 14, 512)       2359808   \n",
      "_________________________________________________________________\n",
      "block5_pool (MaxPooling2D)   (None, 7, 7, 512)         0         \n",
      "=================================================================\n",
      "Total params: 20,024,384\n",
      "Trainable params: 20,024,384\n",
      "Non-trainable params: 0\n",
      "_________________________________________________________________\n"
     ]
    }
   ],
   "source": [
    "image_input = Input(shape=(224, 224, 3))\n",
    "\n",
    "vgg_model = VGG19(input_tensor=image_input, include_top=False, weights='imagenet')\n",
    "vgg_model.summary()"
   ]
  },
  {
   "cell_type": "code",
   "execution_count": 15,
   "metadata": {},
   "outputs": [],
   "source": [
    "# use the 1000 category output like a set of features into a new model\n",
    "\n",
    "model = Sequential()\n",
    "model.add(vgg_model)\n",
    "model.add(Flatten())\n",
    "model.add(Dense(data.num_classes, activation=\"sigmoid\"))\n",
    "model.layers[0].trainable=False\n",
    "model.compile(loss=\"categorical_crossentropy\", optimizer=\"adam\", metrics=[\"accuracy\"])"
   ]
  },
  {
   "cell_type": "code",
   "execution_count": 16,
   "metadata": {},
   "outputs": [
    {
     "name": "stdout",
     "output_type": "stream",
     "text": [
      "_________________________________________________________________\n",
      "Layer (type)                 Output Shape              Param #   \n",
      "=================================================================\n",
      "vgg19 (Model)                (None, 7, 7, 512)         20024384  \n",
      "_________________________________________________________________\n",
      "flatten_2 (Flatten)          (None, 25088)             0         \n",
      "_________________________________________________________________\n",
      "dense_2 (Dense)              (None, 2)                 50178     \n",
      "=================================================================\n",
      "Total params: 20,074,562\n",
      "Trainable params: 50,178\n",
      "Non-trainable params: 20,024,384\n",
      "_________________________________________________________________\n"
     ]
    }
   ],
   "source": [
    "model.summary()"
   ]
  },
  {
   "cell_type": "code",
   "execution_count": 17,
   "metadata": {},
   "outputs": [
    {
     "name": "stdout",
     "output_type": "stream",
     "text": [
      "Train on 95 samples, validate on 41 samples\n",
      "Epoch 1/10\n",
      "95/95 [==============================] - 48s 500ms/step - loss: 3.0139 - acc: 0.4526 - val_loss: 0.6931 - val_acc: 0.4878\n",
      "Epoch 2/10\n",
      "95/95 [==============================] - 51s 532ms/step - loss: 0.6711 - acc: 0.5158 - val_loss: 0.6931 - val_acc: 0.4878\n",
      "Epoch 3/10\n",
      "95/95 [==============================] - 48s 510ms/step - loss: 0.6640 - acc: 0.5158 - val_loss: 0.6931 - val_acc: 0.4878\n",
      "Epoch 4/10\n",
      "95/95 [==============================] - 49s 513ms/step - loss: 0.6640 - acc: 0.5158 - val_loss: 0.6931 - val_acc: 0.4878\n",
      "Epoch 5/10\n",
      "95/95 [==============================] - 49s 511ms/step - loss: 0.6640 - acc: 0.5158 - val_loss: 0.6931 - val_acc: 0.4878\n",
      "Epoch 6/10\n",
      "95/95 [==============================] - 49s 521ms/step - loss: 0.6640 - acc: 0.5158 - val_loss: 0.6931 - val_acc: 0.4878\n",
      "Epoch 7/10\n",
      "95/95 [==============================] - 49s 517ms/step - loss: 0.6640 - acc: 0.5158 - val_loss: 0.6931 - val_acc: 0.4878\n",
      "Epoch 8/10\n",
      "95/95 [==============================] - 49s 512ms/step - loss: 0.6640 - acc: 0.5158 - val_loss: 0.6931 - val_acc: 0.4878\n",
      "Epoch 9/10\n",
      "95/95 [==============================] - 49s 514ms/step - loss: 0.6640 - acc: 0.5158 - val_loss: 0.6931 - val_acc: 0.4878\n",
      "Epoch 10/10\n",
      "95/95 [==============================] - 48s 510ms/step - loss: 0.6640 - acc: 0.5158 - val_loss: 0.6931 - val_acc: 0.4878\n"
     ]
    },
    {
     "data": {
      "text/plain": [
       "<keras.callbacks.History at 0x7ff0f0280cf8>"
      ]
     },
     "execution_count": 17,
     "metadata": {},
     "output_type": "execute_result"
    }
   ],
   "source": [
    "model.fit(X_train, Y_train, batch_size=32, epochs=10, validation_data=(X_test, Y_test))"
   ]
  },
  {
   "cell_type": "code",
   "execution_count": null,
   "metadata": {},
   "outputs": [],
   "source": []
  }
 ],
 "metadata": {
  "kernelspec": {
   "display_name": "Python [conda env:ut_ml]",
   "language": "python",
   "name": "conda-env-ut_ml-py"
  },
  "language_info": {
   "codemirror_mode": {
    "name": "ipython",
    "version": 3
   },
   "file_extension": ".py",
   "mimetype": "text/x-python",
   "name": "python",
   "nbconvert_exporter": "python",
   "pygments_lexer": "ipython3",
   "version": "3.6.8"
  }
 },
 "nbformat": 4,
 "nbformat_minor": 2
}
