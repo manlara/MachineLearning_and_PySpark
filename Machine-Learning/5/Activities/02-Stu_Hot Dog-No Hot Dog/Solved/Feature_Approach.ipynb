{
 "cells": [
  {
   "cell_type": "markdown",
   "metadata": {},
   "source": [
    "# Hot Dog - Not Hot Dog\n",
    "\n",
    "Inspired by the sitcom \"Silicon Valley\". \n",
    "[Download the dataset here](https://www.kaggle.com/dansbecker/hot-dog-not-hot-dog/data)"
   ]
  },
  {
   "cell_type": "code",
   "execution_count": null,
   "metadata": {},
   "outputs": [],
   "source": [
    "# !tar -zxvf archive.tar.gz"
   ]
  },
  {
   "cell_type": "code",
   "execution_count": 1,
   "metadata": {},
   "outputs": [],
   "source": [
    "%matplotlib inline\n",
    "import matplotlib.pyplot as plt\n",
    "import numpy as np\n",
    "import os"
   ]
  },
  {
   "cell_type": "code",
   "execution_count": 2,
   "metadata": {},
   "outputs": [
    {
     "name": "stderr",
     "output_type": "stream",
     "text": [
      "Using TensorFlow backend.\n"
     ]
    }
   ],
   "source": [
    "from keras.applications.vgg19 import (\n",
    "    VGG19, preprocess_input, decode_predictions)\n",
    "\n",
    "from keras.models import Sequential\n",
    "from keras.layers import Dense, Activation, Flatten\n",
    "from keras.layers import merge, Input\n",
    "from keras.models import Model\n",
    "from keras.utils import to_categorical, np_utils\n",
    "from sklearn.utils import shuffle\n",
    "from sklearn.model_selection import train_test_split"
   ]
  },
  {
   "cell_type": "code",
   "execution_count": 3,
   "metadata": {},
   "outputs": [],
   "source": [
    "import data\n",
    "data.train_path = \"Resources/train\"\n",
    "data.test_path = \"Resources/test\"\n",
    "folder_names = [\"hot_dog\", \"not_hot_dog\"]"
   ]
  },
  {
   "cell_type": "code",
   "execution_count": 4,
   "metadata": {},
   "outputs": [
    {
     "name": "stdout",
     "output_type": "stream",
     "text": [
      "Resources/train/not_hot_dog/*\n",
      "Loaded the images of dataset-not_hot_dog\n",
      "\n",
      "Resources/train/hot_dog/*\n",
      "Loaded the images of dataset-hot_dog\n",
      "\n"
     ]
    }
   ],
   "source": [
    "X_train, Y_train = data.get_images(data.train_path, folder_names)"
   ]
  },
  {
   "cell_type": "code",
   "execution_count": 5,
   "metadata": {},
   "outputs": [
    {
     "name": "stdout",
     "output_type": "stream",
     "text": [
      "Resources/test/not_hot_dog/*\n",
      "Loaded the images of dataset-not_hot_dog\n",
      "\n",
      "Resources/test/hot_dog/*\n",
      "Loaded the images of dataset-hot_dog\n",
      "\n"
     ]
    }
   ],
   "source": [
    "X_test, Y_test = data.get_images(data.test_path, folder_names)"
   ]
  },
  {
   "cell_type": "code",
   "execution_count": 6,
   "metadata": {},
   "outputs": [
    {
     "name": "stdout",
     "output_type": "stream",
     "text": [
      "(498, 2)\n",
      "(500, 2)\n"
     ]
    }
   ],
   "source": [
    "print(Y_train.shape)\n",
    "print(Y_test.shape)"
   ]
  },
  {
   "cell_type": "code",
   "execution_count": 7,
   "metadata": {},
   "outputs": [
    {
     "name": "stdout",
     "output_type": "stream",
     "text": [
      "_________________________________________________________________\n",
      "Layer (type)                 Output Shape              Param #   \n",
      "=================================================================\n",
      "input_1 (InputLayer)         (None, 224, 224, 3)       0         \n",
      "_________________________________________________________________\n",
      "block1_conv1 (Conv2D)        (None, 224, 224, 64)      1792      \n",
      "_________________________________________________________________\n",
      "block1_conv2 (Conv2D)        (None, 224, 224, 64)      36928     \n",
      "_________________________________________________________________\n",
      "block1_pool (MaxPooling2D)   (None, 112, 112, 64)      0         \n",
      "_________________________________________________________________\n",
      "block2_conv1 (Conv2D)        (None, 112, 112, 128)     73856     \n",
      "_________________________________________________________________\n",
      "block2_conv2 (Conv2D)        (None, 112, 112, 128)     147584    \n",
      "_________________________________________________________________\n",
      "block2_pool (MaxPooling2D)   (None, 56, 56, 128)       0         \n",
      "_________________________________________________________________\n",
      "block3_conv1 (Conv2D)        (None, 56, 56, 256)       295168    \n",
      "_________________________________________________________________\n",
      "block3_conv2 (Conv2D)        (None, 56, 56, 256)       590080    \n",
      "_________________________________________________________________\n",
      "block3_conv3 (Conv2D)        (None, 56, 56, 256)       590080    \n",
      "_________________________________________________________________\n",
      "block3_conv4 (Conv2D)        (None, 56, 56, 256)       590080    \n",
      "_________________________________________________________________\n",
      "block3_pool (MaxPooling2D)   (None, 28, 28, 256)       0         \n",
      "_________________________________________________________________\n",
      "block4_conv1 (Conv2D)        (None, 28, 28, 512)       1180160   \n",
      "_________________________________________________________________\n",
      "block4_conv2 (Conv2D)        (None, 28, 28, 512)       2359808   \n",
      "_________________________________________________________________\n",
      "block4_conv3 (Conv2D)        (None, 28, 28, 512)       2359808   \n",
      "_________________________________________________________________\n",
      "block4_conv4 (Conv2D)        (None, 28, 28, 512)       2359808   \n",
      "_________________________________________________________________\n",
      "block4_pool (MaxPooling2D)   (None, 14, 14, 512)       0         \n",
      "_________________________________________________________________\n",
      "block5_conv1 (Conv2D)        (None, 14, 14, 512)       2359808   \n",
      "_________________________________________________________________\n",
      "block5_conv2 (Conv2D)        (None, 14, 14, 512)       2359808   \n",
      "_________________________________________________________________\n",
      "block5_conv3 (Conv2D)        (None, 14, 14, 512)       2359808   \n",
      "_________________________________________________________________\n",
      "block5_conv4 (Conv2D)        (None, 14, 14, 512)       2359808   \n",
      "_________________________________________________________________\n",
      "block5_pool (MaxPooling2D)   (None, 7, 7, 512)         0         \n",
      "_________________________________________________________________\n",
      "flatten (Flatten)            (None, 25088)             0         \n",
      "_________________________________________________________________\n",
      "fc1 (Dense)                  (None, 4096)              102764544 \n",
      "_________________________________________________________________\n",
      "fc2 (Dense)                  (None, 4096)              16781312  \n",
      "_________________________________________________________________\n",
      "predictions (Dense)          (None, 1000)              4097000   \n",
      "=================================================================\n",
      "Total params: 143,667,240\n",
      "Trainable params: 143,667,240\n",
      "Non-trainable params: 0\n",
      "_________________________________________________________________\n"
     ]
    }
   ],
   "source": [
    "image_input = Input(shape=(224, 224, 3))\n",
    "\n",
    "vgg_model = VGG19(input_tensor=image_input, include_top=True, weights='imagenet')\n",
    "vgg_model.summary()"
   ]
  },
  {
   "cell_type": "code",
   "execution_count": 8,
   "metadata": {},
   "outputs": [],
   "source": [
    "X_train_features = vgg_model.predict(X_train)"
   ]
  },
  {
   "cell_type": "code",
   "execution_count": 9,
   "metadata": {},
   "outputs": [],
   "source": [
    "X_test_features = vgg_model.predict(X_test)"
   ]
  },
  {
   "cell_type": "code",
   "execution_count": 10,
   "metadata": {},
   "outputs": [],
   "source": [
    "# use the 1000 category output like a set of features into a new model\n",
    "\n",
    "feature_model = Sequential()\n",
    "feature_model.add(Dense(data.num_classes, activation=\"sigmoid\", input_shape=(1000,)))\n",
    "feature_model.compile(loss=\"categorical_crossentropy\", optimizer=\"adam\", metrics=[\"accuracy\"])"
   ]
  },
  {
   "cell_type": "code",
   "execution_count": 11,
   "metadata": {},
   "outputs": [
    {
     "name": "stdout",
     "output_type": "stream",
     "text": [
      "Train on 498 samples, validate on 500 samples\n",
      "Epoch 1/50\n",
      "498/498 [==============================] - 0s 151us/step - loss: 0.6906 - acc: 0.6908 - val_loss: 0.6882 - val_acc: 0.7820\n",
      "Epoch 2/50\n",
      "498/498 [==============================] - 0s 44us/step - loss: 0.6867 - acc: 0.7671 - val_loss: 0.6842 - val_acc: 0.8180\n",
      "Epoch 3/50\n",
      "498/498 [==============================] - 0s 39us/step - loss: 0.6828 - acc: 0.8173 - val_loss: 0.6803 - val_acc: 0.8280\n",
      "Epoch 4/50\n",
      "498/498 [==============================] - 0s 38us/step - loss: 0.6789 - acc: 0.8333 - val_loss: 0.6765 - val_acc: 0.8300\n",
      "Epoch 5/50\n",
      "498/498 [==============================] - 0s 41us/step - loss: 0.6751 - acc: 0.8273 - val_loss: 0.6726 - val_acc: 0.8360\n",
      "Epoch 6/50\n",
      "498/498 [==============================] - 0s 39us/step - loss: 0.6713 - acc: 0.8313 - val_loss: 0.6689 - val_acc: 0.8420\n",
      "Epoch 7/50\n",
      "498/498 [==============================] - 0s 39us/step - loss: 0.6676 - acc: 0.8353 - val_loss: 0.6650 - val_acc: 0.8400\n",
      "Epoch 8/50\n",
      "498/498 [==============================] - 0s 40us/step - loss: 0.6638 - acc: 0.8353 - val_loss: 0.6613 - val_acc: 0.8440\n",
      "Epoch 9/50\n",
      "498/498 [==============================] - 0s 40us/step - loss: 0.6601 - acc: 0.8394 - val_loss: 0.6575 - val_acc: 0.8420\n",
      "Epoch 10/50\n",
      "498/498 [==============================] - 0s 40us/step - loss: 0.6564 - acc: 0.8373 - val_loss: 0.6538 - val_acc: 0.8420\n",
      "Epoch 11/50\n",
      "498/498 [==============================] - 0s 39us/step - loss: 0.6527 - acc: 0.8394 - val_loss: 0.6501 - val_acc: 0.8420\n",
      "Epoch 12/50\n",
      "498/498 [==============================] - 0s 39us/step - loss: 0.6490 - acc: 0.8414 - val_loss: 0.6464 - val_acc: 0.8440\n",
      "Epoch 13/50\n",
      "498/498 [==============================] - 0s 39us/step - loss: 0.6453 - acc: 0.8454 - val_loss: 0.6427 - val_acc: 0.8440\n",
      "Epoch 14/50\n",
      "498/498 [==============================] - 0s 40us/step - loss: 0.6417 - acc: 0.8434 - val_loss: 0.6390 - val_acc: 0.8440\n",
      "Epoch 15/50\n",
      "498/498 [==============================] - 0s 40us/step - loss: 0.6380 - acc: 0.8454 - val_loss: 0.6354 - val_acc: 0.8440\n",
      "Epoch 16/50\n",
      "498/498 [==============================] - 0s 40us/step - loss: 0.6344 - acc: 0.8454 - val_loss: 0.6318 - val_acc: 0.8460\n",
      "Epoch 17/50\n",
      "498/498 [==============================] - 0s 42us/step - loss: 0.6308 - acc: 0.8454 - val_loss: 0.6280 - val_acc: 0.8460\n",
      "Epoch 18/50\n",
      "498/498 [==============================] - 0s 43us/step - loss: 0.6272 - acc: 0.8474 - val_loss: 0.6244 - val_acc: 0.8460\n",
      "Epoch 19/50\n",
      "498/498 [==============================] - 0s 41us/step - loss: 0.6236 - acc: 0.8454 - val_loss: 0.6208 - val_acc: 0.8460\n",
      "Epoch 20/50\n",
      "498/498 [==============================] - 0s 40us/step - loss: 0.6200 - acc: 0.8454 - val_loss: 0.6172 - val_acc: 0.8460\n",
      "Epoch 21/50\n",
      "498/498 [==============================] - 0s 41us/step - loss: 0.6163 - acc: 0.8454 - val_loss: 0.6136 - val_acc: 0.8460\n",
      "Epoch 22/50\n",
      "498/498 [==============================] - 0s 40us/step - loss: 0.6128 - acc: 0.8454 - val_loss: 0.6100 - val_acc: 0.8460\n",
      "Epoch 23/50\n",
      "498/498 [==============================] - 0s 40us/step - loss: 0.6093 - acc: 0.8454 - val_loss: 0.6063 - val_acc: 0.8460\n",
      "Epoch 24/50\n",
      "498/498 [==============================] - 0s 40us/step - loss: 0.6056 - acc: 0.8454 - val_loss: 0.6028 - val_acc: 0.8460\n",
      "Epoch 25/50\n",
      "498/498 [==============================] - 0s 40us/step - loss: 0.6021 - acc: 0.8454 - val_loss: 0.5992 - val_acc: 0.8460\n",
      "Epoch 26/50\n",
      "498/498 [==============================] - 0s 40us/step - loss: 0.5985 - acc: 0.8474 - val_loss: 0.5957 - val_acc: 0.8460\n",
      "Epoch 27/50\n",
      "498/498 [==============================] - 0s 44us/step - loss: 0.5951 - acc: 0.8474 - val_loss: 0.5921 - val_acc: 0.8460\n",
      "Epoch 28/50\n",
      "498/498 [==============================] - 0s 41us/step - loss: 0.5915 - acc: 0.8474 - val_loss: 0.5886 - val_acc: 0.8460\n",
      "Epoch 29/50\n",
      "498/498 [==============================] - 0s 41us/step - loss: 0.5880 - acc: 0.8474 - val_loss: 0.5851 - val_acc: 0.8460\n",
      "Epoch 30/50\n",
      "498/498 [==============================] - 0s 42us/step - loss: 0.5845 - acc: 0.8474 - val_loss: 0.5815 - val_acc: 0.8460\n",
      "Epoch 31/50\n",
      "498/498 [==============================] - 0s 42us/step - loss: 0.5810 - acc: 0.8474 - val_loss: 0.5781 - val_acc: 0.8480\n",
      "Epoch 32/50\n",
      "498/498 [==============================] - 0s 40us/step - loss: 0.5776 - acc: 0.8474 - val_loss: 0.5746 - val_acc: 0.8460\n",
      "Epoch 33/50\n",
      "498/498 [==============================] - 0s 40us/step - loss: 0.5740 - acc: 0.8474 - val_loss: 0.5711 - val_acc: 0.8460\n",
      "Epoch 34/50\n",
      "498/498 [==============================] - 0s 41us/step - loss: 0.5706 - acc: 0.8474 - val_loss: 0.5676 - val_acc: 0.8460\n",
      "Epoch 35/50\n",
      "498/498 [==============================] - 0s 41us/step - loss: 0.5671 - acc: 0.8474 - val_loss: 0.5642 - val_acc: 0.8460\n",
      "Epoch 36/50\n",
      "498/498 [==============================] - 0s 42us/step - loss: 0.5637 - acc: 0.8474 - val_loss: 0.5607 - val_acc: 0.8460\n",
      "Epoch 37/50\n",
      "498/498 [==============================] - 0s 41us/step - loss: 0.5603 - acc: 0.8474 - val_loss: 0.5573 - val_acc: 0.8460\n",
      "Epoch 38/50\n",
      "498/498 [==============================] - 0s 40us/step - loss: 0.5569 - acc: 0.8474 - val_loss: 0.5538 - val_acc: 0.8460\n",
      "Epoch 39/50\n",
      "498/498 [==============================] - 0s 40us/step - loss: 0.5535 - acc: 0.8474 - val_loss: 0.5504 - val_acc: 0.8460\n",
      "Epoch 40/50\n",
      "498/498 [==============================] - 0s 43us/step - loss: 0.5502 - acc: 0.8474 - val_loss: 0.5472 - val_acc: 0.8460\n",
      "Epoch 41/50\n",
      "498/498 [==============================] - 0s 42us/step - loss: 0.5469 - acc: 0.8494 - val_loss: 0.5438 - val_acc: 0.8460\n",
      "Epoch 42/50\n",
      "498/498 [==============================] - 0s 41us/step - loss: 0.5435 - acc: 0.8494 - val_loss: 0.5406 - val_acc: 0.8460\n",
      "Epoch 43/50\n",
      "498/498 [==============================] - 0s 65us/step - loss: 0.5403 - acc: 0.8514 - val_loss: 0.5372 - val_acc: 0.8460\n",
      "Epoch 44/50\n",
      "498/498 [==============================] - 0s 49us/step - loss: 0.5370 - acc: 0.8514 - val_loss: 0.5339 - val_acc: 0.8460\n",
      "Epoch 45/50\n",
      "498/498 [==============================] - 0s 42us/step - loss: 0.5338 - acc: 0.8514 - val_loss: 0.5306 - val_acc: 0.8460\n",
      "Epoch 46/50\n",
      "498/498 [==============================] - 0s 41us/step - loss: 0.5305 - acc: 0.8514 - val_loss: 0.5274 - val_acc: 0.8460\n",
      "Epoch 47/50\n",
      "498/498 [==============================] - 0s 43us/step - loss: 0.5272 - acc: 0.8514 - val_loss: 0.5242 - val_acc: 0.8440\n",
      "Epoch 48/50\n",
      "498/498 [==============================] - 0s 42us/step - loss: 0.5241 - acc: 0.8514 - val_loss: 0.5209 - val_acc: 0.8440\n",
      "Epoch 49/50\n",
      "498/498 [==============================] - 0s 41us/step - loss: 0.5209 - acc: 0.8514 - val_loss: 0.5177 - val_acc: 0.8440\n",
      "Epoch 50/50\n",
      "498/498 [==============================] - 0s 40us/step - loss: 0.5178 - acc: 0.8514 - val_loss: 0.5146 - val_acc: 0.8440\n"
     ]
    },
    {
     "data": {
      "text/plain": [
       "<keras.callbacks.History at 0x7fbb4024b9b0>"
      ]
     },
     "execution_count": 11,
     "metadata": {},
     "output_type": "execute_result"
    }
   ],
   "source": [
    "feature_model.fit(X_train_features, Y_train, epochs=50, validation_data=(X_test_features, Y_test))"
   ]
  },
  {
   "cell_type": "code",
   "execution_count": null,
   "metadata": {},
   "outputs": [],
   "source": []
  }
 ],
 "metadata": {
  "kernelspec": {
   "display_name": "Python [conda env:ut_ml]",
   "language": "python",
   "name": "conda-env-ut_ml-py"
  },
  "language_info": {
   "codemirror_mode": {
    "name": "ipython",
    "version": 3
   },
   "file_extension": ".py",
   "mimetype": "text/x-python",
   "name": "python",
   "nbconvert_exporter": "python",
   "pygments_lexer": "ipython3",
   "version": "3.6.8"
  }
 },
 "nbformat": 4,
 "nbformat_minor": 2
}
