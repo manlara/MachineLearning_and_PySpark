{
 "cells": [
  {
   "cell_type": "markdown",
   "metadata": {
    "colab_type": "raw",
    "id": "IftAA332y3DU"
   },
   "source": [
    "Based on the video below\n",
    "https://www.youtube.com/watch?v=6maH8Lh3pK4\n",
    "\n",
    "https://blog.keras.io/building-autoencoders-in-keras.html"
   ]
  },
  {
   "cell_type": "markdown",
   "metadata": {
    "colab_type": "text",
    "id": "BJXsAz-Dy3DV"
   },
   "source": [
    "Make the NN summarise the information the are looking at.\n",
    "\n",
    "Useful for compression and denoising"
   ]
  },
  {
   "cell_type": "code",
   "execution_count": 1,
   "metadata": {
    "colab": {
     "base_uri": "https://localhost:8080/",
     "height": 34
    },
    "colab_type": "code",
    "id": "JDWkbzNvy3DW",
    "outputId": "83df8ed1-4d8c-48bf-b107-41d6ff3a95e4"
   },
   "outputs": [
    {
     "name": "stderr",
     "output_type": "stream",
     "text": [
      "Using TensorFlow backend.\n"
     ]
    }
   ],
   "source": [
    "from keras.layers import Input, Dense, Flatten, Reshape, UpSampling2D, Conv2D, MaxPooling2D\n",
    "from keras.models import Model, Sequential\n",
    "from keras.callbacks import EarlyStopping\n",
    "\n",
    "from keras.datasets import mnist\n",
    "from keras.datasets import fashion_mnist\n",
    "\n",
    "import numpy as np"
   ]
  },
  {
   "cell_type": "code",
   "execution_count": 2,
   "metadata": {
    "colab": {
     "base_uri": "https://localhost:8080/",
     "height": 88
    },
    "colab_type": "code",
    "id": "EyN_AncPy3Dc",
    "outputId": "9cc89fc5-4a15-42e0-c99c-9ce8019b2c1f"
   },
   "outputs": [],
   "source": [
    "# this is the size of our encoded representations\n",
    "encoding_dim = 32  # 32 floats -> compression of factor 24.5, assuming the input is 784 floats\n",
    "\n",
    "# this is our input placeholder\n",
    "input_img = Input(shape=(784,))\n",
    "# \"encoded\" is the encoded representation of the input\n",
    "encoded = Dense(encoding_dim, activation='relu')(input_img)\n",
    "# \"decoded\" is the lossy reconstruction of the input\n",
    "decoded = Dense(784, activation='sigmoid')(encoded)\n",
    "\n",
    "# this model maps an input to its reconstruction\n",
    "autoencoder = Model(input_img, decoded)"
   ]
  },
  {
   "cell_type": "code",
   "execution_count": 3,
   "metadata": {
    "colab": {},
    "colab_type": "code",
    "id": "Gm-fgaEty3Df"
   },
   "outputs": [],
   "source": [
    "# this model maps an input to its encoded representation\n",
    "encoder = Model(input_img, encoded)"
   ]
  },
  {
   "cell_type": "code",
   "execution_count": 4,
   "metadata": {
    "colab": {},
    "colab_type": "code",
    "id": "vzbZrCVfy3Di"
   },
   "outputs": [],
   "source": [
    "# create a placeholder for an encoded (32-dimensional) input\n",
    "encoded_input = Input(shape=(encoding_dim,))\n",
    "# retrieve the last layer of the autoencoder model\n",
    "decoder_layer = autoencoder.layers[-1]\n",
    "# create the decoder model\n",
    "decoder = Model(encoded_input, decoder_layer(encoded_input))"
   ]
  },
  {
   "cell_type": "code",
   "execution_count": 5,
   "metadata": {
    "colab": {},
    "colab_type": "code",
    "id": "R8xSW6Rdy3Dk"
   },
   "outputs": [],
   "source": [
    "autoencoder.compile(optimizer='adadelta', loss='binary_crossentropy')"
   ]
  },
  {
   "cell_type": "code",
   "execution_count": 6,
   "metadata": {
    "colab": {},
    "colab_type": "code",
    "id": "Q3jppGQGy3Dm"
   },
   "outputs": [],
   "source": [
    "from keras.datasets import mnist\n",
    "import numpy as np\n",
    "(x_train, _), (x_test, _) = mnist.load_data()"
   ]
  },
  {
   "cell_type": "code",
   "execution_count": 7,
   "metadata": {
    "colab": {
     "base_uri": "https://localhost:8080/",
     "height": 51
    },
    "colab_type": "code",
    "id": "tciDdiJly3Dp",
    "outputId": "6bdf2618-29e5-4504-f3f6-aab9d0f8f358"
   },
   "outputs": [
    {
     "name": "stdout",
     "output_type": "stream",
     "text": [
      "(60000, 784)\n",
      "(10000, 784)\n"
     ]
    }
   ],
   "source": [
    "x_train = x_train.astype('float32') / 255.\n",
    "x_test = x_test.astype('float32') / 255.\n",
    "x_train = x_train.reshape((len(x_train), np.prod(x_train.shape[1:])))\n",
    "x_test = x_test.reshape((len(x_test), np.prod(x_test.shape[1:])))\n",
    "print (x_train.shape)\n",
    "print (x_test.shape)"
   ]
  },
  {
   "cell_type": "code",
   "execution_count": 8,
   "metadata": {
    "colab": {
     "base_uri": "https://localhost:8080/",
     "height": 1822
    },
    "colab_type": "code",
    "id": "1aaJu3VAy3Dt",
    "outputId": "840c1a08-8728-4899-a543-e43d6014f1a8"
   },
   "outputs": [
    {
     "name": "stdout",
     "output_type": "stream",
     "text": [
      "Train on 60000 samples, validate on 10000 samples\n",
      "Epoch 1/50\n",
      "60000/60000 [==============================] - 2s 29us/step - loss: 0.3619 - val_loss: 0.2716\n",
      "Epoch 2/50\n",
      "60000/60000 [==============================] - 2s 29us/step - loss: 0.2644 - val_loss: 0.2537\n",
      "Epoch 3/50\n",
      "60000/60000 [==============================] - 2s 30us/step - loss: 0.2433 - val_loss: 0.2309\n",
      "Epoch 4/50\n",
      "60000/60000 [==============================] - 2s 31us/step - loss: 0.2228 - val_loss: 0.2126\n",
      "Epoch 5/50\n",
      "60000/60000 [==============================] - 2s 32us/step - loss: 0.2073 - val_loss: 0.1996\n",
      "Epoch 6/50\n",
      "60000/60000 [==============================] - 2s 32us/step - loss: 0.1962 - val_loss: 0.1901\n",
      "Epoch 7/50\n",
      "60000/60000 [==============================] - 2s 33us/step - loss: 0.1877 - val_loss: 0.1827\n",
      "Epoch 8/50\n",
      "60000/60000 [==============================] - 2s 34us/step - loss: 0.1809 - val_loss: 0.1764\n",
      "Epoch 9/50\n",
      "60000/60000 [==============================] - 2s 35us/step - loss: 0.1752 - val_loss: 0.1711\n",
      "Epoch 10/50\n",
      "60000/60000 [==============================] - 2s 35us/step - loss: 0.1701 - val_loss: 0.1662\n",
      "Epoch 11/50\n",
      "60000/60000 [==============================] - 2s 35us/step - loss: 0.1655 - val_loss: 0.1620\n",
      "Epoch 12/50\n",
      "60000/60000 [==============================] - 2s 36us/step - loss: 0.1613 - val_loss: 0.1581\n",
      "Epoch 13/50\n",
      "60000/60000 [==============================] - 2s 37us/step - loss: 0.1575 - val_loss: 0.1543\n",
      "Epoch 14/50\n",
      "60000/60000 [==============================] - 2s 37us/step - loss: 0.1540 - val_loss: 0.1509\n",
      "Epoch 15/50\n",
      "60000/60000 [==============================] - 2s 38us/step - loss: 0.1508 - val_loss: 0.1479\n",
      "Epoch 16/50\n",
      "60000/60000 [==============================] - 2s 39us/step - loss: 0.1478 - val_loss: 0.1450\n",
      "Epoch 17/50\n",
      "60000/60000 [==============================] - 2s 40us/step - loss: 0.1449 - val_loss: 0.1423\n",
      "Epoch 18/50\n",
      "60000/60000 [==============================] - 2s 40us/step - loss: 0.1422 - val_loss: 0.1397\n",
      "Epoch 19/50\n",
      "60000/60000 [==============================] - 3s 42us/step - loss: 0.1396 - val_loss: 0.1370\n",
      "Epoch 20/50\n",
      "60000/60000 [==============================] - 2s 40us/step - loss: 0.1371 - val_loss: 0.1345\n",
      "Epoch 21/50\n",
      "60000/60000 [==============================] - 2s 41us/step - loss: 0.1347 - val_loss: 0.1323\n",
      "Epoch 22/50\n",
      "60000/60000 [==============================] - 3s 42us/step - loss: 0.1325 - val_loss: 0.1299\n",
      "Epoch 23/50\n",
      "60000/60000 [==============================] - 3s 43us/step - loss: 0.1303 - val_loss: 0.1278\n",
      "Epoch 24/50\n",
      "60000/60000 [==============================] - 3s 43us/step - loss: 0.1283 - val_loss: 0.1258\n",
      "Epoch 25/50\n",
      "60000/60000 [==============================] - 3s 43us/step - loss: 0.1263 - val_loss: 0.1241\n",
      "Epoch 26/50\n",
      "60000/60000 [==============================] - 3s 42us/step - loss: 0.1245 - val_loss: 0.1221\n",
      "Epoch 27/50\n",
      "60000/60000 [==============================] - 3s 43us/step - loss: 0.1228 - val_loss: 0.1205\n",
      "Epoch 28/50\n",
      "60000/60000 [==============================] - 3s 43us/step - loss: 0.1212 - val_loss: 0.1188\n",
      "Epoch 29/50\n",
      "60000/60000 [==============================] - 3s 46us/step - loss: 0.1196 - val_loss: 0.1174\n",
      "Epoch 30/50\n",
      "60000/60000 [==============================] - 3s 46us/step - loss: 0.1182 - val_loss: 0.1160\n",
      "Epoch 31/50\n",
      "60000/60000 [==============================] - 3s 46us/step - loss: 0.1169 - val_loss: 0.1146\n",
      "Epoch 32/50\n",
      "60000/60000 [==============================] - 3s 47us/step - loss: 0.1156 - val_loss: 0.1134\n",
      "Epoch 33/50\n",
      "60000/60000 [==============================] - 3s 45us/step - loss: 0.1144 - val_loss: 0.1123\n",
      "Epoch 34/50\n",
      "60000/60000 [==============================] - 3s 48us/step - loss: 0.1133 - val_loss: 0.1112\n",
      "Epoch 35/50\n",
      "60000/60000 [==============================] - 3s 48us/step - loss: 0.1123 - val_loss: 0.1102\n",
      "Epoch 36/50\n",
      "60000/60000 [==============================] - 3s 48us/step - loss: 0.1114 - val_loss: 0.1094\n",
      "Epoch 37/50\n",
      "60000/60000 [==============================] - 3s 51us/step - loss: 0.1105 - val_loss: 0.1085\n",
      "Epoch 38/50\n",
      "60000/60000 [==============================] - 3s 50us/step - loss: 0.1097 - val_loss: 0.1077\n",
      "Epoch 39/50\n",
      "60000/60000 [==============================] - 3s 49us/step - loss: 0.1090 - val_loss: 0.1070\n",
      "Epoch 40/50\n",
      "60000/60000 [==============================] - 3s 52us/step - loss: 0.1083 - val_loss: 0.1063\n",
      "Epoch 41/50\n",
      "60000/60000 [==============================] - 3s 51us/step - loss: 0.1076 - val_loss: 0.1057\n",
      "Epoch 42/50\n",
      "60000/60000 [==============================] - 3s 49us/step - loss: 0.1070 - val_loss: 0.1051\n",
      "Epoch 43/50\n",
      "60000/60000 [==============================] - 3s 52us/step - loss: 0.1064 - val_loss: 0.1045\n",
      "Epoch 44/50\n",
      "60000/60000 [==============================] - 3s 51us/step - loss: 0.1059 - val_loss: 0.1040\n",
      "Epoch 45/50\n",
      "60000/60000 [==============================] - 3s 54us/step - loss: 0.1054 - val_loss: 0.1036\n",
      "Epoch 46/50\n",
      "60000/60000 [==============================] - 3s 52us/step - loss: 0.1049 - val_loss: 0.1031\n",
      "Epoch 47/50\n",
      "60000/60000 [==============================] - 3s 52us/step - loss: 0.1045 - val_loss: 0.1027\n",
      "Epoch 48/50\n",
      "60000/60000 [==============================] - 3s 55us/step - loss: 0.1041 - val_loss: 0.1023\n",
      "Epoch 49/50\n",
      "60000/60000 [==============================] - 3s 45us/step - loss: 0.1037 - val_loss: 0.1019\n",
      "Epoch 50/50\n",
      "60000/60000 [==============================] - 3s 44us/step - loss: 0.1033 - val_loss: 0.1016\n"
     ]
    },
    {
     "data": {
      "text/plain": [
       "<keras.callbacks.History at 0x7fce3841f630>"
      ]
     },
     "execution_count": 8,
     "metadata": {},
     "output_type": "execute_result"
    }
   ],
   "source": [
    "autoencoder.fit(x_train, x_train,\n",
    "                epochs=50,\n",
    "                batch_size=256,\n",
    "                shuffle=True,\n",
    "                validation_data=(x_test, x_test),\n",
    "               callbacks=[EarlyStopping(monitor='val_loss', min_delta=0, patience=20)])"
   ]
  },
  {
   "cell_type": "code",
   "execution_count": 9,
   "metadata": {
    "colab": {},
    "colab_type": "code",
    "id": "fB7V_qgmy3Dw"
   },
   "outputs": [],
   "source": [
    "# encode and decode some digits\n",
    "# note that we take them from the *test* set\n",
    "encoded_imgs = encoder.predict(x_test)\n",
    "decoded_imgs = decoder.predict(encoded_imgs)"
   ]
  },
  {
   "cell_type": "code",
   "execution_count": 10,
   "metadata": {
    "colab": {
     "base_uri": "https://localhost:8080/",
     "height": 244
    },
    "colab_type": "code",
    "id": "dY_AvcZPy3Dy",
    "outputId": "38dad24b-50b1-42b0-b41e-b4153eea778e"
   },
   "outputs": [
    {
     "data": {
      "image/png": "[encoded data removed]",
      "text/plain": [
       "<Figure size 1440x288 with 20 Axes>"
      ]
     },
     "metadata": {
      "needs_background": "light"
     },
     "output_type": "display_data"
    }
   ],
   "source": [
    "# use Matplotlib (don't ask)\n",
    "%matplotlib inline\n",
    "import matplotlib.pyplot as plt\n",
    "\n",
    "n = 10  # how many digits we will display\n",
    "plt.figure(figsize=(20, 4))\n",
    "for i in range(n):\n",
    "    # display original\n",
    "    ax = plt.subplot(2, n, i + 1)\n",
    "    plt.imshow(x_test[i].reshape(28, 28))\n",
    "    plt.gray()\n",
    "    ax.get_xaxis().set_visible(False)\n",
    "    ax.get_yaxis().set_visible(False)\n",
    "\n",
    "    # display reconstruction\n",
    "    ax = plt.subplot(2, n, i + 1 + n)\n",
    "    plt.imshow(decoded_imgs[i].reshape(28, 28))\n",
    "    plt.gray()\n",
    "    ax.get_xaxis().set_visible(False)\n",
    "    ax.get_yaxis().set_visible(False)\n",
    "plt.show()"
   ]
  },
  {
   "cell_type": "markdown",
   "metadata": {
    "colab_type": "text",
    "id": "2DhqTR-yy3D1"
   },
   "source": [
    "In the previous example, the representations were only constrained by the size of the hidden layer (32). In such a situation, what typically happens is that the hidden layer is learning an approximation of PCA (principal component analysis). But another way to constrain the representations to be compact is to add a sparsity contraint on the activity of the hidden representations, so fewer units would \"fire\" at a given time. In Keras, this can be done by adding an activity_regularizer to our Dense layer:\n",
    "\n"
   ]
  },
  {
   "cell_type": "code",
   "execution_count": 11,
   "metadata": {
    "colab": {},
    "colab_type": "code",
    "id": "TGASeqQJy3D1"
   },
   "outputs": [],
   "source": [
    "from keras import regularizers\n",
    "\n",
    "encoding_dim = 32\n",
    "\n",
    "input_img = Input(shape=(784,))\n",
    "# add a Dense layer with a L1 activity regularizer\n",
    "encoded = Dense(encoding_dim, activation='relu',\n",
    "                activity_regularizer=regularizers.l1(10e-5))(input_img)\n",
    "decoded = Dense(784, activation='sigmoid')(encoded)\n",
    "\n",
    "autoencoder = Model(input_img, decoded)"
   ]
  },
  {
   "cell_type": "code",
   "execution_count": 12,
   "metadata": {
    "colab": {},
    "colab_type": "code",
    "id": "BiORa3xCy3D3"
   },
   "outputs": [],
   "source": [
    "input_img = Input(shape=(784,))\n",
    "encoded = Dense(128, activation='relu')(input_img)\n",
    "encoded = Dense(64, activation='relu')(encoded)\n",
    "encoded = Dense(32, activation='relu')(encoded)\n",
    "\n",
    "decoded = Dense(64, activation='relu')(encoded)\n",
    "decoded = Dense(128, activation='relu')(decoded)\n",
    "decoded = Dense(784, activation='sigmoid')(decoded)"
   ]
  },
  {
   "cell_type": "code",
   "execution_count": 0,
   "metadata": {
    "colab": {},
    "colab_type": "code",
    "id": "6HOz59p0y3D5"
   },
   "outputs": [],
   "source": []
  },
  {
   "cell_type": "code",
   "execution_count": 13,
   "metadata": {
    "colab": {
     "base_uri": "https://localhost:8080/",
     "height": 935
    },
    "colab_type": "code",
    "id": "tGPO2l6dy3D7",
    "outputId": "9a100f15-291f-4393-9484-ff3431977a4b"
   },
   "outputs": [
    {
     "name": "stdout",
     "output_type": "stream",
     "text": [
      "Train on 60000 samples, validate on 10000 samples\n",
      "Epoch 1/100\n",
      "60000/60000 [==============================] - 4s 62us/step - loss: 0.3301 - val_loss: 0.2633\n",
      "Epoch 2/100\n",
      "60000/60000 [==============================] - 4s 60us/step - loss: 0.2546 - val_loss: 0.2449\n",
      "Epoch 3/100\n",
      "60000/60000 [==============================] - 4s 60us/step - loss: 0.2365 - val_loss: 0.2251\n",
      "Epoch 4/100\n",
      "60000/60000 [==============================] - 4s 61us/step - loss: 0.2153 - val_loss: 0.2043\n",
      "Epoch 5/100\n",
      "60000/60000 [==============================] - 4s 64us/step - loss: 0.1987 - val_loss: 0.1942\n",
      "Epoch 6/100\n",
      "60000/60000 [==============================] - 4s 66us/step - loss: 0.1891 - val_loss: 0.1848\n",
      "Epoch 7/100\n",
      "60000/60000 [==============================] - 4s 63us/step - loss: 0.1823 - val_loss: 0.1786\n",
      "Epoch 8/100\n",
      "60000/60000 [==============================] - 4s 60us/step - loss: 0.1753 - val_loss: 0.1709\n",
      "Epoch 9/100\n",
      "60000/60000 [==============================] - 4s 59us/step - loss: 0.1689 - val_loss: 0.1651\n",
      "Epoch 10/100\n",
      "60000/60000 [==============================] - 4s 62us/step - loss: 0.1642 - val_loss: 0.1621\n",
      "Epoch 11/100\n",
      "60000/60000 [==============================] - 4s 64us/step - loss: 0.1601 - val_loss: 0.1565\n",
      "Epoch 12/100\n",
      "60000/60000 [==============================] - 4s 64us/step - loss: 0.1563 - val_loss: 0.1533\n",
      "Epoch 13/100\n",
      "60000/60000 [==============================] - 4s 64us/step - loss: 0.1528 - val_loss: 0.1487\n",
      "Epoch 14/100\n",
      "60000/60000 [==============================] - 4s 66us/step - loss: 0.1498 - val_loss: 0.1473\n",
      "Epoch 15/100\n",
      "60000/60000 [==============================] - 4s 65us/step - loss: 0.1472 - val_loss: 0.1445\n",
      "Epoch 16/100\n",
      "60000/60000 [==============================] - 4s 68us/step - loss: 0.1449 - val_loss: 0.1410\n",
      "Epoch 17/100\n",
      "60000/60000 [==============================] - 4s 66us/step - loss: 0.1426 - val_loss: 0.1408\n",
      "Epoch 18/100\n",
      "60000/60000 [==============================] - 4s 66us/step - loss: 0.1406 - val_loss: 0.1389\n",
      "Epoch 19/100\n",
      "60000/60000 [==============================] - 4s 69us/step - loss: 0.1385 - val_loss: 0.1361\n",
      "Epoch 20/100\n",
      "60000/60000 [==============================] - 4s 69us/step - loss: 0.1367 - val_loss: 0.1360\n",
      "Epoch 21/100\n",
      "60000/60000 [==============================] - 4s 69us/step - loss: 0.1351 - val_loss: 0.1327\n",
      "Epoch 22/100\n",
      "60000/60000 [==============================] - 4s 72us/step - loss: 0.1335 - val_loss: 0.1325\n",
      "Epoch 23/100\n",
      "60000/60000 [==============================] - 4s 73us/step - loss: 0.1320 - val_loss: 0.1292\n",
      "Epoch 24/100\n",
      "60000/60000 [==============================] - 4s 72us/step - loss: 0.1308 - val_loss: 0.1287\n",
      "Epoch 25/100\n",
      "60000/60000 [==============================] - 4s 71us/step - loss: 0.1297 - val_loss: 0.1273\n",
      "Epoch 26/100\n",
      "60000/60000 [==============================] - 4s 71us/step - loss: 0.1284 - val_loss: 0.1257\n",
      "Epoch 27/100\n",
      "60000/60000 [==============================] - 4s 73us/step - loss: 0.1274 - val_loss: 0.1265\n",
      "Epoch 28/100\n",
      "60000/60000 [==============================] - 4s 73us/step - loss: 0.1266 - val_loss: 0.1241\n",
      "Epoch 29/100\n",
      "60000/60000 [==============================] - 4s 75us/step - loss: 0.1256 - val_loss: 0.1237\n",
      "Epoch 30/100\n",
      "60000/60000 [==============================] - 4s 74us/step - loss: 0.1247 - val_loss: 0.1218\n",
      "Epoch 31/100\n",
      "60000/60000 [==============================] - 4s 74us/step - loss: 0.1239 - val_loss: 0.1225\n",
      "Epoch 32/100\n",
      "60000/60000 [==============================] - 4s 74us/step - loss: 0.1232 - val_loss: 0.1224\n",
      "Epoch 33/100\n",
      "60000/60000 [==============================] - 5s 77us/step - loss: 0.1223 - val_loss: 0.1209\n",
      "Epoch 34/100\n",
      "60000/60000 [==============================] - 5s 78us/step - loss: 0.1216 - val_loss: 0.1187\n",
      "Epoch 35/100\n",
      "60000/60000 [==============================] - 4s 74us/step - loss: 0.1208 - val_loss: 0.1191\n",
      "Epoch 36/100\n",
      "60000/60000 [==============================] - 4s 72us/step - loss: 0.1200 - val_loss: 0.1172\n",
      "Epoch 37/100\n",
      "60000/60000 [==============================] - 4s 71us/step - loss: 0.1194 - val_loss: 0.1184\n",
      "Epoch 38/100\n",
      "60000/60000 [==============================] - 4s 71us/step - loss: 0.1186 - val_loss: 0.1159\n",
      "Epoch 39/100\n",
      "60000/60000 [==============================] - 4s 69us/step - loss: 0.1179 - val_loss: 0.1150\n",
      "Epoch 40/100\n",
      "60000/60000 [==============================] - 4s 70us/step - loss: 0.1173 - val_loss: 0.1147\n",
      "Epoch 41/100\n",
      "60000/60000 [==============================] - 4s 68us/step - loss: 0.1166 - val_loss: 0.1149\n",
      "Epoch 42/100\n",
      "60000/60000 [==============================] - 4s 70us/step - loss: 0.1162 - val_loss: 0.1146\n",
      "Epoch 43/100\n",
      "60000/60000 [==============================] - 4s 73us/step - loss: 0.1155 - val_loss: 0.1153\n",
      "Epoch 44/100\n",
      "60000/60000 [==============================] - 4s 71us/step - loss: 0.1149 - val_loss: 0.1129\n",
      "Epoch 45/100\n",
      "60000/60000 [==============================] - 4s 71us/step - loss: 0.1145 - val_loss: 0.1134\n",
      "Epoch 46/100\n",
      "60000/60000 [==============================] - 4s 70us/step - loss: 0.1137 - val_loss: 0.1123\n",
      "Epoch 47/100\n",
      "60000/60000 [==============================] - 4s 72us/step - loss: 0.1132 - val_loss: 0.1124\n",
      "Epoch 48/100\n",
      "60000/60000 [==============================] - 4s 70us/step - loss: 0.1127 - val_loss: 0.1130\n",
      "Epoch 49/100\n",
      "60000/60000 [==============================] - 4s 70us/step - loss: 0.1121 - val_loss: 0.1104\n",
      "Epoch 50/100\n",
      "60000/60000 [==============================] - 4s 73us/step - loss: 0.1115 - val_loss: 0.1090\n",
      "Epoch 51/100\n",
      "60000/60000 [==============================] - 5s 75us/step - loss: 0.1111 - val_loss: 0.1106\n",
      "Epoch 52/100\n",
      "60000/60000 [==============================] - 4s 75us/step - loss: 0.1106 - val_loss: 0.1074\n",
      "Epoch 53/100\n",
      "60000/60000 [==============================] - 4s 72us/step - loss: 0.1102 - val_loss: 0.1073\n",
      "Epoch 54/100\n",
      "60000/60000 [==============================] - 4s 72us/step - loss: 0.1098 - val_loss: 0.1090\n",
      "Epoch 55/100\n",
      "60000/60000 [==============================] - 4s 72us/step - loss: 0.1094 - val_loss: 0.1087\n",
      "Epoch 56/100\n",
      "60000/60000 [==============================] - 5s 75us/step - loss: 0.1090 - val_loss: 0.1077\n",
      "Epoch 57/100\n",
      "60000/60000 [==============================] - 5s 77us/step - loss: 0.1087 - val_loss: 0.1067\n",
      "Epoch 58/100\n",
      "60000/60000 [==============================] - 5s 77us/step - loss: 0.1084 - val_loss: 0.1070\n",
      "Epoch 59/100\n",
      "60000/60000 [==============================] - 5s 75us/step - loss: 0.1080 - val_loss: 0.1071\n",
      "Epoch 60/100\n",
      "60000/60000 [==============================] - 4s 75us/step - loss: 0.1075 - val_loss: 0.1086\n",
      "Epoch 61/100\n",
      "60000/60000 [==============================] - 4s 72us/step - loss: 0.1073 - val_loss: 0.1075\n",
      "Epoch 62/100\n",
      "60000/60000 [==============================] - 5s 78us/step - loss: 0.1071 - val_loss: 0.1063\n",
      "Epoch 63/100\n",
      "60000/60000 [==============================] - 4s 75us/step - loss: 0.1068 - val_loss: 0.1051\n",
      "Epoch 64/100\n",
      "60000/60000 [==============================] - 5s 81us/step - loss: 0.1064 - val_loss: 0.1056\n",
      "Epoch 65/100\n",
      "60000/60000 [==============================] - 5s 84us/step - loss: 0.1062 - val_loss: 0.1048\n",
      "Epoch 66/100\n",
      "60000/60000 [==============================] - 5s 75us/step - loss: 0.1060 - val_loss: 0.1047\n",
      "Epoch 67/100\n",
      "60000/60000 [==============================] - 5s 79us/step - loss: 0.1057 - val_loss: 0.1047\n",
      "Epoch 68/100\n",
      "60000/60000 [==============================] - 4s 71us/step - loss: 0.1056 - val_loss: 0.1065\n",
      "Epoch 69/100\n",
      "60000/60000 [==============================] - 4s 70us/step - loss: 0.1053 - val_loss: 0.1043\n",
      "Epoch 70/100\n",
      "60000/60000 [==============================] - 4s 71us/step - loss: 0.1051 - val_loss: 0.1035\n",
      "Epoch 71/100\n",
      "60000/60000 [==============================] - 4s 71us/step - loss: 0.1049 - val_loss: 0.1025\n",
      "Epoch 72/100\n",
      "60000/60000 [==============================] - 4s 72us/step - loss: 0.1047 - val_loss: 0.1055\n",
      "Epoch 73/100\n",
      "60000/60000 [==============================] - 4s 69us/step - loss: 0.1043 - val_loss: 0.1045\n",
      "Epoch 74/100\n",
      "60000/60000 [==============================] - 4s 70us/step - loss: 0.1041 - val_loss: 0.1053\n",
      "Epoch 75/100\n",
      "60000/60000 [==============================] - 4s 72us/step - loss: 0.1038 - val_loss: 0.1056\n",
      "Epoch 76/100\n",
      "60000/60000 [==============================] - 4s 72us/step - loss: 0.1038 - val_loss: 0.1020\n",
      "Epoch 77/100\n"
     ]
    },
    {
     "name": "stdout",
     "output_type": "stream",
     "text": [
      "60000/60000 [==============================] - 4s 72us/step - loss: 0.1035 - val_loss: 0.1024\n",
      "Epoch 78/100\n",
      "60000/60000 [==============================] - 4s 68us/step - loss: 0.1034 - val_loss: 0.1027\n",
      "Epoch 79/100\n",
      "60000/60000 [==============================] - 4s 71us/step - loss: 0.1032 - val_loss: 0.1030\n",
      "Epoch 80/100\n",
      "60000/60000 [==============================] - 4s 72us/step - loss: 0.1029 - val_loss: 0.1007\n",
      "Epoch 81/100\n",
      "60000/60000 [==============================] - 4s 73us/step - loss: 0.1027 - val_loss: 0.1025\n",
      "Epoch 82/100\n",
      "60000/60000 [==============================] - 4s 73us/step - loss: 0.1025 - val_loss: 0.0998\n",
      "Epoch 83/100\n",
      "60000/60000 [==============================] - 5s 83us/step - loss: 0.1024 - val_loss: 0.1028\n",
      "Epoch 84/100\n",
      "60000/60000 [==============================] - 4s 71us/step - loss: 0.1020 - val_loss: 0.1008\n",
      "Epoch 85/100\n",
      "60000/60000 [==============================] - 4s 72us/step - loss: 0.1020 - val_loss: 0.1007\n",
      "Epoch 86/100\n",
      "60000/60000 [==============================] - 4s 69us/step - loss: 0.1017 - val_loss: 0.1013\n",
      "Epoch 87/100\n",
      "60000/60000 [==============================] - 4s 73us/step - loss: 0.1016 - val_loss: 0.1004\n",
      "Epoch 88/100\n",
      "60000/60000 [==============================] - 4s 74us/step - loss: 0.1012 - val_loss: 0.1010\n",
      "Epoch 89/100\n",
      "60000/60000 [==============================] - 5s 76us/step - loss: 0.1010 - val_loss: 0.0991\n",
      "Epoch 90/100\n",
      "60000/60000 [==============================] - 4s 72us/step - loss: 0.1010 - val_loss: 0.1001\n",
      "Epoch 91/100\n",
      "60000/60000 [==============================] - 4s 74us/step - loss: 0.1008 - val_loss: 0.1001\n",
      "Epoch 92/100\n",
      "60000/60000 [==============================] - 4s 73us/step - loss: 0.1006 - val_loss: 0.0988\n",
      "Epoch 93/100\n",
      "60000/60000 [==============================] - 4s 71us/step - loss: 0.1006 - val_loss: 0.0981\n",
      "Epoch 94/100\n",
      "60000/60000 [==============================] - 4s 72us/step - loss: 0.1004 - val_loss: 0.0990\n",
      "Epoch 95/100\n",
      "60000/60000 [==============================] - 4s 73us/step - loss: 0.1001 - val_loss: 0.0997\n",
      "Epoch 96/100\n",
      "60000/60000 [==============================] - 4s 75us/step - loss: 0.1001 - val_loss: 0.0986\n",
      "Epoch 97/100\n",
      "60000/60000 [==============================] - 4s 75us/step - loss: 0.0998 - val_loss: 0.0984\n",
      "Epoch 98/100\n",
      "60000/60000 [==============================] - 4s 74us/step - loss: 0.0997 - val_loss: 0.0986\n",
      "Epoch 99/100\n",
      "60000/60000 [==============================] - 4s 74us/step - loss: 0.0995 - val_loss: 0.0983\n",
      "Epoch 100/100\n",
      "60000/60000 [==============================] - 5s 77us/step - loss: 0.0994 - val_loss: 0.0974\n"
     ]
    },
    {
     "data": {
      "text/plain": [
       "<keras.callbacks.History at 0x7fce3841fe48>"
      ]
     },
     "execution_count": 13,
     "metadata": {},
     "output_type": "execute_result"
    }
   ],
   "source": [
    "autoencoder = Model(input_img, decoded)\n",
    "autoencoder.compile(optimizer='adadelta', loss='binary_crossentropy')\n",
    "\n",
    "autoencoder.fit(x_train, x_train,\n",
    "                epochs=100,\n",
    "                batch_size=256,\n",
    "                shuffle=True,\n",
    "                validation_data=(x_test, x_test),\n",
    "               callbacks=[EarlyStopping(monitor='val_loss', min_delta=0, patience=20)])"
   ]
  },
  {
   "cell_type": "code",
   "execution_count": 14,
   "metadata": {
    "colab": {},
    "colab_type": "code",
    "id": "-3eQ2XN2y3D-"
   },
   "outputs": [],
   "source": [
    "# encode and decode some digits\n",
    "# note that we take them from the *test* set\n",
    "encoded_imgs = encoder.predict(x_test)\n",
    "decoded_imgs = decoder.predict(encoded_imgs)"
   ]
  },
  {
   "cell_type": "code",
   "execution_count": 15,
   "metadata": {
    "colab": {
     "base_uri": "https://localhost:8080/",
     "height": 244
    },
    "colab_type": "code",
    "id": "-Ry2ksN-y3EA",
    "outputId": "31a62e76-8aaf-4ff7-a683-2c63611d02c5"
   },
   "outputs": [
    {
     "data": {
      "image/png": "[encoded data removed]",
      "text/plain": [
       "<Figure size 1440x288 with 20 Axes>"
      ]
     },
     "metadata": {
      "needs_background": "light"
     },
     "output_type": "display_data"
    }
   ],
   "source": [
    "n = 10  # how many digits we will display\n",
    "plt.figure(figsize=(20, 4))\n",
    "for i in range(n):\n",
    "    # display original\n",
    "    ax = plt.subplot(2, n, i + 1)\n",
    "    plt.imshow(x_test[i].reshape(28, 28))\n",
    "    plt.gray()\n",
    "    ax.get_xaxis().set_visible(False)\n",
    "    ax.get_yaxis().set_visible(False)\n",
    "\n",
    "    # display reconstruction\n",
    "    ax = plt.subplot(2, n, i + 1 + n)\n",
    "    plt.imshow(decoded_imgs[i].reshape(28, 28))\n",
    "    plt.gray()\n",
    "    ax.get_xaxis().set_visible(False)\n",
    "    ax.get_yaxis().set_visible(False)\n",
    "plt.show()"
   ]
  },
  {
   "cell_type": "code",
   "execution_count": null,
   "metadata": {},
   "outputs": [],
   "source": []
  }
 ],
 "metadata": {
  "accelerator": "TPU",
  "colab": {
   "name": "Basic_Denoiser.ipynb",
   "provenance": [],
   "version": "0.3.2"
  },
  "kernelspec": {
   "display_name": "Python [conda env:ut_ml]",
   "language": "python",
   "name": "conda-env-ut_ml-py"
  },
  "language_info": {
   "codemirror_mode": {
    "name": "ipython",
    "version": 3
   },
   "file_extension": ".py",
   "mimetype": "text/x-python",
   "name": "python",
   "nbconvert_exporter": "python",
   "pygments_lexer": "ipython3",
   "version": "3.6.8"
  }
 },
 "nbformat": 4,
 "nbformat_minor": 1
}
