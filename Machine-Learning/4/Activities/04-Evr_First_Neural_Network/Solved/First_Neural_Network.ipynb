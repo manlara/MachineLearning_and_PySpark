{
 "cells": [
  {
   "cell_type": "markdown",
   "metadata": {
    "slideshow": {
     "slide_type": "slide"
    }
   },
   "source": [
    "# Neural Networks with Keras"
   ]
  },
  {
   "cell_type": "markdown",
   "metadata": {
    "slideshow": {
     "slide_type": "slide"
    }
   },
   "source": [
    "We must first decide what kind of model to apply to our data. For categorical data, we use a classifier model. \n",
    "\n",
    "In this example, we will use a classifier to build the following network:"
   ]
  },
  {
   "cell_type": "markdown",
   "metadata": {},
   "source": [
    "![nnet.png](../Images/nnet.png)"
   ]
  },
  {
   "cell_type": "markdown",
   "metadata": {},
   "source": [
    "## Defining and compiling our Model Architecture (the layers)\n",
    "\n",
    "We first need to create a sequential model"
   ]
  },
  {
   "cell_type": "code",
   "execution_count": 1,
   "metadata": {},
   "outputs": [
    {
     "name": "stderr",
     "output_type": "stream",
     "text": [
      "Using TensorFlow backend.\n"
     ]
    }
   ],
   "source": [
    "from keras.models import Sequential\n",
    "\n",
    "model = Sequential()"
   ]
  },
  {
   "cell_type": "markdown",
   "metadata": {},
   "source": [
    "Next, we add our first layer. This layer requires you to specify both the number of inputs and the number of nodes that you want in the hidden layer."
   ]
  },
  {
   "cell_type": "code",
   "execution_count": 2,
   "metadata": {},
   "outputs": [],
   "source": [
    "from keras.layers import Dense\n",
    "number_inputs = 3\n",
    "number_hidden_nodes = 4\n",
    "model.add(Dense(units=number_hidden_nodes,\n",
    "                activation='relu', input_dim=number_inputs))"
   ]
  },
  {
   "cell_type": "markdown",
   "metadata": {},
   "source": [
    "![first_layer](../Images/nnet_first_layer.png)"
   ]
  },
  {
   "cell_type": "markdown",
   "metadata": {},
   "source": [
    "Our final layer is the output layer. Here, we need to specify the activation function (typically `softmax` for classification) and the number of classes (labels) that we are trying to predict (2 in this example)."
   ]
  },
  {
   "cell_type": "code",
   "execution_count": 3,
   "metadata": {},
   "outputs": [],
   "source": [
    "number_classes = 2\n",
    "model.add(Dense(units=number_classes, activation='softmax'))"
   ]
  },
  {
   "cell_type": "markdown",
   "metadata": {},
   "source": [
    "![output_layer](../Images/nnet_output_layer.png)"
   ]
  },
  {
   "cell_type": "code",
   "execution_count": 4,
   "metadata": {},
   "outputs": [
    {
     "name": "stdout",
     "output_type": "stream",
     "text": [
      "_________________________________________________________________\n",
      "Layer (type)                 Output Shape              Param #   \n",
      "=================================================================\n",
      "dense_1 (Dense)              (None, 4)                 16        \n",
      "_________________________________________________________________\n",
      "dense_2 (Dense)              (None, 2)                 10        \n",
      "=================================================================\n",
      "Total params: 26\n",
      "Trainable params: 26\n",
      "Non-trainable params: 0\n",
      "_________________________________________________________________\n"
     ]
    }
   ],
   "source": [
    "model.summary()"
   ]
  },
  {
   "cell_type": "markdown",
   "metadata": {},
   "source": [
    "Now that we have our model architecture defined, we must compile the model using a loss function and optimizer. We can also specify additional training metrics such as accuracy."
   ]
  },
  {
   "cell_type": "code",
   "execution_count": 5,
   "metadata": {},
   "outputs": [],
   "source": [
    "# Use categorical crossentropy for categorical data and accuracy for scoring.\n",
    "# Hint: your output layer in this example is using softmax for logistic regression (categorical)\n",
    "# If your output layer activation was `linear` then you may want to use `mse` for loss\n",
    "model.compile(optimizer='adam', loss='categorical_crossentropy', metrics=['accuracy'])"
   ]
  },
  {
   "cell_type": "markdown",
   "metadata": {},
   "source": [
    "## Making a scikit-learn-compatible Keras classifier"
   ]
  },
  {
   "cell_type": "markdown",
   "metadata": {},
   "source": [
    "To take advantage of scikit-learn's pipelines, grid search, etc. Keras provides a wrapper for both classifiers and regressors."
   ]
  },
  {
   "cell_type": "code",
   "execution_count": 6,
   "metadata": {},
   "outputs": [],
   "source": [
    "# Define helper function to do the same steps as above\n",
    "def build_classifier():\n",
    "    classifier = Sequential()\n",
    "    number_inputs = 3\n",
    "    number_hidden_nodes = 4\n",
    "    classifier.add(Dense(units=number_hidden_nodes, activation='relu', input_dim=number_inputs))\n",
    "    number_classes = 2\n",
    "    classifier.add(Dense(units=number_classes, activation='softmax'))\n",
    "    classifier.compile(optimizer='adam', loss='categorical_crossentropy', metrics=['accuracy'])\n",
    "    return classifier\n",
    "\n",
    "# Create a Keras model that's compatible with scikit-learn\n",
    "from keras.callbacks import EarlyStopping\n",
    "from keras.wrappers.scikit_learn import KerasClassifier\n",
    "keras_classifier = KerasClassifier(build_classifier, epochs=300, shuffle=True, verbose=2, callbacks=[EarlyStopping(monitor='acc', patience=50, verbose=2)])"
   ]
  },
  {
   "cell_type": "markdown",
   "metadata": {},
   "source": [
    "## Getting data"
   ]
  },
  {
   "cell_type": "code",
   "execution_count": 7,
   "metadata": {
    "scrolled": true,
    "slideshow": {
     "slide_type": "subslide"
    }
   },
   "outputs": [
    {
     "name": "stdout",
     "output_type": "stream",
     "text": [
      "(100, 3)\n",
      "(100, 1)\n"
     ]
    }
   ],
   "source": [
    "# Generate some fake data with 3 features\n",
    "\n",
    "from sklearn.datasets import make_classification\n",
    "\n",
    "X, y = make_classification(n_features=3, n_redundant=0, n_informative=3,\n",
    "                           random_state=42, n_classes=2, n_clusters_per_class=1)\n",
    "\n",
    "y = y.reshape(-1, 1)\n",
    "\n",
    "print(X.shape)\n",
    "print(y.shape)"
   ]
  },
  {
   "cell_type": "markdown",
   "metadata": {},
   "source": [
    "## Splitting data into training and testing sets"
   ]
  },
  {
   "cell_type": "markdown",
   "metadata": {
    "slideshow": {
     "slide_type": "subslide"
    }
   },
   "source": [
    "Use train_test_split to create training and testing data"
   ]
  },
  {
   "cell_type": "code",
   "execution_count": 8,
   "metadata": {
    "nbgrader": {
     "grade": false,
     "grade_id": "cell-97f9d8f3d4b7abc1",
     "locked": false,
     "schema_version": 1,
     "solution": true
    },
    "slideshow": {
     "slide_type": "fragment"
    }
   },
   "outputs": [],
   "source": [
    "from sklearn.model_selection import train_test_split\n",
    "\n",
    "X_train, X_test, y_train, y_test = train_test_split(X, y, random_state=1)"
   ]
  },
  {
   "cell_type": "markdown",
   "metadata": {
    "slideshow": {
     "slide_type": "slide"
    }
   },
   "source": [
    "## Preprocessing data\n",
    "\n",
    "It is really important to scale our data before using multilayer perceptron models. Without scaling, it is often difficult for the training cycle to converge."
   ]
  },
  {
   "cell_type": "code",
   "execution_count": 9,
   "metadata": {},
   "outputs": [],
   "source": [
    "from sklearn.preprocessing import StandardScaler\n",
    "from sklearn.pipeline import make_pipeline\n",
    "model = make_pipeline(StandardScaler(), keras_classifier)"
   ]
  },
  {
   "cell_type": "markdown",
   "metadata": {},
   "source": [
    "Also one-hot encode the labels."
   ]
  },
  {
   "cell_type": "code",
   "execution_count": 10,
   "metadata": {},
   "outputs": [
    {
     "data": {
      "text/plain": [
       "array([[0., 1.],\n",
       "       [1., 0.],\n",
       "       [1., 0.],\n",
       "       [1., 0.],\n",
       "       [0., 1.],\n",
       "       [0., 1.],\n",
       "       [1., 0.],\n",
       "       [0., 1.],\n",
       "       [1., 0.],\n",
       "       [0., 1.]], dtype=float32)"
      ]
     },
     "execution_count": 10,
     "metadata": {},
     "output_type": "execute_result"
    }
   ],
   "source": [
    "from keras.utils import to_categorical\n",
    "\n",
    "# One-hot encoding\n",
    "y_train_categorical = to_categorical(y_train)\n",
    "y_test_categorical = to_categorical(y_test)\n",
    "y_test_categorical[:10]"
   ]
  },
  {
   "cell_type": "markdown",
   "metadata": {},
   "source": [
    "## Training the Model\n",
    "Finally, we train our model using our training data"
   ]
  },
  {
   "cell_type": "markdown",
   "metadata": {},
   "source": [
    "Training consists of updating our weights using our optimizer and loss function. In this example, we choose 1000 iterations (loops) of training that are called epochs.\n",
    "\n",
    "We also choose to shuffle our training data and increase the detail printed out during each training cycle."
   ]
  },
  {
   "cell_type": "code",
   "execution_count": 11,
   "metadata": {},
   "outputs": [
    {
     "name": "stdout",
     "output_type": "stream",
     "text": [
      "Epoch 1/300\n",
      " - 5s - loss: 0.7941 - acc: 0.5467\n",
      "Epoch 2/300\n",
      " - 0s - loss: 0.7870 - acc: 0.5600\n",
      "Epoch 3/300\n",
      " - 0s - loss: 0.7807 - acc: 0.5600\n",
      "Epoch 4/300\n",
      " - 0s - loss: 0.7744 - acc: 0.5733\n",
      "Epoch 5/300\n",
      " - 0s - loss: 0.7668 - acc: 0.5733\n",
      "Epoch 6/300\n",
      " - 0s - loss: 0.7599 - acc: 0.6000\n",
      "Epoch 7/300\n",
      " - 0s - loss: 0.7529 - acc: 0.6000\n",
      "Epoch 8/300\n",
      " - 0s - loss: 0.7456 - acc: 0.6000\n",
      "Epoch 9/300\n",
      " - 0s - loss: 0.7376 - acc: 0.6000\n",
      "Epoch 10/300\n",
      " - 0s - loss: 0.7308 - acc: 0.6000\n",
      "Epoch 11/300\n",
      " - 0s - loss: 0.7227 - acc: 0.6000\n",
      "Epoch 12/300\n",
      " - 0s - loss: 0.7154 - acc: 0.6000\n",
      "Epoch 13/300\n",
      " - 0s - loss: 0.7088 - acc: 0.6000\n",
      "Epoch 14/300\n",
      " - 0s - loss: 0.7006 - acc: 0.6000\n",
      "Epoch 15/300\n",
      " - 0s - loss: 0.6930 - acc: 0.6000\n",
      "Epoch 16/300\n",
      " - 0s - loss: 0.6863 - acc: 0.6133\n",
      "Epoch 17/300\n",
      " - 0s - loss: 0.6797 - acc: 0.6133\n",
      "Epoch 18/300\n",
      " - 0s - loss: 0.6722 - acc: 0.6133\n",
      "Epoch 19/300\n",
      " - 0s - loss: 0.6655 - acc: 0.6000\n",
      "Epoch 20/300\n",
      " - 0s - loss: 0.6588 - acc: 0.6000\n",
      "Epoch 21/300\n",
      " - 0s - loss: 0.6526 - acc: 0.6000\n",
      "Epoch 22/300\n",
      " - 0s - loss: 0.6461 - acc: 0.6000\n",
      "Epoch 23/300\n",
      " - 0s - loss: 0.6393 - acc: 0.6133\n",
      "Epoch 24/300\n",
      " - 0s - loss: 0.6337 - acc: 0.6267\n",
      "Epoch 25/300\n",
      " - 0s - loss: 0.6277 - acc: 0.6400\n",
      "Epoch 26/300\n",
      " - 0s - loss: 0.6217 - acc: 0.6400\n",
      "Epoch 27/300\n",
      " - 0s - loss: 0.6165 - acc: 0.6400\n",
      "Epoch 28/300\n",
      " - 0s - loss: 0.6110 - acc: 0.6400\n",
      "Epoch 29/300\n",
      " - 0s - loss: 0.6051 - acc: 0.6533\n",
      "Epoch 30/300\n",
      " - 0s - loss: 0.5997 - acc: 0.6533\n",
      "Epoch 31/300\n",
      " - 0s - loss: 0.5951 - acc: 0.6533\n",
      "Epoch 32/300\n",
      " - 0s - loss: 0.5893 - acc: 0.6667\n",
      "Epoch 33/300\n",
      " - 0s - loss: 0.5843 - acc: 0.6667\n",
      "Epoch 34/300\n",
      " - 0s - loss: 0.5797 - acc: 0.6667\n",
      "Epoch 35/300\n",
      " - 0s - loss: 0.5748 - acc: 0.6667\n",
      "Epoch 36/300\n",
      " - 0s - loss: 0.5700 - acc: 0.6667\n",
      "Epoch 37/300\n",
      " - 0s - loss: 0.5651 - acc: 0.6667\n",
      "Epoch 38/300\n",
      " - 0s - loss: 0.5603 - acc: 0.6667\n",
      "Epoch 39/300\n",
      " - 0s - loss: 0.5562 - acc: 0.6667\n",
      "Epoch 40/300\n",
      " - 0s - loss: 0.5517 - acc: 0.6667\n",
      "Epoch 41/300\n",
      " - 0s - loss: 0.5472 - acc: 0.6667\n",
      "Epoch 42/300\n",
      " - 0s - loss: 0.5428 - acc: 0.6667\n",
      "Epoch 43/300\n",
      " - 0s - loss: 0.5384 - acc: 0.6800\n",
      "Epoch 44/300\n",
      " - 0s - loss: 0.5343 - acc: 0.6800\n",
      "Epoch 45/300\n",
      " - 0s - loss: 0.5300 - acc: 0.6800\n",
      "Epoch 46/300\n",
      " - 0s - loss: 0.5264 - acc: 0.6800\n",
      "Epoch 47/300\n",
      " - 0s - loss: 0.5225 - acc: 0.6933\n",
      "Epoch 48/300\n",
      " - 0s - loss: 0.5187 - acc: 0.7067\n",
      "Epoch 49/300\n",
      " - 0s - loss: 0.5154 - acc: 0.7200\n",
      "Epoch 50/300\n",
      " - 0s - loss: 0.5114 - acc: 0.7200\n",
      "Epoch 51/300\n",
      " - 0s - loss: 0.5078 - acc: 0.7200\n",
      "Epoch 52/300\n",
      " - 0s - loss: 0.5043 - acc: 0.7333\n",
      "Epoch 53/300\n",
      " - 0s - loss: 0.5009 - acc: 0.7333\n",
      "Epoch 54/300\n",
      " - 0s - loss: 0.4972 - acc: 0.7333\n",
      "Epoch 55/300\n",
      " - 0s - loss: 0.4937 - acc: 0.7467\n",
      "Epoch 56/300\n",
      " - 0s - loss: 0.4904 - acc: 0.7600\n",
      "Epoch 57/300\n",
      " - 0s - loss: 0.4870 - acc: 0.7600\n",
      "Epoch 58/300\n",
      " - 0s - loss: 0.4836 - acc: 0.7600\n",
      "Epoch 59/300\n",
      " - 0s - loss: 0.4806 - acc: 0.7600\n",
      "Epoch 60/300\n",
      " - 0s - loss: 0.4771 - acc: 0.7600\n",
      "Epoch 61/300\n",
      " - 0s - loss: 0.4741 - acc: 0.7600\n",
      "Epoch 62/300\n",
      " - 0s - loss: 0.4707 - acc: 0.7600\n",
      "Epoch 63/300\n",
      " - 0s - loss: 0.4675 - acc: 0.7600\n",
      "Epoch 64/300\n",
      " - 0s - loss: 0.4643 - acc: 0.7600\n",
      "Epoch 65/300\n",
      " - 0s - loss: 0.4611 - acc: 0.7600\n",
      "Epoch 66/300\n",
      " - 0s - loss: 0.4578 - acc: 0.7600\n",
      "Epoch 67/300\n",
      " - 0s - loss: 0.4547 - acc: 0.7600\n",
      "Epoch 68/300\n",
      " - 0s - loss: 0.4515 - acc: 0.7600\n",
      "Epoch 69/300\n",
      " - 0s - loss: 0.4483 - acc: 0.7600\n",
      "Epoch 70/300\n",
      " - 0s - loss: 0.4452 - acc: 0.7600\n",
      "Epoch 71/300\n",
      " - 0s - loss: 0.4423 - acc: 0.7600\n",
      "Epoch 72/300\n",
      " - 0s - loss: 0.4391 - acc: 0.7600\n",
      "Epoch 73/300\n",
      " - 0s - loss: 0.4362 - acc: 0.7600\n",
      "Epoch 74/300\n",
      " - 0s - loss: 0.4330 - acc: 0.7600\n",
      "Epoch 75/300\n",
      " - 0s - loss: 0.4299 - acc: 0.7600\n",
      "Epoch 76/300\n",
      " - 0s - loss: 0.4268 - acc: 0.7733\n",
      "Epoch 77/300\n",
      " - 0s - loss: 0.4238 - acc: 0.7733\n",
      "Epoch 78/300\n",
      " - 0s - loss: 0.4207 - acc: 0.7733\n",
      "Epoch 79/300\n",
      " - 0s - loss: 0.4177 - acc: 0.7733\n",
      "Epoch 80/300\n",
      " - 0s - loss: 0.4149 - acc: 0.7733\n",
      "Epoch 81/300\n",
      " - 0s - loss: 0.4121 - acc: 0.7733\n",
      "Epoch 82/300\n",
      " - 0s - loss: 0.4094 - acc: 0.7867\n",
      "Epoch 83/300\n",
      " - 0s - loss: 0.4066 - acc: 0.7867\n",
      "Epoch 84/300\n",
      " - 0s - loss: 0.4041 - acc: 0.7867\n",
      "Epoch 85/300\n",
      " - 0s - loss: 0.4013 - acc: 0.7867\n",
      "Epoch 86/300\n",
      " - 0s - loss: 0.3987 - acc: 0.7867\n",
      "Epoch 87/300\n",
      " - 0s - loss: 0.3961 - acc: 0.7867\n",
      "Epoch 88/300\n",
      " - 0s - loss: 0.3937 - acc: 0.7867\n",
      "Epoch 89/300\n",
      " - 0s - loss: 0.3911 - acc: 0.7867\n",
      "Epoch 90/300\n",
      " - 0s - loss: 0.3886 - acc: 0.7867\n",
      "Epoch 91/300\n",
      " - 0s - loss: 0.3861 - acc: 0.7867\n",
      "Epoch 92/300\n",
      " - 0s - loss: 0.3836 - acc: 0.7867\n",
      "Epoch 93/300\n",
      " - 0s - loss: 0.3812 - acc: 0.7867\n",
      "Epoch 94/300\n",
      " - 0s - loss: 0.3786 - acc: 0.7867\n",
      "Epoch 95/300\n",
      " - 0s - loss: 0.3761 - acc: 0.7867\n",
      "Epoch 96/300\n",
      " - 0s - loss: 0.3736 - acc: 0.8000\n",
      "Epoch 97/300\n",
      " - 0s - loss: 0.3712 - acc: 0.8000\n",
      "Epoch 98/300\n",
      " - 0s - loss: 0.3687 - acc: 0.8000\n",
      "Epoch 99/300\n",
      " - 0s - loss: 0.3661 - acc: 0.8000\n",
      "Epoch 100/300\n",
      " - 0s - loss: 0.3639 - acc: 0.8000\n",
      "Epoch 101/300\n",
      " - 0s - loss: 0.3615 - acc: 0.8000\n",
      "Epoch 102/300\n",
      " - 0s - loss: 0.3592 - acc: 0.8267\n",
      "Epoch 103/300\n",
      " - 0s - loss: 0.3571 - acc: 0.8267\n",
      "Epoch 104/300\n",
      " - 0s - loss: 0.3550 - acc: 0.8267\n",
      "Epoch 105/300\n",
      " - 0s - loss: 0.3529 - acc: 0.8267\n",
      "Epoch 106/300\n",
      " - 0s - loss: 0.3508 - acc: 0.8267\n",
      "Epoch 107/300\n",
      " - 0s - loss: 0.3488 - acc: 0.8267\n",
      "Epoch 108/300\n",
      " - 0s - loss: 0.3468 - acc: 0.8400\n",
      "Epoch 109/300\n",
      " - 0s - loss: 0.3447 - acc: 0.8400\n",
      "Epoch 110/300\n",
      " - 0s - loss: 0.3427 - acc: 0.8400\n",
      "Epoch 111/300\n",
      " - 0s - loss: 0.3407 - acc: 0.8400\n",
      "Epoch 112/300\n",
      " - 0s - loss: 0.3387 - acc: 0.8533\n",
      "Epoch 113/300\n",
      " - 0s - loss: 0.3366 - acc: 0.8533\n",
      "Epoch 114/300\n",
      " - 0s - loss: 0.3346 - acc: 0.8533\n",
      "Epoch 115/300\n",
      " - 0s - loss: 0.3325 - acc: 0.8533\n",
      "Epoch 116/300\n",
      " - 0s - loss: 0.3307 - acc: 0.8533\n",
      "Epoch 117/300\n",
      " - 0s - loss: 0.3287 - acc: 0.8533\n",
      "Epoch 118/300\n",
      " - 0s - loss: 0.3268 - acc: 0.8533\n",
      "Epoch 119/300\n",
      " - 0s - loss: 0.3248 - acc: 0.8533\n",
      "Epoch 120/300\n",
      " - 0s - loss: 0.3229 - acc: 0.8533\n",
      "Epoch 121/300\n",
      " - 0s - loss: 0.3210 - acc: 0.8533\n",
      "Epoch 122/300\n",
      " - 0s - loss: 0.3192 - acc: 0.8533\n",
      "Epoch 123/300\n",
      " - 0s - loss: 0.3172 - acc: 0.8533\n",
      "Epoch 124/300\n",
      " - 0s - loss: 0.3155 - acc: 0.8533\n",
      "Epoch 125/300\n",
      " - 0s - loss: 0.3136 - acc: 0.8533\n",
      "Epoch 126/300\n",
      " - 0s - loss: 0.3118 - acc: 0.8533\n",
      "Epoch 127/300\n",
      " - 0s - loss: 0.3100 - acc: 0.8533\n",
      "Epoch 128/300\n",
      " - 0s - loss: 0.3082 - acc: 0.8667\n",
      "Epoch 129/300\n",
      " - 0s - loss: 0.3066 - acc: 0.8667\n",
      "Epoch 130/300\n",
      " - 0s - loss: 0.3047 - acc: 0.8800\n",
      "Epoch 131/300\n",
      " - 0s - loss: 0.3031 - acc: 0.8800\n",
      "Epoch 132/300\n",
      " - 0s - loss: 0.3015 - acc: 0.8800\n",
      "Epoch 133/300\n",
      " - 0s - loss: 0.2996 - acc: 0.8933\n",
      "Epoch 134/300\n",
      " - 0s - loss: 0.2980 - acc: 0.8933\n",
      "Epoch 135/300\n",
      " - 0s - loss: 0.2965 - acc: 0.8933\n",
      "Epoch 136/300\n",
      " - 0s - loss: 0.2948 - acc: 0.8933\n",
      "Epoch 137/300\n",
      " - 0s - loss: 0.2933 - acc: 0.8933\n",
      "Epoch 138/300\n",
      " - 0s - loss: 0.2916 - acc: 0.8933\n",
      "Epoch 139/300\n",
      " - 0s - loss: 0.2901 - acc: 0.8933\n",
      "Epoch 140/300\n",
      " - 0s - loss: 0.2885 - acc: 0.9067\n",
      "Epoch 141/300\n",
      " - 0s - loss: 0.2870 - acc: 0.9067\n",
      "Epoch 142/300\n",
      " - 0s - loss: 0.2854 - acc: 0.9200\n",
      "Epoch 143/300\n",
      " - 0s - loss: 0.2839 - acc: 0.9200\n",
      "Epoch 144/300\n",
      " - 0s - loss: 0.2824 - acc: 0.9200\n",
      "Epoch 145/300\n",
      " - 0s - loss: 0.2808 - acc: 0.9333\n",
      "Epoch 146/300\n",
      " - 0s - loss: 0.2792 - acc: 0.9333\n",
      "Epoch 147/300\n",
      " - 0s - loss: 0.2777 - acc: 0.9333\n",
      "Epoch 148/300\n",
      " - 0s - loss: 0.2760 - acc: 0.9333\n",
      "Epoch 149/300\n",
      " - 0s - loss: 0.2745 - acc: 0.9333\n",
      "Epoch 150/300\n",
      " - 0s - loss: 0.2729 - acc: 0.9333\n",
      "Epoch 151/300\n",
      " - 0s - loss: 0.2713 - acc: 0.9333\n",
      "Epoch 152/300\n",
      " - 0s - loss: 0.2698 - acc: 0.9333\n",
      "Epoch 153/300\n",
      " - 0s - loss: 0.2681 - acc: 0.9333\n",
      "Epoch 154/300\n",
      " - 0s - loss: 0.2666 - acc: 0.9333\n",
      "Epoch 155/300\n",
      " - 0s - loss: 0.2652 - acc: 0.9333\n",
      "Epoch 156/300\n",
      " - 0s - loss: 0.2638 - acc: 0.9467\n",
      "Epoch 157/300\n",
      " - 0s - loss: 0.2622 - acc: 0.9467\n",
      "Epoch 158/300\n",
      " - 0s - loss: 0.2609 - acc: 0.9467\n",
      "Epoch 159/300\n",
      " - 0s - loss: 0.2594 - acc: 0.9467\n",
      "Epoch 160/300\n",
      " - 0s - loss: 0.2580 - acc: 0.9467\n",
      "Epoch 161/300\n",
      " - 0s - loss: 0.2565 - acc: 0.9467\n",
      "Epoch 162/300\n",
      " - 0s - loss: 0.2551 - acc: 0.9467\n",
      "Epoch 163/300\n",
      " - 0s - loss: 0.2537 - acc: 0.9467\n",
      "Epoch 164/300\n",
      " - 0s - loss: 0.2524 - acc: 0.9467\n",
      "Epoch 165/300\n",
      " - 0s - loss: 0.2511 - acc: 0.9467\n",
      "Epoch 166/300\n",
      " - 0s - loss: 0.2498 - acc: 0.9467\n",
      "Epoch 167/300\n",
      " - 0s - loss: 0.2485 - acc: 0.9467\n",
      "Epoch 168/300\n",
      " - 0s - loss: 0.2472 - acc: 0.9467\n",
      "Epoch 169/300\n",
      " - 0s - loss: 0.2459 - acc: 0.9467\n",
      "Epoch 170/300\n",
      " - 0s - loss: 0.2446 - acc: 0.9467\n"
     ]
    },
    {
     "name": "stdout",
     "output_type": "stream",
     "text": [
      "Epoch 171/300\n",
      " - 0s - loss: 0.2434 - acc: 0.9467\n",
      "Epoch 172/300\n",
      " - 0s - loss: 0.2421 - acc: 0.9467\n",
      "Epoch 173/300\n",
      " - 0s - loss: 0.2409 - acc: 0.9467\n",
      "Epoch 174/300\n",
      " - 0s - loss: 0.2396 - acc: 0.9467\n",
      "Epoch 175/300\n",
      " - 0s - loss: 0.2383 - acc: 0.9467\n",
      "Epoch 176/300\n",
      " - 0s - loss: 0.2370 - acc: 0.9467\n",
      "Epoch 177/300\n",
      " - 0s - loss: 0.2358 - acc: 0.9467\n",
      "Epoch 178/300\n",
      " - 0s - loss: 0.2345 - acc: 0.9467\n",
      "Epoch 179/300\n",
      " - 0s - loss: 0.2333 - acc: 0.9467\n",
      "Epoch 180/300\n",
      " - 0s - loss: 0.2321 - acc: 0.9467\n",
      "Epoch 181/300\n",
      " - 0s - loss: 0.2309 - acc: 0.9467\n",
      "Epoch 182/300\n",
      " - 0s - loss: 0.2297 - acc: 0.9467\n",
      "Epoch 183/300\n",
      " - 0s - loss: 0.2286 - acc: 0.9467\n",
      "Epoch 184/300\n",
      " - 0s - loss: 0.2273 - acc: 0.9467\n",
      "Epoch 185/300\n",
      " - 0s - loss: 0.2262 - acc: 0.9467\n",
      "Epoch 186/300\n",
      " - 0s - loss: 0.2250 - acc: 0.9467\n",
      "Epoch 187/300\n",
      " - 0s - loss: 0.2238 - acc: 0.9467\n",
      "Epoch 188/300\n",
      " - 0s - loss: 0.2227 - acc: 0.9467\n",
      "Epoch 189/300\n",
      " - 0s - loss: 0.2216 - acc: 0.9467\n",
      "Epoch 190/300\n",
      " - 0s - loss: 0.2204 - acc: 0.9467\n",
      "Epoch 191/300\n",
      " - 0s - loss: 0.2194 - acc: 0.9467\n",
      "Epoch 192/300\n",
      " - 0s - loss: 0.2183 - acc: 0.9467\n",
      "Epoch 193/300\n",
      " - 0s - loss: 0.2172 - acc: 0.9467\n",
      "Epoch 194/300\n",
      " - 0s - loss: 0.2161 - acc: 0.9467\n",
      "Epoch 195/300\n",
      " - 0s - loss: 0.2151 - acc: 0.9467\n",
      "Epoch 196/300\n",
      " - 0s - loss: 0.2141 - acc: 0.9467\n",
      "Epoch 197/300\n",
      " - 0s - loss: 0.2130 - acc: 0.9467\n",
      "Epoch 198/300\n",
      " - 0s - loss: 0.2121 - acc: 0.9467\n",
      "Epoch 199/300\n",
      " - 0s - loss: 0.2110 - acc: 0.9467\n",
      "Epoch 200/300\n",
      " - 0s - loss: 0.2100 - acc: 0.9467\n",
      "Epoch 201/300\n",
      " - 0s - loss: 0.2091 - acc: 0.9467\n",
      "Epoch 202/300\n",
      " - 0s - loss: 0.2081 - acc: 0.9467\n",
      "Epoch 203/300\n",
      " - 0s - loss: 0.2071 - acc: 0.9467\n",
      "Epoch 204/300\n",
      " - 0s - loss: 0.2062 - acc: 0.9467\n",
      "Epoch 205/300\n",
      " - 0s - loss: 0.2052 - acc: 0.9467\n",
      "Epoch 206/300\n",
      " - 0s - loss: 0.2043 - acc: 0.9467\n",
      "Epoch 207/300\n",
      " - 0s - loss: 0.2034 - acc: 0.9467\n",
      "Epoch 00207: early stopping\n"
     ]
    },
    {
     "data": {
      "text/plain": [
       "Pipeline(memory=None,\n",
       "     steps=[('standardscaler', StandardScaler(copy=True, with_mean=True, with_std=True)), ('kerasclassifier', <keras.wrappers.scikit_learn.KerasClassifier object at 0x000001B9E5B5BF98>)])"
      ]
     },
     "execution_count": 11,
     "metadata": {},
     "output_type": "execute_result"
    }
   ],
   "source": [
    "# Fit (train) the model\n",
    "model.fit(X_train, y_train_categorical)"
   ]
  },
  {
   "cell_type": "markdown",
   "metadata": {
    "slideshow": {
     "slide_type": "slide"
    }
   },
   "source": [
    "## Quantifying the Model\n",
    "We use our testing data to validate our model. This is how we determine the validity of our model (i.e. the ability to predict new and previously unseen data points)"
   ]
  },
  {
   "cell_type": "code",
   "execution_count": 12,
   "metadata": {
    "nbgrader": {
     "grade": false,
     "grade_id": "cell-715f0369813d2b84",
     "locked": false,
     "schema_version": 1,
     "solution": true
    },
    "slideshow": {
     "slide_type": "fragment"
    }
   },
   "outputs": [],
   "source": [
    "# Evaluate the model using the testing data\n",
    "model_accuracy = model.score(X_test, y_test_categorical)"
   ]
  },
  {
   "cell_type": "code",
   "execution_count": 13,
   "metadata": {
    "nbgrader": {
     "grade": false,
     "grade_id": "cell-715f0369813d2b84",
     "locked": false,
     "schema_version": 1,
     "solution": true
    },
    "slideshow": {
     "slide_type": "fragment"
    }
   },
   "outputs": [
    {
     "name": "stdout",
     "output_type": "stream",
     "text": [
      "Accuracy: 0.9200000166893005\n"
     ]
    }
   ],
   "source": [
    "print(f\"Accuracy: {model_accuracy}\")"
   ]
  },
  {
   "cell_type": "markdown",
   "metadata": {},
   "source": [
    "## Making Predictions with new data\n",
    "\n",
    "We can use our trained model to make predictions using `model.predict`"
   ]
  },
  {
   "cell_type": "code",
   "execution_count": 14,
   "metadata": {},
   "outputs": [],
   "source": [
    "import numpy as np\n",
    "new_data = np.array([[0.2, 0.3, 0.4]])"
   ]
  },
  {
   "cell_type": "code",
   "execution_count": 15,
   "metadata": {},
   "outputs": [
    {
     "name": "stdout",
     "output_type": "stream",
     "text": [
      "Predicted class: [1]\n"
     ]
    }
   ],
   "source": [
    "print(f\"Predicted class: {model.predict(new_data)}\")"
   ]
  },
  {
   "cell_type": "code",
   "execution_count": null,
   "metadata": {},
   "outputs": [],
   "source": []
  }
 ],
 "metadata": {
  "anaconda-cloud": {},
  "kernelspec": {
   "display_name": "Python [default]",
   "language": "python",
   "name": "python3"
  },
  "language_info": {
   "codemirror_mode": {
    "name": "ipython",
    "version": 3
   },
   "file_extension": ".py",
   "mimetype": "text/x-python",
   "name": "python",
   "nbconvert_exporter": "python",
   "pygments_lexer": "ipython3",
   "version": "3.6.5"
  },
  "varInspector": {
   "cols": {
    "lenName": 16,
    "lenType": 16,
    "lenVar": 40
   },
   "kernels_config": {
    "python": {
     "delete_cmd_postfix": "",
     "delete_cmd_prefix": "del ",
     "library": "var_list.py",
     "varRefreshCmd": "print(var_dic_list())"
    },
    "r": {
     "delete_cmd_postfix": ") ",
     "delete_cmd_prefix": "rm(",
     "library": "var_list.r",
     "varRefreshCmd": "cat(var_dic_list()) "
    }
   },
   "types_to_exclude": [
    "module",
    "function",
    "builtin_function_or_method",
    "instance",
    "_Feature"
   ],
   "window_display": false
  }
 },
 "nbformat": 4,
 "nbformat_minor": 2
}
